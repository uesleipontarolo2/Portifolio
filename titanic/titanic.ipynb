{
 "cells": [
  {
   "cell_type": "markdown",
   "id": "1a8cc878-558d-4db3-bb53-18325763ed1c",
   "metadata": {},
   "source": [
    "# Titanic - Machine Learning from Disaster\n",
    "\n",
    "![titanic](https://upload.wikimedia.org/wikipedia/commons/thumb/f/fd/RMS_Titanic_3.jpg/800px-RMS_Titanic_3.jpg)\n",
    "\n",
    "O naufrágio do RMS Titanic é um dos eventos mais marcantes da história marítima, tanto pela sua magnitude quanto pelas tragédias que desencadeou.\n",
    "\n",
    "Em 15 de abril de 1912, durante sua viagem inaugural, o Titanic, conhecido como \"inafundável\", colidiu com um iceberg e afundou. A falta de botes salva-vidas suficientes a bordo contribuiu para a morte de 1.502 das 2.224 pessoas entre passageiros e tripulantes.\n",
    "\n",
    "Embora a sobrevivência tenha sido parcialmente influenciada pelo acaso, alguns fatores como classe social, idade e gênero parecem ter desempenhado um papel importante na probabilidade de sobrevivência de determinados grupos.\n",
    "\n",
    "Neste desafio, o objetivo é desenvolver modelos de machine learning capazes de prever quais passageiros tinham maior probabilidade de sobreviver ao naufrágio. Este projeto busca explorar padrões nos dados e responder à pergunta: **\"Quais fatores mais influenciaram as chances de sobrevivência dos passageiros?\"**\n",
    "\n",
    "\n",
    "> **Nota**: Este material é apresentado com fins didáticos, simulando uma aula sobre os conceitos de modelagem preditiva e machine learning.\n",
    "\n",
    "\n",
    "\n",
    "## Dicionário de Dados\n",
    "\n",
    "| Variável   | Descrição                                                                                       | Notas                                                                                  |\n",
    "|------------|--------------------------------------------------------------------------------------------------|----------------------------------------------------------------------------------------|\n",
    "| `pclass`   | Classe socioeconômica dos passageiros (proxy para status socioeconômico - SES)                    | 1st = Upper (Alta), 2nd = Middle (Média), 3rd = Lower (Baixa)                          |\n",
    "| `age`      | Idade do passageiro                                                                               | Idade fracionária para menores de 1 ano. Idade estimada é apresentada no formato xx.5   |\n",
    "| `sibsp`    | Número de irmãos/esposas a bordo do Titanic                                                       | Irmão = irmão, irmã, meio-irmão, meia-irmã. Esposa = marido, mulher (exclui amantes e noivos) |\n",
    "| `parch`    | Número de pais/filhos a bordo do Titanic                                                          | Pai = mãe, pai. Filho = filha, filho, enteada, enteado. Algumas crianças viajaram apenas com babás, logo `parch=0` para elas |\n",
    "\n",
    "\n",
    "## Dataset\n",
    "O dataset utilizado é composto pelas seguintes variáveis principais:\n",
    "\n",
    "| Coluna      | Descrição                                                                                       |\n",
    "|-------------|-------------------------------------------------------------------------------------------------|\n",
    "| `PassengerId` | Um identificador único para cada passageiro.                                                    |\n",
    "| `Survived`    | Indica se o passageiro sobreviveu (1) ou não (0). Esta é a variável que tentaremos prever.     |\n",
    "| `Pclass`      | A classe socioeconômica do passageiro: 1 = Primeira Classe, 2 = Segunda Classe, 3 = Terceira Classe. |\n",
    "| `Name`        | O nome completo do passageiro.                                                                 |\n",
    "| `Sex`         | O gênero do passageiro: masculino ou feminino.                                                 |\n",
    "| `Age`         | A idade do passageiro. Idades fracionadas indicam bebês menores de um ano.                     |\n",
    "| `SibSp`       | Número de irmãos e esposas a bordo.                                                            |\n",
    "| `Parch`       | Número de pais e filhos a bordo.                                                               |\n",
    "| `Ticket`      | O número do bilhete de viagem.                                                                 |\n",
    "| `Fare`        | O valor da tarifa paga pelo passageiro.                                                        |\n",
    "| `Cabin`       | O número da cabine, quando disponível.                                                         |\n",
    "| `Embarked`    | O porto de embarque: C = Cherbourg, Q = Queenstown, S = Southampton.                           |\n",
    "\n",
    "---"
   ]
  },
  {
   "cell_type": "code",
   "execution_count": 1,
   "id": "ff2097b5-3f11-453c-b5f1-292bb19239e7",
   "metadata": {},
   "outputs": [],
   "source": [
    "#Imports\n",
    "import numpy as np\n",
    "import pandas as pd\n",
    "import seaborn as sns\n",
    "import matplotlib.pyplot as plt\n",
    "%matplotlib inline\n",
    "\n",
    "from sklearn.preprocessing import OneHotEncoder\n",
    "from sklearn.model_selection import train_test_split\n",
    "\n",
    "from sklearn.ensemble import (AdaBoostClassifier,\n",
    "                              GradientBoostingClassifier,\n",
    "                              ExtraTreesClassifier,\n",
    "                              RandomForestClassifier)\n",
    "\n",
    "from sklearn.linear_model import LogisticRegression\n",
    "from sklearn.model_selection import GridSearchCV\n",
    "from sklearn.svm import SVC, LinearSVC\n",
    "from sklearn.neighbors import KNeighborsClassifier\n",
    "from sklearn.naive_bayes import GaussianNB\n",
    "from sklearn.linear_model import Perceptron\n",
    "from sklearn.linear_model import SGDClassifier\n",
    "from sklearn.tree import DecisionTreeClassifier\n",
    "from sklearn.preprocessing import StandardScaler\n",
    "from sklearn.metrics import accuracy_score, confusion_matrix, classification_report\n",
    "from sklearn.model_selection import cross_val_score\n",
    "from sklearn.model_selection import RandomizedSearchCV\n",
    "from sklearn.ensemble import RandomForestClassifier\n",
    "from sklearn.neural_network import MLPClassifier\n",
    "\n",
    "\n",
    "\n",
    "import warnings\n",
    "warnings.filterwarnings('ignore')"
   ]
  },
  {
   "cell_type": "code",
   "execution_count": 2,
   "id": "4f401f30-bf53-44ae-9809-b73dbd8e01d7",
   "metadata": {},
   "outputs": [],
   "source": [
    "#dataset\n",
    "df_train = pd.read_csv('dataset/train.csv')\n",
    "df_test = pd.read_csv('dataset/test.csv')\n"
   ]
  },
  {
   "cell_type": "code",
   "execution_count": 3,
   "id": "133cc235-c91f-490c-8645-5b0b5a489107",
   "metadata": {},
   "outputs": [
    {
     "data": {
      "text/html": [
       "<div>\n",
       "<style scoped>\n",
       "    .dataframe tbody tr th:only-of-type {\n",
       "        vertical-align: middle;\n",
       "    }\n",
       "\n",
       "    .dataframe tbody tr th {\n",
       "        vertical-align: top;\n",
       "    }\n",
       "\n",
       "    .dataframe thead th {\n",
       "        text-align: right;\n",
       "    }\n",
       "</style>\n",
       "<table border=\"1\" class=\"dataframe\">\n",
       "  <thead>\n",
       "    <tr style=\"text-align: right;\">\n",
       "      <th></th>\n",
       "      <th>PassengerId</th>\n",
       "      <th>Survived</th>\n",
       "      <th>Pclass</th>\n",
       "      <th>Name</th>\n",
       "      <th>Sex</th>\n",
       "      <th>Age</th>\n",
       "      <th>SibSp</th>\n",
       "      <th>Parch</th>\n",
       "      <th>Ticket</th>\n",
       "      <th>Fare</th>\n",
       "      <th>Cabin</th>\n",
       "      <th>Embarked</th>\n",
       "    </tr>\n",
       "  </thead>\n",
       "  <tbody>\n",
       "    <tr>\n",
       "      <th>0</th>\n",
       "      <td>1</td>\n",
       "      <td>0</td>\n",
       "      <td>3</td>\n",
       "      <td>Braund, Mr. Owen Harris</td>\n",
       "      <td>male</td>\n",
       "      <td>22.0</td>\n",
       "      <td>1</td>\n",
       "      <td>0</td>\n",
       "      <td>A/5 21171</td>\n",
       "      <td>7.2500</td>\n",
       "      <td>NaN</td>\n",
       "      <td>S</td>\n",
       "    </tr>\n",
       "    <tr>\n",
       "      <th>1</th>\n",
       "      <td>2</td>\n",
       "      <td>1</td>\n",
       "      <td>1</td>\n",
       "      <td>Cumings, Mrs. John Bradley (Florence Briggs Th...</td>\n",
       "      <td>female</td>\n",
       "      <td>38.0</td>\n",
       "      <td>1</td>\n",
       "      <td>0</td>\n",
       "      <td>PC 17599</td>\n",
       "      <td>71.2833</td>\n",
       "      <td>C85</td>\n",
       "      <td>C</td>\n",
       "    </tr>\n",
       "    <tr>\n",
       "      <th>2</th>\n",
       "      <td>3</td>\n",
       "      <td>1</td>\n",
       "      <td>3</td>\n",
       "      <td>Heikkinen, Miss. Laina</td>\n",
       "      <td>female</td>\n",
       "      <td>26.0</td>\n",
       "      <td>0</td>\n",
       "      <td>0</td>\n",
       "      <td>STON/O2. 3101282</td>\n",
       "      <td>7.9250</td>\n",
       "      <td>NaN</td>\n",
       "      <td>S</td>\n",
       "    </tr>\n",
       "    <tr>\n",
       "      <th>3</th>\n",
       "      <td>4</td>\n",
       "      <td>1</td>\n",
       "      <td>1</td>\n",
       "      <td>Futrelle, Mrs. Jacques Heath (Lily May Peel)</td>\n",
       "      <td>female</td>\n",
       "      <td>35.0</td>\n",
       "      <td>1</td>\n",
       "      <td>0</td>\n",
       "      <td>113803</td>\n",
       "      <td>53.1000</td>\n",
       "      <td>C123</td>\n",
       "      <td>S</td>\n",
       "    </tr>\n",
       "    <tr>\n",
       "      <th>4</th>\n",
       "      <td>5</td>\n",
       "      <td>0</td>\n",
       "      <td>3</td>\n",
       "      <td>Allen, Mr. William Henry</td>\n",
       "      <td>male</td>\n",
       "      <td>35.0</td>\n",
       "      <td>0</td>\n",
       "      <td>0</td>\n",
       "      <td>373450</td>\n",
       "      <td>8.0500</td>\n",
       "      <td>NaN</td>\n",
       "      <td>S</td>\n",
       "    </tr>\n",
       "  </tbody>\n",
       "</table>\n",
       "</div>"
      ],
      "text/plain": [
       "   PassengerId  Survived  Pclass  \\\n",
       "0            1         0       3   \n",
       "1            2         1       1   \n",
       "2            3         1       3   \n",
       "3            4         1       1   \n",
       "4            5         0       3   \n",
       "\n",
       "                                                Name     Sex   Age  SibSp  \\\n",
       "0                            Braund, Mr. Owen Harris    male  22.0      1   \n",
       "1  Cumings, Mrs. John Bradley (Florence Briggs Th...  female  38.0      1   \n",
       "2                             Heikkinen, Miss. Laina  female  26.0      0   \n",
       "3       Futrelle, Mrs. Jacques Heath (Lily May Peel)  female  35.0      1   \n",
       "4                           Allen, Mr. William Henry    male  35.0      0   \n",
       "\n",
       "   Parch            Ticket     Fare Cabin Embarked  \n",
       "0      0         A/5 21171   7.2500   NaN        S  \n",
       "1      0          PC 17599  71.2833   C85        C  \n",
       "2      0  STON/O2. 3101282   7.9250   NaN        S  \n",
       "3      0            113803  53.1000  C123        S  \n",
       "4      0            373450   8.0500   NaN        S  "
      ]
     },
     "execution_count": 3,
     "metadata": {},
     "output_type": "execute_result"
    }
   ],
   "source": [
    "df_train.head()"
   ]
  },
  {
   "cell_type": "code",
   "execution_count": 4,
   "id": "b15cc12e-1e09-46a8-ad12-81dbad60d895",
   "metadata": {},
   "outputs": [
    {
     "data": {
      "text/html": [
       "<div>\n",
       "<style scoped>\n",
       "    .dataframe tbody tr th:only-of-type {\n",
       "        vertical-align: middle;\n",
       "    }\n",
       "\n",
       "    .dataframe tbody tr th {\n",
       "        vertical-align: top;\n",
       "    }\n",
       "\n",
       "    .dataframe thead th {\n",
       "        text-align: right;\n",
       "    }\n",
       "</style>\n",
       "<table border=\"1\" class=\"dataframe\">\n",
       "  <thead>\n",
       "    <tr style=\"text-align: right;\">\n",
       "      <th></th>\n",
       "      <th>PassengerId</th>\n",
       "      <th>Pclass</th>\n",
       "      <th>Name</th>\n",
       "      <th>Sex</th>\n",
       "      <th>Age</th>\n",
       "      <th>SibSp</th>\n",
       "      <th>Parch</th>\n",
       "      <th>Ticket</th>\n",
       "      <th>Fare</th>\n",
       "      <th>Cabin</th>\n",
       "      <th>Embarked</th>\n",
       "    </tr>\n",
       "  </thead>\n",
       "  <tbody>\n",
       "    <tr>\n",
       "      <th>0</th>\n",
       "      <td>892</td>\n",
       "      <td>3</td>\n",
       "      <td>Kelly, Mr. James</td>\n",
       "      <td>male</td>\n",
       "      <td>34.5</td>\n",
       "      <td>0</td>\n",
       "      <td>0</td>\n",
       "      <td>330911</td>\n",
       "      <td>7.8292</td>\n",
       "      <td>NaN</td>\n",
       "      <td>Q</td>\n",
       "    </tr>\n",
       "    <tr>\n",
       "      <th>1</th>\n",
       "      <td>893</td>\n",
       "      <td>3</td>\n",
       "      <td>Wilkes, Mrs. James (Ellen Needs)</td>\n",
       "      <td>female</td>\n",
       "      <td>47.0</td>\n",
       "      <td>1</td>\n",
       "      <td>0</td>\n",
       "      <td>363272</td>\n",
       "      <td>7.0000</td>\n",
       "      <td>NaN</td>\n",
       "      <td>S</td>\n",
       "    </tr>\n",
       "    <tr>\n",
       "      <th>2</th>\n",
       "      <td>894</td>\n",
       "      <td>2</td>\n",
       "      <td>Myles, Mr. Thomas Francis</td>\n",
       "      <td>male</td>\n",
       "      <td>62.0</td>\n",
       "      <td>0</td>\n",
       "      <td>0</td>\n",
       "      <td>240276</td>\n",
       "      <td>9.6875</td>\n",
       "      <td>NaN</td>\n",
       "      <td>Q</td>\n",
       "    </tr>\n",
       "    <tr>\n",
       "      <th>3</th>\n",
       "      <td>895</td>\n",
       "      <td>3</td>\n",
       "      <td>Wirz, Mr. Albert</td>\n",
       "      <td>male</td>\n",
       "      <td>27.0</td>\n",
       "      <td>0</td>\n",
       "      <td>0</td>\n",
       "      <td>315154</td>\n",
       "      <td>8.6625</td>\n",
       "      <td>NaN</td>\n",
       "      <td>S</td>\n",
       "    </tr>\n",
       "    <tr>\n",
       "      <th>4</th>\n",
       "      <td>896</td>\n",
       "      <td>3</td>\n",
       "      <td>Hirvonen, Mrs. Alexander (Helga E Lindqvist)</td>\n",
       "      <td>female</td>\n",
       "      <td>22.0</td>\n",
       "      <td>1</td>\n",
       "      <td>1</td>\n",
       "      <td>3101298</td>\n",
       "      <td>12.2875</td>\n",
       "      <td>NaN</td>\n",
       "      <td>S</td>\n",
       "    </tr>\n",
       "  </tbody>\n",
       "</table>\n",
       "</div>"
      ],
      "text/plain": [
       "   PassengerId  Pclass                                          Name     Sex  \\\n",
       "0          892       3                              Kelly, Mr. James    male   \n",
       "1          893       3              Wilkes, Mrs. James (Ellen Needs)  female   \n",
       "2          894       2                     Myles, Mr. Thomas Francis    male   \n",
       "3          895       3                              Wirz, Mr. Albert    male   \n",
       "4          896       3  Hirvonen, Mrs. Alexander (Helga E Lindqvist)  female   \n",
       "\n",
       "    Age  SibSp  Parch   Ticket     Fare Cabin Embarked  \n",
       "0  34.5      0      0   330911   7.8292   NaN        Q  \n",
       "1  47.0      1      0   363272   7.0000   NaN        S  \n",
       "2  62.0      0      0   240276   9.6875   NaN        Q  \n",
       "3  27.0      0      0   315154   8.6625   NaN        S  \n",
       "4  22.0      1      1  3101298  12.2875   NaN        S  "
      ]
     },
     "execution_count": 4,
     "metadata": {},
     "output_type": "execute_result"
    }
   ],
   "source": [
    "df_test.head()"
   ]
  },
  {
   "cell_type": "code",
   "execution_count": 5,
   "id": "a0615884-cc5e-4375-b489-e50400f04575",
   "metadata": {},
   "outputs": [
    {
     "data": {
      "text/plain": [
       "((891, 12), (418, 11))"
      ]
     },
     "execution_count": 5,
     "metadata": {},
     "output_type": "execute_result"
    }
   ],
   "source": [
    "df_train.shape, df_test.shape"
   ]
  },
  {
   "cell_type": "markdown",
   "id": "e595f354-e160-4e40-be19-05b7a4a772b2",
   "metadata": {},
   "source": [
    "Antes de iniciar a análise descritiva (EDA), pode-se observar que a coluna `PassengerID` atua como um identificador único para cada passageiro, não possuindo valor preditivo para os modelos que serão utilizados neste projeto. Portanto, esta coluna será transformada no índice do DataFrame com o objetivo de simplificar a manipulação dos dados, organizar e trazer maior legibilidade às operações subsequentes.\n",
    "\n",
    "Outro ponto será a unificação dos dois DataFrames `train` e `test` em um único conjunto de dados, para permitir a aplicação uniforme de técnicas de pré-processamento e tratamento de dados, garantindo que as mesmas transformações sejam implementadas em ambas as seções do conjunto. A separação entre os dados de treinamento e validação será realizada posteriormente durante a construção do modelo preditivo."
   ]
  },
  {
   "cell_type": "code",
   "execution_count": 6,
   "id": "9afd4600-7c33-4fc1-a94c-7e66be7b945c",
   "metadata": {},
   "outputs": [
    {
     "data": {
      "text/html": [
       "<div>\n",
       "<style scoped>\n",
       "    .dataframe tbody tr th:only-of-type {\n",
       "        vertical-align: middle;\n",
       "    }\n",
       "\n",
       "    .dataframe tbody tr th {\n",
       "        vertical-align: top;\n",
       "    }\n",
       "\n",
       "    .dataframe thead th {\n",
       "        text-align: right;\n",
       "    }\n",
       "</style>\n",
       "<table border=\"1\" class=\"dataframe\">\n",
       "  <thead>\n",
       "    <tr style=\"text-align: right;\">\n",
       "      <th></th>\n",
       "      <th>Age</th>\n",
       "      <th>Cabin</th>\n",
       "      <th>Embarked</th>\n",
       "      <th>Fare</th>\n",
       "      <th>Name</th>\n",
       "      <th>Parch</th>\n",
       "      <th>Pclass</th>\n",
       "      <th>Sex</th>\n",
       "      <th>SibSp</th>\n",
       "      <th>Survived</th>\n",
       "      <th>Ticket</th>\n",
       "    </tr>\n",
       "    <tr>\n",
       "      <th>PassengerId</th>\n",
       "      <th></th>\n",
       "      <th></th>\n",
       "      <th></th>\n",
       "      <th></th>\n",
       "      <th></th>\n",
       "      <th></th>\n",
       "      <th></th>\n",
       "      <th></th>\n",
       "      <th></th>\n",
       "      <th></th>\n",
       "      <th></th>\n",
       "    </tr>\n",
       "  </thead>\n",
       "  <tbody>\n",
       "    <tr>\n",
       "      <th>1</th>\n",
       "      <td>22.0</td>\n",
       "      <td>NaN</td>\n",
       "      <td>S</td>\n",
       "      <td>7.2500</td>\n",
       "      <td>Braund, Mr. Owen Harris</td>\n",
       "      <td>0</td>\n",
       "      <td>3</td>\n",
       "      <td>male</td>\n",
       "      <td>1</td>\n",
       "      <td>0.0</td>\n",
       "      <td>A/5 21171</td>\n",
       "    </tr>\n",
       "    <tr>\n",
       "      <th>2</th>\n",
       "      <td>38.0</td>\n",
       "      <td>C85</td>\n",
       "      <td>C</td>\n",
       "      <td>71.2833</td>\n",
       "      <td>Cumings, Mrs. John Bradley (Florence Briggs Th...</td>\n",
       "      <td>0</td>\n",
       "      <td>1</td>\n",
       "      <td>female</td>\n",
       "      <td>1</td>\n",
       "      <td>1.0</td>\n",
       "      <td>PC 17599</td>\n",
       "    </tr>\n",
       "    <tr>\n",
       "      <th>3</th>\n",
       "      <td>26.0</td>\n",
       "      <td>NaN</td>\n",
       "      <td>S</td>\n",
       "      <td>7.9250</td>\n",
       "      <td>Heikkinen, Miss. Laina</td>\n",
       "      <td>0</td>\n",
       "      <td>3</td>\n",
       "      <td>female</td>\n",
       "      <td>0</td>\n",
       "      <td>1.0</td>\n",
       "      <td>STON/O2. 3101282</td>\n",
       "    </tr>\n",
       "    <tr>\n",
       "      <th>4</th>\n",
       "      <td>35.0</td>\n",
       "      <td>C123</td>\n",
       "      <td>S</td>\n",
       "      <td>53.1000</td>\n",
       "      <td>Futrelle, Mrs. Jacques Heath (Lily May Peel)</td>\n",
       "      <td>0</td>\n",
       "      <td>1</td>\n",
       "      <td>female</td>\n",
       "      <td>1</td>\n",
       "      <td>1.0</td>\n",
       "      <td>113803</td>\n",
       "    </tr>\n",
       "    <tr>\n",
       "      <th>5</th>\n",
       "      <td>35.0</td>\n",
       "      <td>NaN</td>\n",
       "      <td>S</td>\n",
       "      <td>8.0500</td>\n",
       "      <td>Allen, Mr. William Henry</td>\n",
       "      <td>0</td>\n",
       "      <td>3</td>\n",
       "      <td>male</td>\n",
       "      <td>0</td>\n",
       "      <td>0.0</td>\n",
       "      <td>373450</td>\n",
       "    </tr>\n",
       "  </tbody>\n",
       "</table>\n",
       "</div>"
      ],
      "text/plain": [
       "              Age Cabin Embarked     Fare  \\\n",
       "PassengerId                                 \n",
       "1            22.0   NaN        S   7.2500   \n",
       "2            38.0   C85        C  71.2833   \n",
       "3            26.0   NaN        S   7.9250   \n",
       "4            35.0  C123        S  53.1000   \n",
       "5            35.0   NaN        S   8.0500   \n",
       "\n",
       "                                                          Name  Parch  Pclass  \\\n",
       "PassengerId                                                                     \n",
       "1                                      Braund, Mr. Owen Harris      0       3   \n",
       "2            Cumings, Mrs. John Bradley (Florence Briggs Th...      0       1   \n",
       "3                                       Heikkinen, Miss. Laina      0       3   \n",
       "4                 Futrelle, Mrs. Jacques Heath (Lily May Peel)      0       1   \n",
       "5                                     Allen, Mr. William Henry      0       3   \n",
       "\n",
       "                Sex  SibSp  Survived            Ticket  \n",
       "PassengerId                                             \n",
       "1              male      1       0.0         A/5 21171  \n",
       "2            female      1       1.0          PC 17599  \n",
       "3            female      0       1.0  STON/O2. 3101282  \n",
       "4            female      1       1.0            113803  \n",
       "5              male      0       0.0            373450  "
      ]
     },
     "execution_count": 6,
     "metadata": {},
     "output_type": "execute_result"
    }
   ],
   "source": [
    "#Transformar o PassengerId em index\n",
    "df_train.set_index('PassengerId', inplace=True)\n",
    "df_test.set_index('PassengerId', inplace=True)\n",
    "\n",
    "#Salvar os index para recuperar posteriormente\n",
    "train_idx = df_train.shape[0]\n",
    "test_idx = df_test.shape[0]\n",
    "\n",
    "#Concatenar\n",
    "df_merged = pd.concat([df_train, df_test], sort=True)\n",
    "df_merged.head()"
   ]
  },
  {
   "cell_type": "markdown",
   "id": "d25c38cd-c5ed-43fd-8c74-b817382d3b31",
   "metadata": {},
   "source": [
    "## Análise Exploratória de Dados\n",
    "\n",
    "A EDA será a etapa inicial deste projeto, sendo crucial para a compreensão do comportamento do conjunto de dados. Para isso, serão aplicadas técnicas de estatística descritiva e métodos de visualização para investigar a distribuição, variabilidade e inter-relações entre as variáveis, com o objetivo de identificar padrões, tendências, outliers e possíveis inconsistências nos dados.\n",
    "\n",
    "**Metodologia:** Será utilizada uma combinação de técnicas visuais, como gráficos de barras, histogramas, boxplots e scatterplots, juntamente com estatísticas descritivas clássicas (média, mediana, desvio padrão) e medidas de correlação. Além disso, métodos como análise de componentes principais (PCA) ou clustering podem ser empregados caso seja necessário explorar dimensionalidade ou identificar agrupamentos latentes nos dados."
   ]
  },
  {
   "cell_type": "code",
   "execution_count": 7,
   "id": "ef5872e4-1169-4280-9201-416661dc80c9",
   "metadata": {},
   "outputs": [
    {
     "data": {
      "text/plain": [
       "(1309, 11)"
      ]
     },
     "execution_count": 7,
     "metadata": {},
     "output_type": "execute_result"
    }
   ],
   "source": [
    "df_merged.shape"
   ]
  },
  {
   "cell_type": "code",
   "execution_count": 8,
   "id": "0509923d-82ab-4793-989a-9ce246eb4b5a",
   "metadata": {},
   "outputs": [
    {
     "name": "stdout",
     "output_type": "stream",
     "text": [
      "visão geral dos dados\n",
      "<class 'pandas.core.frame.DataFrame'>\n",
      "Int64Index: 1309 entries, 1 to 1309\n",
      "Data columns (total 11 columns):\n",
      " #   Column    Non-Null Count  Dtype  \n",
      "---  ------    --------------  -----  \n",
      " 0   Age       1046 non-null   float64\n",
      " 1   Cabin     295 non-null    object \n",
      " 2   Embarked  1307 non-null   object \n",
      " 3   Fare      1308 non-null   float64\n",
      " 4   Name      1309 non-null   object \n",
      " 5   Parch     1309 non-null   int64  \n",
      " 6   Pclass    1309 non-null   int64  \n",
      " 7   Sex       1309 non-null   object \n",
      " 8   SibSp     1309 non-null   int64  \n",
      " 9   Survived  891 non-null    float64\n",
      " 10  Ticket    1309 non-null   object \n",
      "dtypes: float64(3), int64(3), object(5)\n",
      "memory usage: 122.7+ KB\n"
     ]
    }
   ],
   "source": [
    "print('visão geral dos dados')\n",
    "df_merged.info()"
   ]
  },
  {
   "cell_type": "code",
   "execution_count": 9,
   "id": "8245bc67-cc6b-4111-8ad1-54e6cf1940ea",
   "metadata": {},
   "outputs": [
    {
     "name": "stdout",
     "output_type": "stream",
     "text": [
      "Quantidade de valores ausentes:\n"
     ]
    },
    {
     "data": {
      "text/plain": [
       "Age          263\n",
       "Cabin       1014\n",
       "Embarked       2\n",
       "Fare           1\n",
       "Name           0\n",
       "Parch          0\n",
       "Pclass         0\n",
       "Sex            0\n",
       "SibSp          0\n",
       "Survived     418\n",
       "Ticket         0\n",
       "dtype: int64"
      ]
     },
     "execution_count": 9,
     "metadata": {},
     "output_type": "execute_result"
    }
   ],
   "source": [
    "print('Quantidade de valores ausentes:')\n",
    "df_merged.isnull().sum()"
   ]
  },
  {
   "cell_type": "markdown",
   "id": "f1e7616b-e1da-47e0-92a4-21400aa1bca0",
   "metadata": {},
   "source": [
    "Excluindo a variável `Survived`, que corresponde à variável dependente do modelo, existem 4 colunas com valores ausentes: `Age`, `Cabin`, `Embarked` e `Fare`. Neste primeiro momento, serão tratadas as variáveis `Embarked` e `Cabin`. As variáveis remanescentes, como `Age` e `Fare`, serão abordadas em etapas subsequentes."
   ]
  },
  {
   "cell_type": "code",
   "execution_count": 10,
   "id": "aefe6f76-1130-406e-be1a-8080d36250b1",
   "metadata": {},
   "outputs": [
    {
     "data": {
      "text/plain": [
       "S    914\n",
       "C    270\n",
       "Q    123\n",
       "Name: Embarked, dtype: int64"
      ]
     },
     "execution_count": 10,
     "metadata": {},
     "output_type": "execute_result"
    }
   ],
   "source": [
    "df_merged['Embarked'].value_counts()"
   ]
  },
  {
   "cell_type": "markdown",
   "id": "aa3bc6cb-fe66-40ba-bbf2-7e40547563c7",
   "metadata": {},
   "source": [
    "Os portos de embarque são representados por três valores distintos: 'C' para Cherbourg, 'Q' para Queenstown e 'S' para Southampton. Observa-se que o porto com o maior número de embarques é Southampton, o que indica uma concentração significativa de passageiros neste local. Dado esse cenário, será utilizada a imputação pela moda para tratar os dois valores ausentes na variável `Embarked`.\n"
   ]
  },
  {
   "cell_type": "code",
   "execution_count": 11,
   "id": "d56325d3-259f-4eca-b17f-3478cf6c50ae",
   "metadata": {},
   "outputs": [
    {
     "data": {
      "text/plain": [
       "Age          263\n",
       "Cabin       1014\n",
       "Embarked       0\n",
       "Fare           1\n",
       "Name           0\n",
       "Parch          0\n",
       "Pclass         0\n",
       "Sex            0\n",
       "SibSp          0\n",
       "Survived     418\n",
       "Ticket         0\n",
       "dtype: int64"
      ]
     },
     "execution_count": 11,
     "metadata": {},
     "output_type": "execute_result"
    }
   ],
   "source": [
    "df_merged.loc[df_merged['Embarked'].isnull(), 'Embarked'] = df_merged['Embarked'].mode()[0]\n",
    "df_merged.isnull().sum()"
   ]
  },
  {
   "cell_type": "code",
   "execution_count": 12,
   "id": "78b445e0-dbdd-4946-9ac4-2de3658926ba",
   "metadata": {},
   "outputs": [
    {
     "data": {
      "text/plain": [
       "count    1308.000000\n",
       "mean       33.295479\n",
       "std        51.758668\n",
       "min         0.000000\n",
       "25%         7.895800\n",
       "50%        14.454200\n",
       "75%        31.275000\n",
       "max       512.329200\n",
       "Name: Fare, dtype: float64"
      ]
     },
     "execution_count": 12,
     "metadata": {},
     "output_type": "execute_result"
    }
   ],
   "source": [
    "df_merged['Fare'].describe()"
   ]
  },
  {
   "cell_type": "markdown",
   "id": "0af4db26-bd22-4d52-a3d9-8682f946f469",
   "metadata": {},
   "source": [
    "Observa-se que a média da variável `Fare` é de aproximadamente 33,30 dólares, a mediana é de 14,45 dólares e o desvio padrão é de 51,75 dólares. O desvio padrão relativamente alto em comparação com a média indica uma elevada dispersão nos valores, sugerindo a presença de outliers ou uma distribuição assimétrica.\n",
    "\n",
    "Dado esse cenário, será optado pela imputação utilizando a mediana para o preenchimento do valor ausente, uma vez que ela é menos sensível à influência de valores extremos."
   ]
  },
  {
   "cell_type": "code",
   "execution_count": 13,
   "id": "703790e4-7658-46d0-bf61-abd5c39554f7",
   "metadata": {},
   "outputs": [
    {
     "data": {
      "text/plain": [
       "Age          263\n",
       "Cabin       1014\n",
       "Embarked       0\n",
       "Fare           0\n",
       "Name           0\n",
       "Parch          0\n",
       "Pclass         0\n",
       "Sex            0\n",
       "SibSp          0\n",
       "Survived     418\n",
       "Ticket         0\n",
       "dtype: int64"
      ]
     },
     "execution_count": 13,
     "metadata": {},
     "output_type": "execute_result"
    }
   ],
   "source": [
    "df_merged.loc[df_merged['Fare'].isnull(), 'Fare'] = df_merged['Fare'].median()\n",
    "df_merged.isnull().sum()"
   ]
  },
  {
   "cell_type": "markdown",
   "id": "f30cd4f3-6588-4016-b6dd-173d002788cf",
   "metadata": {},
   "source": [
    "### Variáveis Numéricas e Categóricas"
   ]
  },
  {
   "cell_type": "markdown",
   "id": "206583d0-143f-4bb3-90b5-dc9b8c641dc2",
   "metadata": {},
   "source": [
    "Os métodos estatísticos aplicados à análise de variáveis categóricas e numéricas diferem substancialmente, devido às características de cada tipo de dado. Com base nessa distinção, será separado as colunas em duas categorias: variáveis categóricas e variáveis numéricas."
   ]
  },
  {
   "cell_type": "code",
   "execution_count": 14,
   "id": "8cec3dab-7d86-4e56-abf8-c122ebbc8480",
   "metadata": {},
   "outputs": [],
   "source": [
    "#Numéricas\n",
    "num = df_merged.dtypes[df_merged.dtypes != 'object'].index\n",
    "\n",
    "#Categóricas\n",
    "cats = df_merged.dtypes[df_merged.dtypes == 'object'].index"
   ]
  },
  {
   "cell_type": "code",
   "execution_count": 15,
   "id": "e5c497da-8a16-4216-a2fd-209f1c58f4d2",
   "metadata": {},
   "outputs": [
    {
     "data": {
      "text/html": [
       "<div>\n",
       "<style scoped>\n",
       "    .dataframe tbody tr th:only-of-type {\n",
       "        vertical-align: middle;\n",
       "    }\n",
       "\n",
       "    .dataframe tbody tr th {\n",
       "        vertical-align: top;\n",
       "    }\n",
       "\n",
       "    .dataframe thead th {\n",
       "        text-align: right;\n",
       "    }\n",
       "</style>\n",
       "<table border=\"1\" class=\"dataframe\">\n",
       "  <thead>\n",
       "    <tr style=\"text-align: right;\">\n",
       "      <th></th>\n",
       "      <th>Age</th>\n",
       "      <th>Fare</th>\n",
       "      <th>Parch</th>\n",
       "      <th>Pclass</th>\n",
       "      <th>SibSp</th>\n",
       "      <th>Survived</th>\n",
       "    </tr>\n",
       "  </thead>\n",
       "  <tbody>\n",
       "    <tr>\n",
       "      <th>count</th>\n",
       "      <td>1046.000000</td>\n",
       "      <td>1309.000000</td>\n",
       "      <td>1309.000000</td>\n",
       "      <td>1309.000000</td>\n",
       "      <td>1309.000000</td>\n",
       "      <td>891.000000</td>\n",
       "    </tr>\n",
       "    <tr>\n",
       "      <th>mean</th>\n",
       "      <td>29.881138</td>\n",
       "      <td>33.281086</td>\n",
       "      <td>0.385027</td>\n",
       "      <td>2.294882</td>\n",
       "      <td>0.498854</td>\n",
       "      <td>0.383838</td>\n",
       "    </tr>\n",
       "    <tr>\n",
       "      <th>std</th>\n",
       "      <td>14.413493</td>\n",
       "      <td>51.741500</td>\n",
       "      <td>0.865560</td>\n",
       "      <td>0.837836</td>\n",
       "      <td>1.041658</td>\n",
       "      <td>0.486592</td>\n",
       "    </tr>\n",
       "    <tr>\n",
       "      <th>min</th>\n",
       "      <td>0.170000</td>\n",
       "      <td>0.000000</td>\n",
       "      <td>0.000000</td>\n",
       "      <td>1.000000</td>\n",
       "      <td>0.000000</td>\n",
       "      <td>0.000000</td>\n",
       "    </tr>\n",
       "    <tr>\n",
       "      <th>25%</th>\n",
       "      <td>21.000000</td>\n",
       "      <td>7.895800</td>\n",
       "      <td>0.000000</td>\n",
       "      <td>2.000000</td>\n",
       "      <td>0.000000</td>\n",
       "      <td>0.000000</td>\n",
       "    </tr>\n",
       "    <tr>\n",
       "      <th>50%</th>\n",
       "      <td>28.000000</td>\n",
       "      <td>14.454200</td>\n",
       "      <td>0.000000</td>\n",
       "      <td>3.000000</td>\n",
       "      <td>0.000000</td>\n",
       "      <td>0.000000</td>\n",
       "    </tr>\n",
       "    <tr>\n",
       "      <th>75%</th>\n",
       "      <td>39.000000</td>\n",
       "      <td>31.275000</td>\n",
       "      <td>0.000000</td>\n",
       "      <td>3.000000</td>\n",
       "      <td>1.000000</td>\n",
       "      <td>1.000000</td>\n",
       "    </tr>\n",
       "    <tr>\n",
       "      <th>max</th>\n",
       "      <td>80.000000</td>\n",
       "      <td>512.329200</td>\n",
       "      <td>9.000000</td>\n",
       "      <td>3.000000</td>\n",
       "      <td>8.000000</td>\n",
       "      <td>1.000000</td>\n",
       "    </tr>\n",
       "  </tbody>\n",
       "</table>\n",
       "</div>"
      ],
      "text/plain": [
       "               Age         Fare        Parch       Pclass        SibSp  \\\n",
       "count  1046.000000  1309.000000  1309.000000  1309.000000  1309.000000   \n",
       "mean     29.881138    33.281086     0.385027     2.294882     0.498854   \n",
       "std      14.413493    51.741500     0.865560     0.837836     1.041658   \n",
       "min       0.170000     0.000000     0.000000     1.000000     0.000000   \n",
       "25%      21.000000     7.895800     0.000000     2.000000     0.000000   \n",
       "50%      28.000000    14.454200     0.000000     3.000000     0.000000   \n",
       "75%      39.000000    31.275000     0.000000     3.000000     1.000000   \n",
       "max      80.000000   512.329200     9.000000     3.000000     8.000000   \n",
       "\n",
       "         Survived  \n",
       "count  891.000000  \n",
       "mean     0.383838  \n",
       "std      0.486592  \n",
       "min      0.000000  \n",
       "25%      0.000000  \n",
       "50%      0.000000  \n",
       "75%      1.000000  \n",
       "max      1.000000  "
      ]
     },
     "execution_count": 15,
     "metadata": {},
     "output_type": "execute_result"
    }
   ],
   "source": [
    "df_merged[num].describe()"
   ]
  },
  {
   "cell_type": "markdown",
   "id": "bc8b5e77-f753-481a-b554-5059bef88b54",
   "metadata": {},
   "source": [
    "Com base no resumo estátistico tem-se que: \n",
    "\n",
    "- **Age**: A idade média dos passageiros é aproximadamente 29,88 anos, com um desvio padrão de 14,41 anos, o que indica uma dispersão moderada dos dados. A mediana de 28 anos sugere que a idade dos passageiros é levemente assimétrica, com um mínimo de 0,17 anos e um máximo de 80 anos.\n",
    "  \n",
    "- **Fare**: A tarifa média é de 33,28 dólares, com um desvio padrão elevado de 51,74 dólares. A mediana de 14,45 dólares indica que metade dos passageiros pagou abaixo deste valor, sugerindo uma distribuição assimétrica positiva.\n",
    "\n",
    "- **Parch**: Reflete o número de pais/filhos a bordo, com uma média de 0,39 e desvio padrão de 0,87. A maior parte dos passageiros não estava acompanhada de pais ou filhos, como mostra a mediana de 0, com um máximo de 9.\n",
    "\n",
    "- **Pclass**: A classe do passageiro tem uma média de 2,29, com a maioria dos passageiros concentrada nas classes 2 e 3, como indicado pelos percentis (mediana de 3). O desvio padrão de 0,84 revela uma leve dispersão entre as classes.\n",
    "\n",
    "- **SibSp**: Representa o número de irmãos/cônjuges a bordo, com uma média de 0,50 e desvio padrão de 1,04. A mediana de 0 indica que a maioria dos passageiros estava sozinha em termos de cônjuges ou irmãos, com um valor máximo de 8.\n",
    "\n",
    "- **Survived**: A variável alvo, com uma média de 0,38, indica que aproximadamente 38% dos passageiros sobreviveram"
   ]
  },
  {
   "cell_type": "code",
   "execution_count": 16,
   "id": "f94dcd3b-f3d2-4058-9454-fb39a6aedb02",
   "metadata": {},
   "outputs": [
    {
     "data": {
      "image/png": "[encoded data removed]",
      "text/plain": [
       "<Figure size 2000x1000 with 6 Axes>"
      ]
     },
     "metadata": {},
     "output_type": "display_data"
    }
   ],
   "source": [
    "plt.figure(figsize=(20, 10))\n",
    "\n",
    "for i in range(0, len(num)):\n",
    "    plt.subplot(3, len(num) // 2, i+1)\n",
    "    sns.histplot(x=df_merged[num[i]], kde=True, color='blue')\n",
    "    plt.xlabel(num[i])\n",
    "    plt.tight_layout()"
   ]
  },
  {
   "cell_type": "code",
   "execution_count": 17,
   "id": "42b7e525-566c-4d2c-ab71-61e5e1d19a28",
   "metadata": {},
   "outputs": [
    {
     "data": {
      "image/png": "[encoded data removed]",
      "text/plain": [
       "<Figure size 640x480 with 6 Axes>"
      ]
     },
     "metadata": {},
     "output_type": "display_data"
    }
   ],
   "source": [
    "#Box plots\n",
    "for i in range(0, len(num)):\n",
    "    plt.subplot(1, len(num), i+1)\n",
    "    sns.boxplot(y = df_merged[num[i]], color='blue')\n",
    "    plt.tight_layout()"
   ]
  },
  {
   "cell_type": "code",
   "execution_count": 18,
   "id": "73c5268f-5445-4124-b127-7b2374778735",
   "metadata": {},
   "outputs": [
    {
     "data": {
      "text/html": [
       "<div>\n",
       "<style scoped>\n",
       "    .dataframe tbody tr th:only-of-type {\n",
       "        vertical-align: middle;\n",
       "    }\n",
       "\n",
       "    .dataframe tbody tr th {\n",
       "        vertical-align: top;\n",
       "    }\n",
       "\n",
       "    .dataframe thead th {\n",
       "        text-align: right;\n",
       "    }\n",
       "</style>\n",
       "<table border=\"1\" class=\"dataframe\">\n",
       "  <thead>\n",
       "    <tr style=\"text-align: right;\">\n",
       "      <th></th>\n",
       "      <th>Age</th>\n",
       "      <th>Fare</th>\n",
       "      <th>Parch</th>\n",
       "      <th>Pclass</th>\n",
       "      <th>SibSp</th>\n",
       "      <th>Survived</th>\n",
       "    </tr>\n",
       "  </thead>\n",
       "  <tbody>\n",
       "    <tr>\n",
       "      <th>Age</th>\n",
       "      <td>1.000000</td>\n",
       "      <td>0.177528</td>\n",
       "      <td>-0.150917</td>\n",
       "      <td>-0.408106</td>\n",
       "      <td>-0.243699</td>\n",
       "      <td>-0.077221</td>\n",
       "    </tr>\n",
       "    <tr>\n",
       "      <th>Fare</th>\n",
       "      <td>0.177528</td>\n",
       "      <td>1.000000</td>\n",
       "      <td>0.221635</td>\n",
       "      <td>-0.558683</td>\n",
       "      <td>0.160349</td>\n",
       "      <td>0.257307</td>\n",
       "    </tr>\n",
       "    <tr>\n",
       "      <th>Parch</th>\n",
       "      <td>-0.150917</td>\n",
       "      <td>0.221635</td>\n",
       "      <td>1.000000</td>\n",
       "      <td>0.018322</td>\n",
       "      <td>0.373587</td>\n",
       "      <td>0.081629</td>\n",
       "    </tr>\n",
       "    <tr>\n",
       "      <th>Pclass</th>\n",
       "      <td>-0.408106</td>\n",
       "      <td>-0.558683</td>\n",
       "      <td>0.018322</td>\n",
       "      <td>1.000000</td>\n",
       "      <td>0.060832</td>\n",
       "      <td>-0.338481</td>\n",
       "    </tr>\n",
       "    <tr>\n",
       "      <th>SibSp</th>\n",
       "      <td>-0.243699</td>\n",
       "      <td>0.160349</td>\n",
       "      <td>0.373587</td>\n",
       "      <td>0.060832</td>\n",
       "      <td>1.000000</td>\n",
       "      <td>-0.035322</td>\n",
       "    </tr>\n",
       "    <tr>\n",
       "      <th>Survived</th>\n",
       "      <td>-0.077221</td>\n",
       "      <td>0.257307</td>\n",
       "      <td>0.081629</td>\n",
       "      <td>-0.338481</td>\n",
       "      <td>-0.035322</td>\n",
       "      <td>1.000000</td>\n",
       "    </tr>\n",
       "  </tbody>\n",
       "</table>\n",
       "</div>"
      ],
      "text/plain": [
       "               Age      Fare     Parch    Pclass     SibSp  Survived\n",
       "Age       1.000000  0.177528 -0.150917 -0.408106 -0.243699 -0.077221\n",
       "Fare      0.177528  1.000000  0.221635 -0.558683  0.160349  0.257307\n",
       "Parch    -0.150917  0.221635  1.000000  0.018322  0.373587  0.081629\n",
       "Pclass   -0.408106 -0.558683  0.018322  1.000000  0.060832 -0.338481\n",
       "SibSp    -0.243699  0.160349  0.373587  0.060832  1.000000 -0.035322\n",
       "Survived -0.077221  0.257307  0.081629 -0.338481 -0.035322  1.000000"
      ]
     },
     "execution_count": 18,
     "metadata": {},
     "output_type": "execute_result"
    }
   ],
   "source": [
    "df_merged[num].corr()"
   ]
  },
  {
   "cell_type": "code",
   "execution_count": 19,
   "id": "b7ddd352-2ff1-4d34-a8ae-cc33f192bb58",
   "metadata": {},
   "outputs": [
    {
     "data": {
      "text/plain": [
       "<Axes: >"
      ]
     },
     "execution_count": 19,
     "metadata": {},
     "output_type": "execute_result"
    },
    {
     "data": {
      "image/png": "[encoded data removed]",
      "text/plain": [
       "<Figure size 800x800 with 2 Axes>"
      ]
     },
     "metadata": {},
     "output_type": "display_data"
    }
   ],
   "source": [
    "df_corr = df_merged.corr()\n",
    "plt.figure(figsize = (8,8))\n",
    "sns.heatmap(df_corr, cmap='Blues', annot = True, fmt = '.2f')"
   ]
  },
  {
   "cell_type": "markdown",
   "id": "a3c38ca6-7041-4a78-8ebe-d6b61d7958ab",
   "metadata": {},
   "source": [
    "Em relação a correlação tem-se que:\n",
    "- **Age**: A variável `Age` possui correlação negativa moderada com `Pclass` (-0,41), sugerindo que passageiros mais jovens tendem a estar em classes mais altas. A correlação com as demais variáveis é relativamente baixa, com uma fraca correlação com `Fare` (0,18) e uma correlação negativa com `SibSp` (-0,24).\n",
    "\n",
    "- **Fare**: Apresenta uma correlação moderada negativa com `Pclass` (-0,56), indicando que passageiros das classes mais altas pagaram tarifas mais elevadas. Também há uma correlação positiva com `Parch` (0,22) e `Survived` (0,26), o que sugere que tarifas mais altas estão associadas a uma maior probabilidade de sobrevivência.\n",
    "\n",
    "- **Parch**: Possui uma correlação positiva moderada com `SibSp` (0,37), o que é esperado, já que ambos se referem a membros da família. As correlações com as outras variáveis são relativamente fracas, incluindo uma pequena correlação positiva com `Survived` (0,08).\n",
    "\n",
    "- **Pclass**: Tem uma correlação negativa moderada com `Survived` (-0,34), o que indica que passageiros de classes mais baixas tiveram menores chances de sobrevivência. A correlação negativa com `Age` (-0,41) sugere que passageiros mais velhos tendem a viajar em classes superiores.\n",
    "\n",
    "- **SibSp**: Apresenta correlações fracas com as demais variáveis, incluindo uma correlação negativa muito pequena com `Survived` (-0,04), o que indica que o número de irmãos/cônjuges a bordo não tem um impacto significativo na sobrevivência.\n",
    "\n",
    "- **Survived**: A variável de sobrevivência tem a correlação mais alta com `Fare` (0,26), indicando que, em média, passageiros que pagaram tarifas mais altas tiveram maior probabilidade de sobreviver. A correlação negativa com `Pclass` (-0,34) reforça a ideia de que passageiros de classes mais altas tinham maiores chances de sobrevivência."
   ]
  },
  {
   "cell_type": "code",
   "execution_count": 20,
   "id": "cb6ee9d9-980b-4b99-af80-6cf2fcff5adc",
   "metadata": {},
   "outputs": [
    {
     "data": {
      "text/html": [
       "<div>\n",
       "<style scoped>\n",
       "    .dataframe tbody tr th:only-of-type {\n",
       "        vertical-align: middle;\n",
       "    }\n",
       "\n",
       "    .dataframe tbody tr th {\n",
       "        vertical-align: top;\n",
       "    }\n",
       "\n",
       "    .dataframe thead th {\n",
       "        text-align: right;\n",
       "    }\n",
       "</style>\n",
       "<table border=\"1\" class=\"dataframe\">\n",
       "  <thead>\n",
       "    <tr style=\"text-align: right;\">\n",
       "      <th></th>\n",
       "      <th>Cabin</th>\n",
       "      <th>Embarked</th>\n",
       "      <th>Name</th>\n",
       "      <th>Sex</th>\n",
       "      <th>Ticket</th>\n",
       "    </tr>\n",
       "  </thead>\n",
       "  <tbody>\n",
       "    <tr>\n",
       "      <th>count</th>\n",
       "      <td>295</td>\n",
       "      <td>1309</td>\n",
       "      <td>1309</td>\n",
       "      <td>1309</td>\n",
       "      <td>1309</td>\n",
       "    </tr>\n",
       "    <tr>\n",
       "      <th>unique</th>\n",
       "      <td>186</td>\n",
       "      <td>3</td>\n",
       "      <td>1307</td>\n",
       "      <td>2</td>\n",
       "      <td>929</td>\n",
       "    </tr>\n",
       "    <tr>\n",
       "      <th>top</th>\n",
       "      <td>C23 C25 C27</td>\n",
       "      <td>S</td>\n",
       "      <td>Connolly, Miss. Kate</td>\n",
       "      <td>male</td>\n",
       "      <td>CA. 2343</td>\n",
       "    </tr>\n",
       "    <tr>\n",
       "      <th>freq</th>\n",
       "      <td>6</td>\n",
       "      <td>916</td>\n",
       "      <td>2</td>\n",
       "      <td>843</td>\n",
       "      <td>11</td>\n",
       "    </tr>\n",
       "  </tbody>\n",
       "</table>\n",
       "</div>"
      ],
      "text/plain": [
       "              Cabin Embarked                  Name   Sex    Ticket\n",
       "count           295     1309                  1309  1309      1309\n",
       "unique          186        3                  1307     2       929\n",
       "top     C23 C25 C27        S  Connolly, Miss. Kate  male  CA. 2343\n",
       "freq              6      916                     2   843        11"
      ]
     },
     "execution_count": 20,
     "metadata": {},
     "output_type": "execute_result"
    }
   ],
   "source": [
    "#Categóricas\n",
    "df_merged[cats].describe()"
   ]
  },
  {
   "cell_type": "markdown",
   "id": "715f6042-0616-4c7b-b149-81638c23982f",
   "metadata": {},
   "source": [
    "- **Cabin**: A variável `Cabin` apresenta 295 valores não nulos, com 186 cabines distintas. A cabine mais frequente é `C23 C25 C27`, que aparece 6 vezes. O elevado número de valores únicos sugere que a maioria dos passageiros tinha uma cabine exclusiva.\n",
    "\n",
    "- **Embarked**: Há três portos de embarque representados por `Embarked`, sendo eles Cherbourg (`C`), Queenstown (`Q`), e Southampton (`S`). O porto de Southampton (`S`) é o mais comum, representando 916 embarques, reforçando a escolha de preenchimento por moda nos valores ausentes.\n",
    "\n",
    "- **Name**: Existem 1.309 nomes únicos, com exceção de dois registros duplicados (possivelmente erros ou casos especiais). Essa variável é composta quase inteiramente de valores únicos, o que a torna difícil de usar diretamente em modelos preditivos, embora possa ser decomposta para extrair informações úteis, como o título da pessoa.\n",
    "\n",
    "- **Sex**: A variável `Sex` tem apenas dois valores distintos: `male` e `female`. O valor mais frequente é `male`, representando 843 passageiros, o que indica que a maioria dos passageiros era do sexo masculino.\n",
    "\n",
    "- **Ticket**: A variável `Ticket` apresenta 929 valores únicos, com o bilhete mais comum sendo `CA. 2343`, registrado 11 vezes. A grande quantidade de valores distintos indica que os números de bilhete não seguem um padrão facilmente identificável."
   ]
  },
  {
   "cell_type": "code",
   "execution_count": 21,
   "id": "40e2ccae-1f9b-4b88-a624-0c8248dcf816",
   "metadata": {},
   "outputs": [
    {
     "data": {
      "text/html": [
       "<div>\n",
       "<style scoped>\n",
       "    .dataframe tbody tr th:only-of-type {\n",
       "        vertical-align: middle;\n",
       "    }\n",
       "\n",
       "    .dataframe tbody tr th {\n",
       "        vertical-align: top;\n",
       "    }\n",
       "\n",
       "    .dataframe thead th {\n",
       "        text-align: right;\n",
       "    }\n",
       "</style>\n",
       "<table border=\"1\" class=\"dataframe\">\n",
       "  <thead>\n",
       "    <tr style=\"text-align: right;\">\n",
       "      <th></th>\n",
       "      <th>Pclass</th>\n",
       "      <th>Survived</th>\n",
       "    </tr>\n",
       "  </thead>\n",
       "  <tbody>\n",
       "    <tr>\n",
       "      <th>0</th>\n",
       "      <td>1</td>\n",
       "      <td>0.629630</td>\n",
       "    </tr>\n",
       "    <tr>\n",
       "      <th>1</th>\n",
       "      <td>2</td>\n",
       "      <td>0.472826</td>\n",
       "    </tr>\n",
       "    <tr>\n",
       "      <th>2</th>\n",
       "      <td>3</td>\n",
       "      <td>0.242363</td>\n",
       "    </tr>\n",
       "  </tbody>\n",
       "</table>\n",
       "</div>"
      ],
      "text/plain": [
       "   Pclass  Survived\n",
       "0       1  0.629630\n",
       "1       2  0.472826\n",
       "2       3  0.242363"
      ]
     },
     "execution_count": 21,
     "metadata": {},
     "output_type": "execute_result"
    }
   ],
   "source": [
    "df_merged[['Pclass', 'Survived']].groupby(['Pclass']).mean().reset_index()"
   ]
  },
  {
   "cell_type": "code",
   "execution_count": 22,
   "id": "ef852360-350f-41f5-bdf6-f854f63bbf34",
   "metadata": {},
   "outputs": [
    {
     "data": {
      "image/png": "[encoded data removed]",
      "text/plain": [
       "<Figure size 800x600 with 1 Axes>"
      ]
     },
     "metadata": {},
     "output_type": "display_data"
    }
   ],
   "source": [
    "data = df_merged[['Pclass', 'Survived']].groupby(['Pclass']).mean().reset_index()\n",
    "\n",
    "plt.figure(figsize=(8, 6))\n",
    "ax = sns.barplot(x='Pclass', y='Survived', data=data, palette='Blues')\n",
    "\n",
    "plt.title('Sobrevivência por Classes')\n",
    "plt.xlabel('Classe')\n",
    "plt.ylabel('Taxa de sobrevivência (%)')\n",
    "\n",
    "for p in ax.patches:\n",
    "    height = p.get_height()\n",
    "    ax.text(p.get_x() + p.get_width() / 2., height - 0.05, f'{height * 100:.2f}%', \n",
    "            ha=\"center\", color=\"#181C2C\", weight=\"bold\")\n",
    "\n",
    "plt.show()"
   ]
  },
  {
   "cell_type": "markdown",
   "id": "0f8c0725-f91f-44cd-847e-73fa6ad95571",
   "metadata": {},
   "source": [
    "- **Primeira Classe (Pclass = 1)**: A taxa de sobrevivência é de aproximadamente **62,96%**, o que sugere que passageiros da primeira classe tinham uma probabilidade significativamente maior de sobreviver.\n",
    "  \n",
    "- **Segunda Classe (Pclass = 2)**: A taxa de sobrevivência cai para **47,28%**, mostrando uma diferença notável em comparação à primeira classe.\n",
    "\n",
    "- **Terceira Classe (Pclass = 3)**: A taxa de sobrevivência é de apenas **24,24%**, a mais baixa entre todas as classes, o que indica que passageiros da terceira classe tiveram uma probabilidade muito menor de sobreviver.\n",
    "\n",
    "Passageiros da 1ª classe apresentaram maiores chances de sobrevivência, enquanto aqueles das classes inferiores, especialmente da 3ª classe, tiveram chances substancialmente menores. "
   ]
  },
  {
   "cell_type": "code",
   "execution_count": 23,
   "id": "319278a0-3edf-45be-a19e-c589c06ac784",
   "metadata": {},
   "outputs": [
    {
     "data": {
      "text/html": [
       "<div>\n",
       "<style scoped>\n",
       "    .dataframe tbody tr th:only-of-type {\n",
       "        vertical-align: middle;\n",
       "    }\n",
       "\n",
       "    .dataframe tbody tr th {\n",
       "        vertical-align: top;\n",
       "    }\n",
       "\n",
       "    .dataframe thead th {\n",
       "        text-align: right;\n",
       "    }\n",
       "</style>\n",
       "<table border=\"1\" class=\"dataframe\">\n",
       "  <thead>\n",
       "    <tr style=\"text-align: right;\">\n",
       "      <th></th>\n",
       "      <th>Sex</th>\n",
       "      <th>Survived</th>\n",
       "    </tr>\n",
       "  </thead>\n",
       "  <tbody>\n",
       "    <tr>\n",
       "      <th>0</th>\n",
       "      <td>female</td>\n",
       "      <td>0.742038</td>\n",
       "    </tr>\n",
       "    <tr>\n",
       "      <th>1</th>\n",
       "      <td>male</td>\n",
       "      <td>0.188908</td>\n",
       "    </tr>\n",
       "  </tbody>\n",
       "</table>\n",
       "</div>"
      ],
      "text/plain": [
       "      Sex  Survived\n",
       "0  female  0.742038\n",
       "1    male  0.188908"
      ]
     },
     "execution_count": 23,
     "metadata": {},
     "output_type": "execute_result"
    }
   ],
   "source": [
    "df_merged[['Sex', 'Survived']].groupby(['Sex']).mean().reset_index()"
   ]
  },
  {
   "cell_type": "code",
   "execution_count": 24,
   "id": "44d86920-90a3-439e-a7e3-7f3ecd9db312",
   "metadata": {},
   "outputs": [
    {
     "data": {
      "image/png": "[encoded data removed]",
      "text/plain": [
       "<Figure size 800x600 with 1 Axes>"
      ]
     },
     "metadata": {},
     "output_type": "display_data"
    }
   ],
   "source": [
    "data = df_merged[['Sex', 'Survived']].groupby(['Sex']).mean().reset_index()\n",
    "\n",
    "plt.figure(figsize=(8, 6))\n",
    "ax = sns.barplot(x='Sex', y='Survived', data = data, palette = 'Blues')\n",
    "\n",
    "plt.title('Taxa de Sobrevivencia por Gênero')\n",
    "plt.xlabel('Gênero')\n",
    "plt.ylabel('Taxa de Sobrevivência (%)')\n",
    "\n",
    "for p in ax.patches:\n",
    "    height = p.get_height()\n",
    "    ax.text(p.get_x() + p.get_width() / 2., height - 0.05, f'{height * 100:.2f}%',\n",
    "            ha='center', color='#181C2C', weight='bold')\n",
    "\n",
    "plt.show()"
   ]
  },
  {
   "cell_type": "markdown",
   "id": "0509fbb2-aa24-4bff-bdf7-6a263bd08050",
   "metadata": {},
   "source": [
    "- **Female**: A taxa de sobrevivência entre mulheres é de aproximadamente **74,2%**, indicando que a maioria das mulheres sobreviveu.\n",
    "  \n",
    "- **Male**: Em contraste, a taxa de sobrevivência entre homens é de apenas **18,9%**, sugerindo uma diferença significativa na probabilidade de sobrevivência entre os sexos."
   ]
  },
  {
   "cell_type": "code",
   "execution_count": 25,
   "id": "c9078a5f-34c7-4299-9485-cc1923d5bb8e",
   "metadata": {},
   "outputs": [
    {
     "data": {
      "text/html": [
       "<div>\n",
       "<style scoped>\n",
       "    .dataframe tbody tr th:only-of-type {\n",
       "        vertical-align: middle;\n",
       "    }\n",
       "\n",
       "    .dataframe tbody tr th {\n",
       "        vertical-align: top;\n",
       "    }\n",
       "\n",
       "    .dataframe thead th {\n",
       "        text-align: right;\n",
       "    }\n",
       "</style>\n",
       "<table border=\"1\" class=\"dataframe\">\n",
       "  <thead>\n",
       "    <tr style=\"text-align: right;\">\n",
       "      <th></th>\n",
       "      <th>SibSp</th>\n",
       "      <th>Survived</th>\n",
       "    </tr>\n",
       "  </thead>\n",
       "  <tbody>\n",
       "    <tr>\n",
       "      <th>0</th>\n",
       "      <td>0</td>\n",
       "      <td>0.345395</td>\n",
       "    </tr>\n",
       "    <tr>\n",
       "      <th>1</th>\n",
       "      <td>1</td>\n",
       "      <td>0.535885</td>\n",
       "    </tr>\n",
       "    <tr>\n",
       "      <th>2</th>\n",
       "      <td>2</td>\n",
       "      <td>0.464286</td>\n",
       "    </tr>\n",
       "    <tr>\n",
       "      <th>3</th>\n",
       "      <td>3</td>\n",
       "      <td>0.250000</td>\n",
       "    </tr>\n",
       "    <tr>\n",
       "      <th>4</th>\n",
       "      <td>4</td>\n",
       "      <td>0.166667</td>\n",
       "    </tr>\n",
       "    <tr>\n",
       "      <th>5</th>\n",
       "      <td>5</td>\n",
       "      <td>0.000000</td>\n",
       "    </tr>\n",
       "    <tr>\n",
       "      <th>6</th>\n",
       "      <td>8</td>\n",
       "      <td>0.000000</td>\n",
       "    </tr>\n",
       "  </tbody>\n",
       "</table>\n",
       "</div>"
      ],
      "text/plain": [
       "   SibSp  Survived\n",
       "0      0  0.345395\n",
       "1      1  0.535885\n",
       "2      2  0.464286\n",
       "3      3  0.250000\n",
       "4      4  0.166667\n",
       "5      5  0.000000\n",
       "6      8  0.000000"
      ]
     },
     "execution_count": 25,
     "metadata": {},
     "output_type": "execute_result"
    }
   ],
   "source": [
    "df_merged[['SibSp', 'Survived']].groupby(['SibSp']).mean().reset_index()"
   ]
  },
  {
   "cell_type": "code",
   "execution_count": 26,
   "id": "b46b6bbd-f733-4cd8-81aa-30fe2e4e4c99",
   "metadata": {},
   "outputs": [
    {
     "data": {
      "image/png": "[encoded data removed]",
      "text/plain": [
       "<Figure size 800x600 with 1 Axes>"
      ]
     },
     "metadata": {},
     "output_type": "display_data"
    }
   ],
   "source": [
    "data = df_merged[['SibSp', 'Survived']].groupby(['SibSp']).mean().reset_index()\n",
    "\n",
    "plt.figure(figsize=(8, 6))\n",
    "ax = sns.barplot(x='SibSp', y='Survived', data=data, palette='Blues')\n",
    "\n",
    "plt.title('Taxa de sobrevivência dos irmãos/cônjuges')\n",
    "plt.xlabel('irmãos/cônjuges')\n",
    "plt.ylabel('Taxa de Sobrevivência (%)')\n",
    "\n",
    "for p in ax.patches:\n",
    "    height = p.get_height()\n",
    "    ax.text(p.get_x() + p.get_width() / 2., height - 0.05, f'{height * 100:.2f}%', \n",
    "            ha=\"center\", color=\"#181C2C\", weight=\"bold\")"
   ]
  },
  {
   "cell_type": "markdown",
   "id": "92b089c2-de58-43b8-92a6-b04c7b4c5d99",
   "metadata": {},
   "source": [
    "- **SibSp = 0**: Passageiros que não tinham irmãos ou cônjuges a bordo tiveram uma taxa de sobrevivência de **34,5%**.\n",
    "- **SibSp = 1**: Aqueles com um irmão ou cônjuge a bordo apresentaram a maior taxa de sobrevivência, de **53,6%**.\n",
    "- **SibSp = 2**: Para quem tinha dois irmãos/cônjuges, a taxa de sobrevivência caiu para **46,4%**.\n",
    "- **SibSp ≥ 3**: A partir de três irmãos ou cônjuges, a taxa de sobrevivência diminui drasticamente:\n",
    "    - **SibSp = 3**: **25,0%**\n",
    "    - **SibSp = 4**: **16,7%**\n",
    "    - **SibSp = 5 ou 8**: **0,0%** (nenhum passageiro com 5 ou 8 irmãos/cônjuges sobreviveu).\n"
   ]
  },
  {
   "cell_type": "markdown",
   "id": "68f74c6a-a1c3-4b31-a8d6-c6806f62d037",
   "metadata": {},
   "source": [
    "## feature Engineering"
   ]
  },
  {
   "cell_type": "markdown",
   "id": "7d237570-a6e7-4c96-8da8-b207cabf4027",
   "metadata": {},
   "source": [
    "### Title"
   ]
  },
  {
   "cell_type": "code",
   "execution_count": 27,
   "id": "f35b5263-61f8-43fc-be0d-5cfd5a6af7ab",
   "metadata": {},
   "outputs": [
    {
     "data": {
      "text/plain": [
       "Mr          757\n",
       "Miss        260\n",
       "Mrs         197\n",
       "Master       61\n",
       "Rev           8\n",
       "Dr            8\n",
       "Col           4\n",
       "Mlle          2\n",
       "Major         2\n",
       "Ms            2\n",
       "Lady          1\n",
       "Sir           1\n",
       "Mme           1\n",
       "Don           1\n",
       "Capt          1\n",
       "Countess      1\n",
       "Jonkheer      1\n",
       "Dona          1\n",
       "Name: Title, dtype: int64"
      ]
     },
     "execution_count": 27,
     "metadata": {},
     "output_type": "execute_result"
    }
   ],
   "source": [
    "# Criar uma coluna com os títulos de cada passageiro\n",
    "\n",
    "df_merged['Title'] = df_merged['Name'].str.extract('([a-zA-Z]+)\\.')\n",
    "df_merged['Title'].value_counts()"
   ]
  },
  {
   "cell_type": "markdown",
   "id": "7eab144c-d220-40bd-8bdc-fa2d4c62d39d",
   "metadata": {},
   "source": [
    "- **Mr**: título geralmente refere-se a homens adultos.\n",
    "- **Miss**: O título `Miss`, utilizado para mulheres solteiras.\n",
    "- **Mrs**: O título `Mrs`, utilizado para mulheres casadas.\n",
    "- **Master**: O título `Master`, normalmente atribuído a meninos.\n",
    "- **Other**: Os demais títulos serão caracterizados como `Other`."
   ]
  },
  {
   "cell_type": "code",
   "execution_count": 28,
   "id": "6a6ada35-0f48-4308-851a-f7a7e9e2016b",
   "metadata": {},
   "outputs": [
    {
     "data": {
      "text/plain": [
       "Mr        757\n",
       "Miss      260\n",
       "Mrs       197\n",
       "Master     61\n",
       "Other      34\n",
       "Name: Title, dtype: int64"
      ]
     },
     "execution_count": 28,
     "metadata": {},
     "output_type": "execute_result"
    }
   ],
   "source": [
    "df_merged['Title'] = df_merged['Title'].apply(lambda x: 'Other' if x not in ['Miss','Master','Mr','Mrs'] else x)\n",
    "df_merged['Title'].value_counts()"
   ]
  },
  {
   "cell_type": "markdown",
   "id": "3258206d-89a0-424a-b593-b3266865e0d4",
   "metadata": {},
   "source": [
    "### Valores ausentes da coluna Age"
   ]
  },
  {
   "cell_type": "markdown",
   "id": "fc59da9c-00b1-49e2-b27f-aa4f49914c00",
   "metadata": {},
   "source": [
    "Para lidar com os valores ausentes na coluna `Age`, será adotada uma abordagem baseada na média de idades para cada título presente no conjunto de dados. Esta estratégia considera que os títulos (`Mr`, `Mrs`, `Miss`, `Master`) refletem diferentes faixas etárias, o que nos permitirá fazer imputações mais precisas."
   ]
  },
  {
   "cell_type": "code",
   "execution_count": 29,
   "id": "55da406c-9c9f-4de9-9a2a-9a8cc88d9f74",
   "metadata": {},
   "outputs": [],
   "source": [
    "title_ages = df_merged.groupby('Title')['Age'].mean()"
   ]
  },
  {
   "cell_type": "code",
   "execution_count": 30,
   "id": "37dfff16-0a80-4396-a5ec-2e04c8a94261",
   "metadata": {},
   "outputs": [],
   "source": [
    "df_merged['Age'] = df_merged.apply(lambda row: title_ages[row['Title']] if pd.isnull(row['Age']) else row['Age'], axis=1)"
   ]
  },
  {
   "cell_type": "code",
   "execution_count": 31,
   "id": "7ad15892-8a89-415d-8b94-3d83667df98c",
   "metadata": {},
   "outputs": [
    {
     "data": {
      "text/plain": [
       "Age            0\n",
       "Cabin       1014\n",
       "Embarked       0\n",
       "Fare           0\n",
       "Name           0\n",
       "Parch          0\n",
       "Pclass         0\n",
       "Sex            0\n",
       "SibSp          0\n",
       "Survived     418\n",
       "Ticket         0\n",
       "Title          0\n",
       "dtype: int64"
      ]
     },
     "execution_count": 31,
     "metadata": {},
     "output_type": "execute_result"
    }
   ],
   "source": [
    "df_merged.isnull().sum()"
   ]
  },
  {
   "cell_type": "code",
   "execution_count": 32,
   "id": "81ae83c5-2feb-4dbd-b8b9-cce8c6d2186e",
   "metadata": {},
   "outputs": [
    {
     "data": {
      "text/html": [
       "<div>\n",
       "<style scoped>\n",
       "    .dataframe tbody tr th:only-of-type {\n",
       "        vertical-align: middle;\n",
       "    }\n",
       "\n",
       "    .dataframe tbody tr th {\n",
       "        vertical-align: top;\n",
       "    }\n",
       "\n",
       "    .dataframe thead th {\n",
       "        text-align: right;\n",
       "    }\n",
       "</style>\n",
       "<table border=\"1\" class=\"dataframe\">\n",
       "  <thead>\n",
       "    <tr style=\"text-align: right;\">\n",
       "      <th></th>\n",
       "      <th>Age</th>\n",
       "      <th>Fare</th>\n",
       "      <th>Parch</th>\n",
       "      <th>Pclass</th>\n",
       "      <th>SibSp</th>\n",
       "      <th>Survived</th>\n",
       "    </tr>\n",
       "  </thead>\n",
       "  <tbody>\n",
       "    <tr>\n",
       "      <th>count</th>\n",
       "      <td>1309.000000</td>\n",
       "      <td>1309.000000</td>\n",
       "      <td>1309.000000</td>\n",
       "      <td>1309.000000</td>\n",
       "      <td>1309.000000</td>\n",
       "      <td>891.000000</td>\n",
       "    </tr>\n",
       "    <tr>\n",
       "      <th>mean</th>\n",
       "      <td>29.907391</td>\n",
       "      <td>33.281086</td>\n",
       "      <td>0.385027</td>\n",
       "      <td>2.294882</td>\n",
       "      <td>0.498854</td>\n",
       "      <td>0.383838</td>\n",
       "    </tr>\n",
       "    <tr>\n",
       "      <th>std</th>\n",
       "      <td>13.197710</td>\n",
       "      <td>51.741500</td>\n",
       "      <td>0.865560</td>\n",
       "      <td>0.837836</td>\n",
       "      <td>1.041658</td>\n",
       "      <td>0.486592</td>\n",
       "    </tr>\n",
       "    <tr>\n",
       "      <th>min</th>\n",
       "      <td>0.170000</td>\n",
       "      <td>0.000000</td>\n",
       "      <td>0.000000</td>\n",
       "      <td>1.000000</td>\n",
       "      <td>0.000000</td>\n",
       "      <td>0.000000</td>\n",
       "    </tr>\n",
       "    <tr>\n",
       "      <th>25%</th>\n",
       "      <td>21.774238</td>\n",
       "      <td>7.895800</td>\n",
       "      <td>0.000000</td>\n",
       "      <td>2.000000</td>\n",
       "      <td>0.000000</td>\n",
       "      <td>0.000000</td>\n",
       "    </tr>\n",
       "    <tr>\n",
       "      <th>50%</th>\n",
       "      <td>30.000000</td>\n",
       "      <td>14.454200</td>\n",
       "      <td>0.000000</td>\n",
       "      <td>3.000000</td>\n",
       "      <td>0.000000</td>\n",
       "      <td>0.000000</td>\n",
       "    </tr>\n",
       "    <tr>\n",
       "      <th>75%</th>\n",
       "      <td>36.000000</td>\n",
       "      <td>31.275000</td>\n",
       "      <td>0.000000</td>\n",
       "      <td>3.000000</td>\n",
       "      <td>1.000000</td>\n",
       "      <td>1.000000</td>\n",
       "    </tr>\n",
       "    <tr>\n",
       "      <th>max</th>\n",
       "      <td>80.000000</td>\n",
       "      <td>512.329200</td>\n",
       "      <td>9.000000</td>\n",
       "      <td>3.000000</td>\n",
       "      <td>8.000000</td>\n",
       "      <td>1.000000</td>\n",
       "    </tr>\n",
       "  </tbody>\n",
       "</table>\n",
       "</div>"
      ],
      "text/plain": [
       "               Age         Fare        Parch       Pclass        SibSp  \\\n",
       "count  1309.000000  1309.000000  1309.000000  1309.000000  1309.000000   \n",
       "mean     29.907391    33.281086     0.385027     2.294882     0.498854   \n",
       "std      13.197710    51.741500     0.865560     0.837836     1.041658   \n",
       "min       0.170000     0.000000     0.000000     1.000000     0.000000   \n",
       "25%      21.774238     7.895800     0.000000     2.000000     0.000000   \n",
       "50%      30.000000    14.454200     0.000000     3.000000     0.000000   \n",
       "75%      36.000000    31.275000     0.000000     3.000000     1.000000   \n",
       "max      80.000000   512.329200     9.000000     3.000000     8.000000   \n",
       "\n",
       "         Survived  \n",
       "count  891.000000  \n",
       "mean     0.383838  \n",
       "std      0.486592  \n",
       "min      0.000000  \n",
       "25%      0.000000  \n",
       "50%      0.000000  \n",
       "75%      1.000000  \n",
       "max      1.000000  "
      ]
     },
     "execution_count": 32,
     "metadata": {},
     "output_type": "execute_result"
    }
   ],
   "source": [
    "df_merged.describe()"
   ]
  },
  {
   "cell_type": "markdown",
   "id": "580244b2-970d-458f-a1b4-109860e211c8",
   "metadata": {},
   "source": [
    "### Alone"
   ]
  },
  {
   "cell_type": "markdown",
   "id": "77a450e1-fb3a-48e6-b47e-8d0142ab1a5f",
   "metadata": {},
   "source": [
    "Sera criado uma coluna `Alone`como indicativo se um passageiro estava viajando sozinho ou acompanhado. Para determinar isso, será utilizado as colunas `SibSp` (número de irmãos/cônjuges a bordo) e `Parch` (número de pais/filhos a bordo)."
   ]
  },
  {
   "cell_type": "code",
   "execution_count": 33,
   "id": "13cd93de-88f1-4d7a-b003-c2bec8df5c50",
   "metadata": {},
   "outputs": [],
   "source": [
    "df_merged['Alone'] = (df_merged['SibSp'] + df_merged['Parch'] == 0).astype(int)"
   ]
  },
  {
   "cell_type": "code",
   "execution_count": 34,
   "id": "44af85f7-76f5-4ed1-a3be-0149d5e19d3e",
   "metadata": {},
   "outputs": [
    {
     "data": {
      "text/plain": [
       "Alone\n",
       "0    0.505650\n",
       "1    0.303538\n",
       "Name: Survived, dtype: float64"
      ]
     },
     "execution_count": 34,
     "metadata": {},
     "output_type": "execute_result"
    }
   ],
   "source": [
    "df_merged.groupby('Alone')['Survived'].mean()"
   ]
  },
  {
   "cell_type": "markdown",
   "id": "01f86be1-25f2-4e0e-b14c-ceb70795a060",
   "metadata": {},
   "source": [
    "- **Passageiros Acompanhados (`Alone = 0`)**:\n",
    "  - A taxa de sobrevivência para passageiros que estavam acompanhados foi de **50.57%**.\n",
    "  \n",
    "- **Passageiros Sozinhos (`Alone = 1`)**:\n",
    "  - A taxa de sobrevivência para passageiros que estavam viajando sozinhos foi de **30.35%**."
   ]
  },
  {
   "cell_type": "markdown",
   "id": "d9e13453-79a8-49f3-8160-71aba73446b5",
   "metadata": {},
   "source": [
    "### FamilySize"
   ]
  },
  {
   "cell_type": "markdown",
   "id": "703752d3-4f78-42b4-a43e-cae5ef08c110",
   "metadata": {},
   "source": [
    "Para melhorar a análise sobre o impacto dos familiares na sobrevivência, será criado uma nova coluna chamada `FamilySize`, que representa o número total de membros da família que o passageiro tinha a bordo. Esta coluna é a soma das colunas `SibSp` (número de irmãos/cônjuges) e `Parch` (número de pais/filhos) + 1 para incluir o próprio passageiro no cálculo do tamanho da família.\n"
   ]
  },
  {
   "cell_type": "code",
   "execution_count": 35,
   "id": "b7b31379-55de-460b-aed2-8ae038d4aba6",
   "metadata": {},
   "outputs": [
    {
     "data": {
      "text/plain": [
       "FamilySize\n",
       "1     0.303538\n",
       "2     0.552795\n",
       "3     0.578431\n",
       "4     0.724138\n",
       "5     0.200000\n",
       "6     0.136364\n",
       "7     0.333333\n",
       "8     0.000000\n",
       "11    0.000000\n",
       "Name: Survived, dtype: float64"
      ]
     },
     "execution_count": 35,
     "metadata": {},
     "output_type": "execute_result"
    }
   ],
   "source": [
    "df_merged['FamilySize'] = df_merged['SibSp'] + df_merged['Parch'] + 1\n",
    "df_merged.groupby('FamilySize')['Survived'].mean()"
   ]
  },
  {
   "cell_type": "markdown",
   "id": "e8b4aec8-9992-4560-9b70-f4500c978b20",
   "metadata": {},
   "source": [
    "### AgeGroup"
   ]
  },
  {
   "cell_type": "markdown",
   "id": "1c8c3d1c-f1b6-41e0-b07b-4a4c2bf39b93",
   "metadata": {},
   "source": [
    "Para facilitar a análise do impacto da idade na sobrevivência, será categorizado os passageiros em diferentes faixas etárias. A nova coluna será chamada `AgeGroup` e dividirá os passageiros em grupos de acordo com sua idade."
   ]
  },
  {
   "cell_type": "code",
   "execution_count": 36,
   "id": "b4aa0296-333a-4f76-828d-0874565f3d21",
   "metadata": {},
   "outputs": [
    {
     "data": {
      "text/plain": [
       "AgeGroup\n",
       "(-0.08, 16.0]    0.548077\n",
       "(16.0, 32.0]     0.328032\n",
       "(32.0, 48.0]     0.436275\n",
       "(48.0, 64.0]     0.434783\n",
       "(64.0, 80.0]     0.090909\n",
       "Name: Survived, dtype: float64"
      ]
     },
     "execution_count": 36,
     "metadata": {},
     "output_type": "execute_result"
    }
   ],
   "source": [
    "df_merged['AgeGroup'] = pd.cut(df_merged['Age'].astype('int'), bins = 5)\n",
    "df_merged.groupby('AgeGroup')['Survived'].mean()"
   ]
  },
  {
   "cell_type": "markdown",
   "id": "67bf4600-46fb-470d-8210-481da5040995",
   "metadata": {},
   "source": [
    "- **[-0.08 - 16]**: Passageiros nessa faixa etária tiveram uma taxa de sobrevivência de **54,81%**, indicando que mais da metade das crianças e adolescentes conseguiram sobreviver.\n",
    "- **[16 - 32]**: Jovens adultos apresentaram uma taxa de sobrevivência de **32,80%**, mostrando que, apesar de ser um grupo numeroso, a sobrevivência foi inferior a 50%.\n",
    "- **[32 - 48]**: Para aqueles entre 32 e 48 anos, a taxa de sobrevivência foi de **43,63%**, com um equilíbrio mais próximo entre sobreviventes e não sobreviventes.\n",
    "- **[48 - 64]**: Passageiros nessa faixa etária tiveram uma taxa de sobrevivência de **43,48%**, semelhante ao grupo anterior, mas ainda abaixo da metade.\n",
    "- **[64 - 80]**: Este grupo teve a menor taxa de sobrevivência, com apenas **9,09%** dos passageiros conseguindo sobreviver, evidenciando as dificuldades enfrentadas pelos mais velhos.\n"
   ]
  },
  {
   "cell_type": "markdown",
   "id": "c1e36c36-0b3f-4ecd-88e0-b9e7cc97a0ae",
   "metadata": {},
   "source": [
    "## Pré-processamento dos dados"
   ]
  },
  {
   "cell_type": "markdown",
   "id": "372e1ce2-cd62-4678-91c5-755238be801e",
   "metadata": {},
   "source": [
    "### Binarização da coluna `Sex`\n",
    "\n",
    "Como parte do pré-processamento dos dados para envio aos modelos de machine learning, a coluna `Sex` será binarizada."
   ]
  },
  {
   "cell_type": "code",
   "execution_count": 37,
   "id": "29f8a412-dddd-4234-9c73-e70ad6e5f23d",
   "metadata": {},
   "outputs": [],
   "source": [
    "df_merged['Sex'] = df_merged['Sex'].map({'male':0, 'female':1})"
   ]
  },
  {
   "cell_type": "markdown",
   "id": "39429819-b7b4-42b3-a41f-bb2e63072500",
   "metadata": {},
   "source": [
    "### Criação das Variáveis Dummy"
   ]
  },
  {
   "cell_type": "code",
   "execution_count": 38,
   "id": "b6484979-4760-4c36-a9d2-1d4c4f61b4e5",
   "metadata": {},
   "outputs": [],
   "source": [
    "df_merged = pd.get_dummies(df_merged, columns=['Embarked',\n",
    "                                     'Sex',\n",
    "                                     'Title',\n",
    "                                     'AgeGroup'], drop_first=True)"
   ]
  },
  {
   "cell_type": "markdown",
   "id": "12371c27-f5cb-4743-b877-77c58615221f",
   "metadata": {},
   "source": [
    "### Remoção das colunas que não serão utilizadas "
   ]
  },
  {
   "cell_type": "code",
   "execution_count": 39,
   "id": "4eac730e-2516-43a3-aee2-08810b4d3324",
   "metadata": {},
   "outputs": [],
   "source": [
    "df_merged.drop(['Name', 'Cabin', 'Ticket'], axis=1, inplace=True)"
   ]
  },
  {
   "cell_type": "markdown",
   "id": "3b264e83-0ae7-4b51-926d-df0519032c6b",
   "metadata": {},
   "source": [
    "### df_train e df_test\n",
    "No início do projeto, os conjuntos de dados `df_train` e `df_test` foram unidos em um único DataFrame chamado `df_merged` para facilitar o pré-processamento e a análise. A seguir, será separado de volta"
   ]
  },
  {
   "cell_type": "code",
   "execution_count": 40,
   "id": "83dff499-9dbe-43dd-b6d2-9b5ac28254ac",
   "metadata": {},
   "outputs": [],
   "source": [
    "df_train = df_merged.iloc[:train_idx]\n",
    "df_test = df_merged.iloc[train_idx:]"
   ]
  },
  {
   "cell_type": "code",
   "execution_count": 41,
   "id": "8e61e779-f793-4912-b267-d383059e8b72",
   "metadata": {},
   "outputs": [
    {
     "data": {
      "text/html": [
       "<div>\n",
       "<style scoped>\n",
       "    .dataframe tbody tr th:only-of-type {\n",
       "        vertical-align: middle;\n",
       "    }\n",
       "\n",
       "    .dataframe tbody tr th {\n",
       "        vertical-align: top;\n",
       "    }\n",
       "\n",
       "    .dataframe thead th {\n",
       "        text-align: right;\n",
       "    }\n",
       "</style>\n",
       "<table border=\"1\" class=\"dataframe\">\n",
       "  <thead>\n",
       "    <tr style=\"text-align: right;\">\n",
       "      <th></th>\n",
       "      <th>Age</th>\n",
       "      <th>Fare</th>\n",
       "      <th>Parch</th>\n",
       "      <th>Pclass</th>\n",
       "      <th>SibSp</th>\n",
       "      <th>Survived</th>\n",
       "      <th>Alone</th>\n",
       "      <th>FamilySize</th>\n",
       "      <th>Embarked_Q</th>\n",
       "      <th>Embarked_S</th>\n",
       "      <th>Sex_1</th>\n",
       "      <th>Title_Miss</th>\n",
       "      <th>Title_Mr</th>\n",
       "      <th>Title_Mrs</th>\n",
       "      <th>Title_Other</th>\n",
       "      <th>AgeGroup_(16.0, 32.0]</th>\n",
       "      <th>AgeGroup_(32.0, 48.0]</th>\n",
       "      <th>AgeGroup_(48.0, 64.0]</th>\n",
       "      <th>AgeGroup_(64.0, 80.0]</th>\n",
       "    </tr>\n",
       "    <tr>\n",
       "      <th>PassengerId</th>\n",
       "      <th></th>\n",
       "      <th></th>\n",
       "      <th></th>\n",
       "      <th></th>\n",
       "      <th></th>\n",
       "      <th></th>\n",
       "      <th></th>\n",
       "      <th></th>\n",
       "      <th></th>\n",
       "      <th></th>\n",
       "      <th></th>\n",
       "      <th></th>\n",
       "      <th></th>\n",
       "      <th></th>\n",
       "      <th></th>\n",
       "      <th></th>\n",
       "      <th></th>\n",
       "      <th></th>\n",
       "      <th></th>\n",
       "    </tr>\n",
       "  </thead>\n",
       "  <tbody>\n",
       "    <tr>\n",
       "      <th>892</th>\n",
       "      <td>34.500000</td>\n",
       "      <td>7.8292</td>\n",
       "      <td>0</td>\n",
       "      <td>3</td>\n",
       "      <td>0</td>\n",
       "      <td>NaN</td>\n",
       "      <td>1</td>\n",
       "      <td>1</td>\n",
       "      <td>1</td>\n",
       "      <td>0</td>\n",
       "      <td>0</td>\n",
       "      <td>0</td>\n",
       "      <td>1</td>\n",
       "      <td>0</td>\n",
       "      <td>0</td>\n",
       "      <td>0</td>\n",
       "      <td>1</td>\n",
       "      <td>0</td>\n",
       "      <td>0</td>\n",
       "    </tr>\n",
       "    <tr>\n",
       "      <th>893</th>\n",
       "      <td>47.000000</td>\n",
       "      <td>7.0000</td>\n",
       "      <td>0</td>\n",
       "      <td>3</td>\n",
       "      <td>1</td>\n",
       "      <td>NaN</td>\n",
       "      <td>0</td>\n",
       "      <td>2</td>\n",
       "      <td>0</td>\n",
       "      <td>1</td>\n",
       "      <td>1</td>\n",
       "      <td>0</td>\n",
       "      <td>0</td>\n",
       "      <td>1</td>\n",
       "      <td>0</td>\n",
       "      <td>0</td>\n",
       "      <td>1</td>\n",
       "      <td>0</td>\n",
       "      <td>0</td>\n",
       "    </tr>\n",
       "    <tr>\n",
       "      <th>894</th>\n",
       "      <td>62.000000</td>\n",
       "      <td>9.6875</td>\n",
       "      <td>0</td>\n",
       "      <td>2</td>\n",
       "      <td>0</td>\n",
       "      <td>NaN</td>\n",
       "      <td>1</td>\n",
       "      <td>1</td>\n",
       "      <td>1</td>\n",
       "      <td>0</td>\n",
       "      <td>0</td>\n",
       "      <td>0</td>\n",
       "      <td>1</td>\n",
       "      <td>0</td>\n",
       "      <td>0</td>\n",
       "      <td>0</td>\n",
       "      <td>0</td>\n",
       "      <td>1</td>\n",
       "      <td>0</td>\n",
       "    </tr>\n",
       "    <tr>\n",
       "      <th>895</th>\n",
       "      <td>27.000000</td>\n",
       "      <td>8.6625</td>\n",
       "      <td>0</td>\n",
       "      <td>3</td>\n",
       "      <td>0</td>\n",
       "      <td>NaN</td>\n",
       "      <td>1</td>\n",
       "      <td>1</td>\n",
       "      <td>0</td>\n",
       "      <td>1</td>\n",
       "      <td>0</td>\n",
       "      <td>0</td>\n",
       "      <td>1</td>\n",
       "      <td>0</td>\n",
       "      <td>0</td>\n",
       "      <td>1</td>\n",
       "      <td>0</td>\n",
       "      <td>0</td>\n",
       "      <td>0</td>\n",
       "    </tr>\n",
       "    <tr>\n",
       "      <th>896</th>\n",
       "      <td>22.000000</td>\n",
       "      <td>12.2875</td>\n",
       "      <td>1</td>\n",
       "      <td>3</td>\n",
       "      <td>1</td>\n",
       "      <td>NaN</td>\n",
       "      <td>0</td>\n",
       "      <td>3</td>\n",
       "      <td>0</td>\n",
       "      <td>1</td>\n",
       "      <td>1</td>\n",
       "      <td>0</td>\n",
       "      <td>0</td>\n",
       "      <td>1</td>\n",
       "      <td>0</td>\n",
       "      <td>1</td>\n",
       "      <td>0</td>\n",
       "      <td>0</td>\n",
       "      <td>0</td>\n",
       "    </tr>\n",
       "    <tr>\n",
       "      <th>...</th>\n",
       "      <td>...</td>\n",
       "      <td>...</td>\n",
       "      <td>...</td>\n",
       "      <td>...</td>\n",
       "      <td>...</td>\n",
       "      <td>...</td>\n",
       "      <td>...</td>\n",
       "      <td>...</td>\n",
       "      <td>...</td>\n",
       "      <td>...</td>\n",
       "      <td>...</td>\n",
       "      <td>...</td>\n",
       "      <td>...</td>\n",
       "      <td>...</td>\n",
       "      <td>...</td>\n",
       "      <td>...</td>\n",
       "      <td>...</td>\n",
       "      <td>...</td>\n",
       "      <td>...</td>\n",
       "    </tr>\n",
       "    <tr>\n",
       "      <th>1305</th>\n",
       "      <td>32.252151</td>\n",
       "      <td>8.0500</td>\n",
       "      <td>0</td>\n",
       "      <td>3</td>\n",
       "      <td>0</td>\n",
       "      <td>NaN</td>\n",
       "      <td>1</td>\n",
       "      <td>1</td>\n",
       "      <td>0</td>\n",
       "      <td>1</td>\n",
       "      <td>0</td>\n",
       "      <td>0</td>\n",
       "      <td>1</td>\n",
       "      <td>0</td>\n",
       "      <td>0</td>\n",
       "      <td>1</td>\n",
       "      <td>0</td>\n",
       "      <td>0</td>\n",
       "      <td>0</td>\n",
       "    </tr>\n",
       "    <tr>\n",
       "      <th>1306</th>\n",
       "      <td>39.000000</td>\n",
       "      <td>108.9000</td>\n",
       "      <td>0</td>\n",
       "      <td>1</td>\n",
       "      <td>0</td>\n",
       "      <td>NaN</td>\n",
       "      <td>1</td>\n",
       "      <td>1</td>\n",
       "      <td>0</td>\n",
       "      <td>0</td>\n",
       "      <td>1</td>\n",
       "      <td>0</td>\n",
       "      <td>0</td>\n",
       "      <td>0</td>\n",
       "      <td>1</td>\n",
       "      <td>0</td>\n",
       "      <td>1</td>\n",
       "      <td>0</td>\n",
       "      <td>0</td>\n",
       "    </tr>\n",
       "    <tr>\n",
       "      <th>1307</th>\n",
       "      <td>38.500000</td>\n",
       "      <td>7.2500</td>\n",
       "      <td>0</td>\n",
       "      <td>3</td>\n",
       "      <td>0</td>\n",
       "      <td>NaN</td>\n",
       "      <td>1</td>\n",
       "      <td>1</td>\n",
       "      <td>0</td>\n",
       "      <td>1</td>\n",
       "      <td>0</td>\n",
       "      <td>0</td>\n",
       "      <td>1</td>\n",
       "      <td>0</td>\n",
       "      <td>0</td>\n",
       "      <td>0</td>\n",
       "      <td>1</td>\n",
       "      <td>0</td>\n",
       "      <td>0</td>\n",
       "    </tr>\n",
       "    <tr>\n",
       "      <th>1308</th>\n",
       "      <td>32.252151</td>\n",
       "      <td>8.0500</td>\n",
       "      <td>0</td>\n",
       "      <td>3</td>\n",
       "      <td>0</td>\n",
       "      <td>NaN</td>\n",
       "      <td>1</td>\n",
       "      <td>1</td>\n",
       "      <td>0</td>\n",
       "      <td>1</td>\n",
       "      <td>0</td>\n",
       "      <td>0</td>\n",
       "      <td>1</td>\n",
       "      <td>0</td>\n",
       "      <td>0</td>\n",
       "      <td>1</td>\n",
       "      <td>0</td>\n",
       "      <td>0</td>\n",
       "      <td>0</td>\n",
       "    </tr>\n",
       "    <tr>\n",
       "      <th>1309</th>\n",
       "      <td>5.482642</td>\n",
       "      <td>22.3583</td>\n",
       "      <td>1</td>\n",
       "      <td>3</td>\n",
       "      <td>1</td>\n",
       "      <td>NaN</td>\n",
       "      <td>0</td>\n",
       "      <td>3</td>\n",
       "      <td>0</td>\n",
       "      <td>0</td>\n",
       "      <td>0</td>\n",
       "      <td>0</td>\n",
       "      <td>0</td>\n",
       "      <td>0</td>\n",
       "      <td>0</td>\n",
       "      <td>0</td>\n",
       "      <td>0</td>\n",
       "      <td>0</td>\n",
       "      <td>0</td>\n",
       "    </tr>\n",
       "  </tbody>\n",
       "</table>\n",
       "<p>418 rows × 19 columns</p>\n",
       "</div>"
      ],
      "text/plain": [
       "                   Age      Fare  Parch  Pclass  SibSp  Survived  Alone  \\\n",
       "PassengerId                                                               \n",
       "892          34.500000    7.8292      0       3      0       NaN      1   \n",
       "893          47.000000    7.0000      0       3      1       NaN      0   \n",
       "894          62.000000    9.6875      0       2      0       NaN      1   \n",
       "895          27.000000    8.6625      0       3      0       NaN      1   \n",
       "896          22.000000   12.2875      1       3      1       NaN      0   \n",
       "...                ...       ...    ...     ...    ...       ...    ...   \n",
       "1305         32.252151    8.0500      0       3      0       NaN      1   \n",
       "1306         39.000000  108.9000      0       1      0       NaN      1   \n",
       "1307         38.500000    7.2500      0       3      0       NaN      1   \n",
       "1308         32.252151    8.0500      0       3      0       NaN      1   \n",
       "1309          5.482642   22.3583      1       3      1       NaN      0   \n",
       "\n",
       "             FamilySize  Embarked_Q  Embarked_S  Sex_1  Title_Miss  Title_Mr  \\\n",
       "PassengerId                                                                    \n",
       "892                   1           1           0      0           0         1   \n",
       "893                   2           0           1      1           0         0   \n",
       "894                   1           1           0      0           0         1   \n",
       "895                   1           0           1      0           0         1   \n",
       "896                   3           0           1      1           0         0   \n",
       "...                 ...         ...         ...    ...         ...       ...   \n",
       "1305                  1           0           1      0           0         1   \n",
       "1306                  1           0           0      1           0         0   \n",
       "1307                  1           0           1      0           0         1   \n",
       "1308                  1           0           1      0           0         1   \n",
       "1309                  3           0           0      0           0         0   \n",
       "\n",
       "             Title_Mrs  Title_Other  AgeGroup_(16.0, 32.0]  \\\n",
       "PassengerId                                                  \n",
       "892                  0            0                      0   \n",
       "893                  1            0                      0   \n",
       "894                  0            0                      0   \n",
       "895                  0            0                      1   \n",
       "896                  1            0                      1   \n",
       "...                ...          ...                    ...   \n",
       "1305                 0            0                      1   \n",
       "1306                 0            1                      0   \n",
       "1307                 0            0                      0   \n",
       "1308                 0            0                      1   \n",
       "1309                 0            0                      0   \n",
       "\n",
       "             AgeGroup_(32.0, 48.0]  AgeGroup_(48.0, 64.0]  \\\n",
       "PassengerId                                                 \n",
       "892                              1                      0   \n",
       "893                              1                      0   \n",
       "894                              0                      1   \n",
       "895                              0                      0   \n",
       "896                              0                      0   \n",
       "...                            ...                    ...   \n",
       "1305                             0                      0   \n",
       "1306                             1                      0   \n",
       "1307                             1                      0   \n",
       "1308                             0                      0   \n",
       "1309                             0                      0   \n",
       "\n",
       "             AgeGroup_(64.0, 80.0]  \n",
       "PassengerId                         \n",
       "892                              0  \n",
       "893                              0  \n",
       "894                              0  \n",
       "895                              0  \n",
       "896                              0  \n",
       "...                            ...  \n",
       "1305                             0  \n",
       "1306                             0  \n",
       "1307                             0  \n",
       "1308                             0  \n",
       "1309                             0  \n",
       "\n",
       "[418 rows x 19 columns]"
      ]
     },
     "execution_count": 41,
     "metadata": {},
     "output_type": "execute_result"
    }
   ],
   "source": [
    "df_test"
   ]
  },
  {
   "cell_type": "code",
   "execution_count": 42,
   "id": "af02f931-6ac0-47f1-8a90-23a1419aa910",
   "metadata": {},
   "outputs": [],
   "source": [
    "# salvar PassengerId para submissao\n",
    "passengerId = df_test.index"
   ]
  },
  {
   "cell_type": "code",
   "execution_count": 43,
   "id": "bdbd3cbc-181a-4c67-a73e-89bec5fa2f29",
   "metadata": {},
   "outputs": [
    {
     "data": {
      "text/plain": [
       "((891, 19), (418, 19))"
      ]
     },
     "execution_count": 43,
     "metadata": {},
     "output_type": "execute_result"
    }
   ],
   "source": [
    "df_train.shape, df_test.shape"
   ]
  },
  {
   "cell_type": "markdown",
   "id": "04448685-35c4-470f-a9b3-dc79bf852425",
   "metadata": {},
   "source": [
    "Separação das variáveis preditoras da variável alvo"
   ]
  },
  {
   "cell_type": "code",
   "execution_count": 44,
   "id": "540c986a-c186-4952-aff4-0b4ed0301312",
   "metadata": {},
   "outputs": [],
   "source": [
    "X = df_train.drop('Survived', axis = 1)\n",
    "y = df_train['Survived']"
   ]
  },
  {
   "cell_type": "markdown",
   "id": "b9b1b5e9-378c-4622-8f81-fd4bd9bcd2bf",
   "metadata": {},
   "source": [
    "### Divisão de treino e Teste\n",
    "\n",
    "A divisão entre conjuntos de treino e teste para a construção dos modelos. Esta separação permite avaliar o desempenho do modelo em dados que não foram utilizados durante o treinamento, garantindo que ele generalize bem para novas observações."
   ]
  },
  {
   "cell_type": "code",
   "execution_count": 45,
   "id": "7722f221-6460-4a36-8a91-c2638b418779",
   "metadata": {},
   "outputs": [
    {
     "data": {
      "text/plain": [
       "((623, 18), (623,))"
      ]
     },
     "execution_count": 45,
     "metadata": {},
     "output_type": "execute_result"
    }
   ],
   "source": [
    "X_train, X_test, y_train, y_test = train_test_split(X, y, test_size=0.3, random_state=42)\n",
    "X_train.shape, y_train.shape"
   ]
  },
  {
   "cell_type": "code",
   "execution_count": 46,
   "id": "c5f773a0-ed1c-463d-8f4c-e298b22cac2f",
   "metadata": {},
   "outputs": [
    {
     "data": {
      "text/plain": [
       "((268, 18), (268,))"
      ]
     },
     "execution_count": 46,
     "metadata": {},
     "output_type": "execute_result"
    }
   ],
   "source": [
    "X_test.shape, y_test.shape"
   ]
  },
  {
   "cell_type": "markdown",
   "id": "db51f2f0-d458-4e06-bfc5-db4f98007393",
   "metadata": {},
   "source": [
    "### Padronizar os dados"
   ]
  },
  {
   "cell_type": "code",
   "execution_count": 47,
   "id": "30acf3be-8fa1-41c4-b1ad-9a34a2e67a19",
   "metadata": {},
   "outputs": [],
   "source": [
    "scaler = StandardScaler()\n",
    "\n",
    "X_train_scaled = scaler.fit_transform(X_train)\n",
    "X_test_scaled = scaler.transform(X_test)"
   ]
  },
  {
   "cell_type": "markdown",
   "id": "11ceb4ef-b975-4ada-9152-8b03c60e6498",
   "metadata": {},
   "source": [
    "## Modelo 01 - Regressão Logística (Benchmark)\n",
    "\n",
    "A Regressão Logística é um dos modelos mais simples e amplamente utilizados para problemas de classificação binária. Neste contexto, ela será utilizada como modelo de benchmark para avaliar o desempenho em prever a sobrevivência dos passageiros no Titanic. A ideia é estabelecer uma linha de base que outros modelos mais complexos poderão superar."
   ]
  },
  {
   "cell_type": "code",
   "execution_count": 48,
   "id": "778ac9cd-3246-433d-8460-530c9eea9bb9",
   "metadata": {},
   "outputs": [
    {
     "data": {
      "text/html": [
       "<style>#sk-container-id-1 {color: black;background-color: white;}#sk-container-id-1 pre{padding: 0;}#sk-container-id-1 div.sk-toggleable {background-color: white;}#sk-container-id-1 label.sk-toggleable__label {cursor: pointer;display: block;width: 100%;margin-bottom: 0;padding: 0.3em;box-sizing: border-box;text-align: center;}#sk-container-id-1 label.sk-toggleable__label-arrow:before {content: \"▸\";float: left;margin-right: 0.25em;color: #696969;}#sk-container-id-1 label.sk-toggleable__label-arrow:hover:before {color: black;}#sk-container-id-1 div.sk-estimator:hover label.sk-toggleable__label-arrow:before {color: black;}#sk-container-id-1 div.sk-toggleable__content {max-height: 0;max-width: 0;overflow: hidden;text-align: left;background-color: #f0f8ff;}#sk-container-id-1 div.sk-toggleable__content pre {margin: 0.2em;color: black;border-radius: 0.25em;background-color: #f0f8ff;}#sk-container-id-1 input.sk-toggleable__control:checked~div.sk-toggleable__content {max-height: 200px;max-width: 100%;overflow: auto;}#sk-container-id-1 input.sk-toggleable__control:checked~label.sk-toggleable__label-arrow:before {content: \"▾\";}#sk-container-id-1 div.sk-estimator input.sk-toggleable__control:checked~label.sk-toggleable__label {background-color: #d4ebff;}#sk-container-id-1 div.sk-label input.sk-toggleable__control:checked~label.sk-toggleable__label {background-color: #d4ebff;}#sk-container-id-1 input.sk-hidden--visually {border: 0;clip: rect(1px 1px 1px 1px);clip: rect(1px, 1px, 1px, 1px);height: 1px;margin: -1px;overflow: hidden;padding: 0;position: absolute;width: 1px;}#sk-container-id-1 div.sk-estimator {font-family: monospace;background-color: #f0f8ff;border: 1px dotted black;border-radius: 0.25em;box-sizing: border-box;margin-bottom: 0.5em;}#sk-container-id-1 div.sk-estimator:hover {background-color: #d4ebff;}#sk-container-id-1 div.sk-parallel-item::after {content: \"\";width: 100%;border-bottom: 1px solid gray;flex-grow: 1;}#sk-container-id-1 div.sk-label:hover label.sk-toggleable__label {background-color: #d4ebff;}#sk-container-id-1 div.sk-serial::before {content: \"\";position: absolute;border-left: 1px solid gray;box-sizing: border-box;top: 0;bottom: 0;left: 50%;z-index: 0;}#sk-container-id-1 div.sk-serial {display: flex;flex-direction: column;align-items: center;background-color: white;padding-right: 0.2em;padding-left: 0.2em;position: relative;}#sk-container-id-1 div.sk-item {position: relative;z-index: 1;}#sk-container-id-1 div.sk-parallel {display: flex;align-items: stretch;justify-content: center;background-color: white;position: relative;}#sk-container-id-1 div.sk-item::before, #sk-container-id-1 div.sk-parallel-item::before {content: \"\";position: absolute;border-left: 1px solid gray;box-sizing: border-box;top: 0;bottom: 0;left: 50%;z-index: -1;}#sk-container-id-1 div.sk-parallel-item {display: flex;flex-direction: column;z-index: 1;position: relative;background-color: white;}#sk-container-id-1 div.sk-parallel-item:first-child::after {align-self: flex-end;width: 50%;}#sk-container-id-1 div.sk-parallel-item:last-child::after {align-self: flex-start;width: 50%;}#sk-container-id-1 div.sk-parallel-item:only-child::after {width: 0;}#sk-container-id-1 div.sk-dashed-wrapped {border: 1px dashed gray;margin: 0 0.4em 0.5em 0.4em;box-sizing: border-box;padding-bottom: 0.4em;background-color: white;}#sk-container-id-1 div.sk-label label {font-family: monospace;font-weight: bold;display: inline-block;line-height: 1.2em;}#sk-container-id-1 div.sk-label-container {text-align: center;}#sk-container-id-1 div.sk-container {/* jupyter's `normalize.less` sets `[hidden] { display: none; }` but bootstrap.min.css set `[hidden] { display: none !important; }` so we also need the `!important` here to be able to override the default hidden behavior on the sphinx rendered scikit-learn.org. See: https://github.com/scikit-learn/scikit-learn/issues/21755 */display: inline-block !important;position: relative;}#sk-container-id-1 div.sk-text-repr-fallback {display: none;}</style><div id=\"sk-container-id-1\" class=\"sk-top-container\"><div class=\"sk-text-repr-fallback\"><pre>LogisticRegression()</pre><b>In a Jupyter environment, please rerun this cell to show the HTML representation or trust the notebook. <br />On GitHub, the HTML representation is unable to render, please try loading this page with nbviewer.org.</b></div><div class=\"sk-container\" hidden><div class=\"sk-item\"><div class=\"sk-estimator sk-toggleable\"><input class=\"sk-toggleable__control sk-hidden--visually\" id=\"sk-estimator-id-1\" type=\"checkbox\" checked><label for=\"sk-estimator-id-1\" class=\"sk-toggleable__label sk-toggleable__label-arrow\">LogisticRegression</label><div class=\"sk-toggleable__content\"><pre>LogisticRegression()</pre></div></div></div></div></div>"
      ],
      "text/plain": [
       "LogisticRegression()"
      ]
     },
     "execution_count": 48,
     "metadata": {},
     "output_type": "execute_result"
    }
   ],
   "source": [
    "model_v1 = LogisticRegression()\n",
    "\n",
    "#fit do modelo\n",
    "model_v1.fit(X_train_scaled, y_train)"
   ]
  },
  {
   "cell_type": "code",
   "execution_count": 49,
   "id": "0531cbe9-e8ff-479d-a820-458d444dc165",
   "metadata": {},
   "outputs": [],
   "source": [
    "#Previsões\n",
    "y_pred_1 = model_v1.predict(X_test_scaled)"
   ]
  },
  {
   "cell_type": "code",
   "execution_count": 50,
   "id": "21505021-8168-4fdd-95e6-abd8ae7db61e",
   "metadata": {},
   "outputs": [
    {
     "name": "stdout",
     "output_type": "stream",
     "text": [
      "0.8171641791044776\n"
     ]
    }
   ],
   "source": [
    "#Avaliação do modelo\n",
    "accuracy_v1 = accuracy_score(y_test, y_pred_1)\n",
    "print(accuracy_v1)"
   ]
  },
  {
   "cell_type": "code",
   "execution_count": 51,
   "id": "ae67ee09-582b-4762-9179-f465bbfcf5ec",
   "metadata": {},
   "outputs": [],
   "source": [
    "conf_matrix_v1 = confusion_matrix(y_test, y_pred_1)\n",
    "class_report_v1 = classification_report(y_test, y_pred_1)"
   ]
  },
  {
   "cell_type": "code",
   "execution_count": 52,
   "id": "f2f024f8-d27a-45ca-bd72-1c6bd0874b64",
   "metadata": {},
   "outputs": [
    {
     "name": "stdout",
     "output_type": "stream",
     "text": [
      "Acurácia: 0.8171641791044776\n",
      "Matriz de Confusão:\n",
      " [[134  23]\n",
      " [ 26  85]]\n",
      "Relatório de Classificação:\n",
      "               precision    recall  f1-score   support\n",
      "\n",
      "         0.0       0.84      0.85      0.85       157\n",
      "         1.0       0.79      0.77      0.78       111\n",
      "\n",
      "    accuracy                           0.82       268\n",
      "   macro avg       0.81      0.81      0.81       268\n",
      "weighted avg       0.82      0.82      0.82       268\n",
      "\n"
     ]
    }
   ],
   "source": [
    "print(\"Acurácia:\", accuracy_v1)\n",
    "print(\"Matriz de Confusão:\\n\", conf_matrix_v1)\n",
    "print(\"Relatório de Classificação:\\n\", class_report_v1)"
   ]
  },
  {
   "cell_type": "markdown",
   "id": "f14b0fdc-f5f9-4102-96d7-4227aa779d84",
   "metadata": {},
   "source": [
    "#### Acurácia\n",
    "- **Acurácia**: 0.8172 (ou 81.72%)\n",
    "  - A acurácia indica que aproximadamente 81.72% das previsões do modelo estavam corretas.\n",
    "\n",
    "#### Matriz de Confusão\n",
    "A matriz de confusão fornece uma visão detalhada das previsões do modelo em relação aos valores reais:\n",
    "\n",
    "- **Interpretando a Matriz**:\n",
    "  - **135**: Verdadeiros Negativos (VN) - Passageiros não sobreviventes corretamente classificados.\n",
    "  - **22**: Falsos Positivos (FP) - Passageiros não sobreviventes incorretamente classificados como sobreviventes.\n",
    "  - **27**: Falsos Negativos (FN) - Passageiros sobreviventes incorretamente classificados como não sobreviventes.\n",
    "  - **84**: Verdadeiros Positivos (VP) - Passageiros sobreviventes corretamente classificados.\n",
    "\n",
    "#### Relatório de Classificação\n",
    "O relatório de classificação detalha a precisão, recall e F1-score para cada classe:\n",
    " \n",
    " **Precision**: Medida da precisão das previsões do modelo.\n",
    "  - Para a classe 0 (não sobreviventes): 0.83\n",
    "  - Para a classe 1 (sobreviventes): 0.79\n",
    "\n",
    "- **Recall**: Medida da capacidade do modelo em identificar corretamente as instâncias positivas.\n",
    "  - Para a classe 0: 0.86\n",
    "  - Para a classe 1: 0.76\n",
    "\n",
    "- **F1-Score**: Média harmônica entre precisão e recall, útil para avaliar o equilíbrio entre as duas métricas.\n",
    "  - Para a classe 0: 0.85\n",
    "  - Para a classe 1: 0.77\n",
    "\n",
    "- **Média Macro**: Média das métricas para cada classe, tratando todas igualmente.\n",
    "  - F1-score: 0.81\n",
    "\n",
    "- **Média Ponderada**: Média das métricas levando em consideração o suporte (número de instâncias) de cada classe.\n",
    "  - F1-score: 0.82\n",
    "\n",
    "### Conclusão\n",
    "Os resultados do modelo de Regressão Logística indicam um desempenho satisfatório, com uma acurácia de aproximadamente 81.72%. As métricas de precisão e recall sugerem que o modelo está se saindo bem na identificação de passageiros sobreviventes e não sobreviventes. Esses resultados servirão como base para comparação com modelos mais complexos."
   ]
  },
  {
   "cell_type": "code",
   "execution_count": 53,
   "id": "82dacac1-df24-463f-9436-9f5cc98df16b",
   "metadata": {},
   "outputs": [],
   "source": [
    "#Salvar os resultados\n",
    "df_models = pd.DataFrame()\n",
    "\n",
    "dict_models_v1 = {'Nome': 'model_v1',\n",
    "                  'Algoritmo': 'Regressão Logística',\n",
    "                  'Acurácia': accuracy_v1}\n",
    "\n",
    "df_models = df_models.append(dict_models_v1, ignore_index = True)"
   ]
  },
  {
   "cell_type": "code",
   "execution_count": 54,
   "id": "52925806-b522-4692-ad0d-4e6fa214ed33",
   "metadata": {},
   "outputs": [
    {
     "data": {
      "text/html": [
       "<div>\n",
       "<style scoped>\n",
       "    .dataframe tbody tr th:only-of-type {\n",
       "        vertical-align: middle;\n",
       "    }\n",
       "\n",
       "    .dataframe tbody tr th {\n",
       "        vertical-align: top;\n",
       "    }\n",
       "\n",
       "    .dataframe thead th {\n",
       "        text-align: right;\n",
       "    }\n",
       "</style>\n",
       "<table border=\"1\" class=\"dataframe\">\n",
       "  <thead>\n",
       "    <tr style=\"text-align: right;\">\n",
       "      <th></th>\n",
       "      <th>Nome</th>\n",
       "      <th>Algoritmo</th>\n",
       "      <th>Acurácia</th>\n",
       "    </tr>\n",
       "  </thead>\n",
       "  <tbody>\n",
       "    <tr>\n",
       "      <th>0</th>\n",
       "      <td>model_v1</td>\n",
       "      <td>Regressão Logística</td>\n",
       "      <td>0.817164</td>\n",
       "    </tr>\n",
       "  </tbody>\n",
       "</table>\n",
       "</div>"
      ],
      "text/plain": [
       "       Nome            Algoritmo  Acurácia\n",
       "0  model_v1  Regressão Logística  0.817164"
      ]
     },
     "execution_count": 54,
     "metadata": {},
     "output_type": "execute_result"
    }
   ],
   "source": [
    "df_models"
   ]
  },
  {
   "cell_type": "markdown",
   "id": "39a211b2-9f00-42d5-8256-1a4c744762d5",
   "metadata": {},
   "source": [
    "### Modelo 02 - Árvore de Decisão\n",
    "A Árvore de Decisão é um modelo de aprendizado supervisionado que utiliza uma estrutura hierárquica para fazer previsões baseadas em regras de decisão. Este modelo é fácil de interpretar, pois cria uma sequência de decisões condicionais que levam a uma conclusão final. No contexto deste projeto, a Árvore de Decisão será utilizada para prever a sobrevivência dos passageiros no Titanic."
   ]
  },
  {
   "cell_type": "code",
   "execution_count": 55,
   "id": "47d02d9c-dbb1-41c4-8b94-392ecd679ecf",
   "metadata": {},
   "outputs": [
    {
     "data": {
      "text/html": [
       "<style>#sk-container-id-2 {color: black;background-color: white;}#sk-container-id-2 pre{padding: 0;}#sk-container-id-2 div.sk-toggleable {background-color: white;}#sk-container-id-2 label.sk-toggleable__label {cursor: pointer;display: block;width: 100%;margin-bottom: 0;padding: 0.3em;box-sizing: border-box;text-align: center;}#sk-container-id-2 label.sk-toggleable__label-arrow:before {content: \"▸\";float: left;margin-right: 0.25em;color: #696969;}#sk-container-id-2 label.sk-toggleable__label-arrow:hover:before {color: black;}#sk-container-id-2 div.sk-estimator:hover label.sk-toggleable__label-arrow:before {color: black;}#sk-container-id-2 div.sk-toggleable__content {max-height: 0;max-width: 0;overflow: hidden;text-align: left;background-color: #f0f8ff;}#sk-container-id-2 div.sk-toggleable__content pre {margin: 0.2em;color: black;border-radius: 0.25em;background-color: #f0f8ff;}#sk-container-id-2 input.sk-toggleable__control:checked~div.sk-toggleable__content {max-height: 200px;max-width: 100%;overflow: auto;}#sk-container-id-2 input.sk-toggleable__control:checked~label.sk-toggleable__label-arrow:before {content: \"▾\";}#sk-container-id-2 div.sk-estimator input.sk-toggleable__control:checked~label.sk-toggleable__label {background-color: #d4ebff;}#sk-container-id-2 div.sk-label input.sk-toggleable__control:checked~label.sk-toggleable__label {background-color: #d4ebff;}#sk-container-id-2 input.sk-hidden--visually {border: 0;clip: rect(1px 1px 1px 1px);clip: rect(1px, 1px, 1px, 1px);height: 1px;margin: -1px;overflow: hidden;padding: 0;position: absolute;width: 1px;}#sk-container-id-2 div.sk-estimator {font-family: monospace;background-color: #f0f8ff;border: 1px dotted black;border-radius: 0.25em;box-sizing: border-box;margin-bottom: 0.5em;}#sk-container-id-2 div.sk-estimator:hover {background-color: #d4ebff;}#sk-container-id-2 div.sk-parallel-item::after {content: \"\";width: 100%;border-bottom: 1px solid gray;flex-grow: 1;}#sk-container-id-2 div.sk-label:hover label.sk-toggleable__label {background-color: #d4ebff;}#sk-container-id-2 div.sk-serial::before {content: \"\";position: absolute;border-left: 1px solid gray;box-sizing: border-box;top: 0;bottom: 0;left: 50%;z-index: 0;}#sk-container-id-2 div.sk-serial {display: flex;flex-direction: column;align-items: center;background-color: white;padding-right: 0.2em;padding-left: 0.2em;position: relative;}#sk-container-id-2 div.sk-item {position: relative;z-index: 1;}#sk-container-id-2 div.sk-parallel {display: flex;align-items: stretch;justify-content: center;background-color: white;position: relative;}#sk-container-id-2 div.sk-item::before, #sk-container-id-2 div.sk-parallel-item::before {content: \"\";position: absolute;border-left: 1px solid gray;box-sizing: border-box;top: 0;bottom: 0;left: 50%;z-index: -1;}#sk-container-id-2 div.sk-parallel-item {display: flex;flex-direction: column;z-index: 1;position: relative;background-color: white;}#sk-container-id-2 div.sk-parallel-item:first-child::after {align-self: flex-end;width: 50%;}#sk-container-id-2 div.sk-parallel-item:last-child::after {align-self: flex-start;width: 50%;}#sk-container-id-2 div.sk-parallel-item:only-child::after {width: 0;}#sk-container-id-2 div.sk-dashed-wrapped {border: 1px dashed gray;margin: 0 0.4em 0.5em 0.4em;box-sizing: border-box;padding-bottom: 0.4em;background-color: white;}#sk-container-id-2 div.sk-label label {font-family: monospace;font-weight: bold;display: inline-block;line-height: 1.2em;}#sk-container-id-2 div.sk-label-container {text-align: center;}#sk-container-id-2 div.sk-container {/* jupyter's `normalize.less` sets `[hidden] { display: none; }` but bootstrap.min.css set `[hidden] { display: none !important; }` so we also need the `!important` here to be able to override the default hidden behavior on the sphinx rendered scikit-learn.org. See: https://github.com/scikit-learn/scikit-learn/issues/21755 */display: inline-block !important;position: relative;}#sk-container-id-2 div.sk-text-repr-fallback {display: none;}</style><div id=\"sk-container-id-2\" class=\"sk-top-container\"><div class=\"sk-text-repr-fallback\"><pre>DecisionTreeClassifier(random_state=42)</pre><b>In a Jupyter environment, please rerun this cell to show the HTML representation or trust the notebook. <br />On GitHub, the HTML representation is unable to render, please try loading this page with nbviewer.org.</b></div><div class=\"sk-container\" hidden><div class=\"sk-item\"><div class=\"sk-estimator sk-toggleable\"><input class=\"sk-toggleable__control sk-hidden--visually\" id=\"sk-estimator-id-2\" type=\"checkbox\" checked><label for=\"sk-estimator-id-2\" class=\"sk-toggleable__label sk-toggleable__label-arrow\">DecisionTreeClassifier</label><div class=\"sk-toggleable__content\"><pre>DecisionTreeClassifier(random_state=42)</pre></div></div></div></div></div>"
      ],
      "text/plain": [
       "DecisionTreeClassifier(random_state=42)"
      ]
     },
     "execution_count": 55,
     "metadata": {},
     "output_type": "execute_result"
    }
   ],
   "source": [
    "model_v2 = DecisionTreeClassifier(random_state=42)\n",
    "\n",
    "model_v2.fit(X_train_scaled, y_train)"
   ]
  },
  {
   "cell_type": "code",
   "execution_count": 56,
   "id": "cb4447ca-2edf-4b31-95cb-36bce9cf204e",
   "metadata": {},
   "outputs": [],
   "source": [
    "#Previsões\n",
    "y_pred_2 = model_v2.predict(X_test_scaled)"
   ]
  },
  {
   "cell_type": "code",
   "execution_count": 57,
   "id": "6d3a5cf2-3be0-45ca-922d-4dd1a68e9b80",
   "metadata": {},
   "outputs": [
    {
     "name": "stdout",
     "output_type": "stream",
     "text": [
      "Acurácia: 0.7723880597014925\n",
      "Matriz de Confusão:\n",
      "[[132  25]\n",
      " [ 36  75]]\n",
      "Relatório de Classificação:\n",
      "              precision    recall  f1-score   support\n",
      "\n",
      "         0.0       0.79      0.84      0.81       157\n",
      "         1.0       0.75      0.68      0.71       111\n",
      "\n",
      "    accuracy                           0.77       268\n",
      "   macro avg       0.77      0.76      0.76       268\n",
      "weighted avg       0.77      0.77      0.77       268\n",
      "\n"
     ]
    }
   ],
   "source": [
    "#Acurácia\n",
    "accuracy_v2 = accuracy_score(y_test, y_pred_2)\n",
    "print(f'Acurácia: {accuracy_v2}')\n",
    "\n",
    "#Matriz de confusão\n",
    "conf_matrix_v2 = confusion_matrix(y_test, y_pred_2)\n",
    "print('Matriz de Confusão:')\n",
    "print(conf_matrix_v2)\n",
    "\n",
    "#Relatório de Classificação\n",
    "class_report_v2 = classification_report(y_test, y_pred_2)\n",
    "print('Relatório de Classificação:')\n",
    "print(class_report_v2)"
   ]
  },
  {
   "cell_type": "markdown",
   "id": "d49b3db1-b9e8-44a8-8d5d-10860f3b5a51",
   "metadata": {},
   "source": [
    "## Resultados do Modelo de Árvore de Decisão\n",
    "\n",
    "#### Acurácia\n",
    "- **Acurácia**: 0.7724 (ou 77.24%)\n",
    "  - A acurácia indica que aproximadamente 77.24% das previsões do modelo estavam corretas.\n",
    "\n",
    "#### Matriz de Confusão\n",
    "A matriz de confusão fornece uma visão detalhada das previsões do modelo em relação aos valores reais:\n",
    "\n",
    "- **Interpretando a Matriz**:\n",
    "  - **132**: Verdadeiros Negativos (VN) - Passageiros não sobreviventes corretamente classificados.\n",
    "  - **25**: Falsos Positivos (FP) - Passageiros não sobreviventes incorretamente classificados como sobreviventes.\n",
    "  - **36**: Falsos Negativos (FN) - Passageiros sobreviventes incorretamente classificados como não sobreviventes.\n",
    "  - **75**: Verdadeiros Positivos (VP) - Passageiros sobreviventes corretamente classificados.\n",
    "\n",
    "#### Relatório de Classificação\n",
    "O relatório de classificação detalha a precisão, recall e F1-score para cada classe:\n",
    "\n",
    "- **Precision**: Medida da precisão das previsões do modelo.\n",
    "  - Para a classe 0 (não sobreviventes): 0.79\n",
    "  - Para a classe 1 (sobreviventes): 0.75\n",
    "\n",
    "- **Recall**: Medida da capacidade do modelo em identificar corretamente as instâncias positivas.\n",
    "  - Para a classe 0: 0.84\n",
    "  - Para a classe 1: 0.68\n",
    "\n",
    "- **F1-Score**: Média harmônica entre precisão e recall, útil para avaliar o equilíbrio entre as duas métricas.\n",
    "  - Para a classe 0: 0.81\n",
    "  - Para a classe 1: 0.71\n",
    "\n",
    "- **Média Macro**: Média das métricas para cada classe, tratando todas igualmente.\n",
    "  - F1-score: 0.76\n",
    "\n",
    "- **Média Ponderada**: Média das métricas levando em consideração o suporte (número de instâncias) de cada classe.\n",
    "  - F1-score: 0.77\n",
    "\n",
    "### Conclusão\n",
    "Os resultados do modelo de Árvore de Decisão indicam uma acurácia de aproximadamente 77.24%. O modelo apresenta bom desempenho na classificação dos passageiros, com uma precisão de 0.79 para a classe de não sobreviventes e 0.75 para sobreviventes.\n",
    "\n",
    "A diferença de desempenho sugere que a Regressão Logística tem uma ligeira vantagem em termos de acurácia."
   ]
  },
  {
   "cell_type": "code",
   "execution_count": 58,
   "id": "dccfebe2-9bf3-43e7-afd1-5438b0364b3c",
   "metadata": {},
   "outputs": [],
   "source": [
    "#Salvar os resultados\n",
    "dict_models_v2 = {'Nome': 'model_v2',\n",
    "                  'Algoritmo': 'Árvore de Decisão',\n",
    "                  'Acurácia': accuracy_v2}\n",
    "\n",
    "df_models = df_models.append(dict_models_v2, ignore_index = True)"
   ]
  },
  {
   "cell_type": "code",
   "execution_count": 59,
   "id": "82a15a84-ad91-4a29-8417-6f345c0fcbfa",
   "metadata": {},
   "outputs": [
    {
     "data": {
      "text/html": [
       "<div>\n",
       "<style scoped>\n",
       "    .dataframe tbody tr th:only-of-type {\n",
       "        vertical-align: middle;\n",
       "    }\n",
       "\n",
       "    .dataframe tbody tr th {\n",
       "        vertical-align: top;\n",
       "    }\n",
       "\n",
       "    .dataframe thead th {\n",
       "        text-align: right;\n",
       "    }\n",
       "</style>\n",
       "<table border=\"1\" class=\"dataframe\">\n",
       "  <thead>\n",
       "    <tr style=\"text-align: right;\">\n",
       "      <th></th>\n",
       "      <th>Nome</th>\n",
       "      <th>Algoritmo</th>\n",
       "      <th>Acurácia</th>\n",
       "    </tr>\n",
       "  </thead>\n",
       "  <tbody>\n",
       "    <tr>\n",
       "      <th>0</th>\n",
       "      <td>model_v1</td>\n",
       "      <td>Regressão Logística</td>\n",
       "      <td>0.817164</td>\n",
       "    </tr>\n",
       "    <tr>\n",
       "      <th>1</th>\n",
       "      <td>model_v2</td>\n",
       "      <td>Árvore de Decisão</td>\n",
       "      <td>0.772388</td>\n",
       "    </tr>\n",
       "  </tbody>\n",
       "</table>\n",
       "</div>"
      ],
      "text/plain": [
       "       Nome            Algoritmo  Acurácia\n",
       "0  model_v1  Regressão Logística  0.817164\n",
       "1  model_v2    Árvore de Decisão  0.772388"
      ]
     },
     "execution_count": 59,
     "metadata": {},
     "output_type": "execute_result"
    }
   ],
   "source": [
    "df_models"
   ]
  },
  {
   "cell_type": "markdown",
   "id": "3cfc1643-ec57-4c95-bc86-5099961e677a",
   "metadata": {},
   "source": [
    "## Modelo 03 - Random Forest\n",
    "\n",
    "O Random Forest é um modelo de aprendizado de máquina baseado em múltiplas árvores de decisão. Ele combina o resultado de várias árvores individuais para obter uma predição final mais robusta.\n"
   ]
  },
  {
   "cell_type": "code",
   "execution_count": 60,
   "id": "e3dad9bd-1e4d-46dd-80cb-05eef2803bf0",
   "metadata": {},
   "outputs": [
    {
     "data": {
      "text/html": [
       "<style>#sk-container-id-3 {color: black;background-color: white;}#sk-container-id-3 pre{padding: 0;}#sk-container-id-3 div.sk-toggleable {background-color: white;}#sk-container-id-3 label.sk-toggleable__label {cursor: pointer;display: block;width: 100%;margin-bottom: 0;padding: 0.3em;box-sizing: border-box;text-align: center;}#sk-container-id-3 label.sk-toggleable__label-arrow:before {content: \"▸\";float: left;margin-right: 0.25em;color: #696969;}#sk-container-id-3 label.sk-toggleable__label-arrow:hover:before {color: black;}#sk-container-id-3 div.sk-estimator:hover label.sk-toggleable__label-arrow:before {color: black;}#sk-container-id-3 div.sk-toggleable__content {max-height: 0;max-width: 0;overflow: hidden;text-align: left;background-color: #f0f8ff;}#sk-container-id-3 div.sk-toggleable__content pre {margin: 0.2em;color: black;border-radius: 0.25em;background-color: #f0f8ff;}#sk-container-id-3 input.sk-toggleable__control:checked~div.sk-toggleable__content {max-height: 200px;max-width: 100%;overflow: auto;}#sk-container-id-3 input.sk-toggleable__control:checked~label.sk-toggleable__label-arrow:before {content: \"▾\";}#sk-container-id-3 div.sk-estimator input.sk-toggleable__control:checked~label.sk-toggleable__label {background-color: #d4ebff;}#sk-container-id-3 div.sk-label input.sk-toggleable__control:checked~label.sk-toggleable__label {background-color: #d4ebff;}#sk-container-id-3 input.sk-hidden--visually {border: 0;clip: rect(1px 1px 1px 1px);clip: rect(1px, 1px, 1px, 1px);height: 1px;margin: -1px;overflow: hidden;padding: 0;position: absolute;width: 1px;}#sk-container-id-3 div.sk-estimator {font-family: monospace;background-color: #f0f8ff;border: 1px dotted black;border-radius: 0.25em;box-sizing: border-box;margin-bottom: 0.5em;}#sk-container-id-3 div.sk-estimator:hover {background-color: #d4ebff;}#sk-container-id-3 div.sk-parallel-item::after {content: \"\";width: 100%;border-bottom: 1px solid gray;flex-grow: 1;}#sk-container-id-3 div.sk-label:hover label.sk-toggleable__label {background-color: #d4ebff;}#sk-container-id-3 div.sk-serial::before {content: \"\";position: absolute;border-left: 1px solid gray;box-sizing: border-box;top: 0;bottom: 0;left: 50%;z-index: 0;}#sk-container-id-3 div.sk-serial {display: flex;flex-direction: column;align-items: center;background-color: white;padding-right: 0.2em;padding-left: 0.2em;position: relative;}#sk-container-id-3 div.sk-item {position: relative;z-index: 1;}#sk-container-id-3 div.sk-parallel {display: flex;align-items: stretch;justify-content: center;background-color: white;position: relative;}#sk-container-id-3 div.sk-item::before, #sk-container-id-3 div.sk-parallel-item::before {content: \"\";position: absolute;border-left: 1px solid gray;box-sizing: border-box;top: 0;bottom: 0;left: 50%;z-index: -1;}#sk-container-id-3 div.sk-parallel-item {display: flex;flex-direction: column;z-index: 1;position: relative;background-color: white;}#sk-container-id-3 div.sk-parallel-item:first-child::after {align-self: flex-end;width: 50%;}#sk-container-id-3 div.sk-parallel-item:last-child::after {align-self: flex-start;width: 50%;}#sk-container-id-3 div.sk-parallel-item:only-child::after {width: 0;}#sk-container-id-3 div.sk-dashed-wrapped {border: 1px dashed gray;margin: 0 0.4em 0.5em 0.4em;box-sizing: border-box;padding-bottom: 0.4em;background-color: white;}#sk-container-id-3 div.sk-label label {font-family: monospace;font-weight: bold;display: inline-block;line-height: 1.2em;}#sk-container-id-3 div.sk-label-container {text-align: center;}#sk-container-id-3 div.sk-container {/* jupyter's `normalize.less` sets `[hidden] { display: none; }` but bootstrap.min.css set `[hidden] { display: none !important; }` so we also need the `!important` here to be able to override the default hidden behavior on the sphinx rendered scikit-learn.org. See: https://github.com/scikit-learn/scikit-learn/issues/21755 */display: inline-block !important;position: relative;}#sk-container-id-3 div.sk-text-repr-fallback {display: none;}</style><div id=\"sk-container-id-3\" class=\"sk-top-container\"><div class=\"sk-text-repr-fallback\"><pre>DecisionTreeClassifier(random_state=42)</pre><b>In a Jupyter environment, please rerun this cell to show the HTML representation or trust the notebook. <br />On GitHub, the HTML representation is unable to render, please try loading this page with nbviewer.org.</b></div><div class=\"sk-container\" hidden><div class=\"sk-item\"><div class=\"sk-estimator sk-toggleable\"><input class=\"sk-toggleable__control sk-hidden--visually\" id=\"sk-estimator-id-3\" type=\"checkbox\" checked><label for=\"sk-estimator-id-3\" class=\"sk-toggleable__label sk-toggleable__label-arrow\">DecisionTreeClassifier</label><div class=\"sk-toggleable__content\"><pre>DecisionTreeClassifier(random_state=42)</pre></div></div></div></div></div>"
      ],
      "text/plain": [
       "DecisionTreeClassifier(random_state=42)"
      ]
     },
     "execution_count": 60,
     "metadata": {},
     "output_type": "execute_result"
    }
   ],
   "source": [
    "model_v2 = DecisionTreeClassifier(random_state=42)\n",
    "\n",
    "model_v2.fit(X_train_scaled, y_train)"
   ]
  },
  {
   "cell_type": "code",
   "execution_count": 61,
   "id": "b4d099d5-5ffc-4dd8-b7aa-6621ab0908b3",
   "metadata": {},
   "outputs": [
    {
     "data": {
      "text/html": [
       "<style>#sk-container-id-4 {color: black;background-color: white;}#sk-container-id-4 pre{padding: 0;}#sk-container-id-4 div.sk-toggleable {background-color: white;}#sk-container-id-4 label.sk-toggleable__label {cursor: pointer;display: block;width: 100%;margin-bottom: 0;padding: 0.3em;box-sizing: border-box;text-align: center;}#sk-container-id-4 label.sk-toggleable__label-arrow:before {content: \"▸\";float: left;margin-right: 0.25em;color: #696969;}#sk-container-id-4 label.sk-toggleable__label-arrow:hover:before {color: black;}#sk-container-id-4 div.sk-estimator:hover label.sk-toggleable__label-arrow:before {color: black;}#sk-container-id-4 div.sk-toggleable__content {max-height: 0;max-width: 0;overflow: hidden;text-align: left;background-color: #f0f8ff;}#sk-container-id-4 div.sk-toggleable__content pre {margin: 0.2em;color: black;border-radius: 0.25em;background-color: #f0f8ff;}#sk-container-id-4 input.sk-toggleable__control:checked~div.sk-toggleable__content {max-height: 200px;max-width: 100%;overflow: auto;}#sk-container-id-4 input.sk-toggleable__control:checked~label.sk-toggleable__label-arrow:before {content: \"▾\";}#sk-container-id-4 div.sk-estimator input.sk-toggleable__control:checked~label.sk-toggleable__label {background-color: #d4ebff;}#sk-container-id-4 div.sk-label input.sk-toggleable__control:checked~label.sk-toggleable__label {background-color: #d4ebff;}#sk-container-id-4 input.sk-hidden--visually {border: 0;clip: rect(1px 1px 1px 1px);clip: rect(1px, 1px, 1px, 1px);height: 1px;margin: -1px;overflow: hidden;padding: 0;position: absolute;width: 1px;}#sk-container-id-4 div.sk-estimator {font-family: monospace;background-color: #f0f8ff;border: 1px dotted black;border-radius: 0.25em;box-sizing: border-box;margin-bottom: 0.5em;}#sk-container-id-4 div.sk-estimator:hover {background-color: #d4ebff;}#sk-container-id-4 div.sk-parallel-item::after {content: \"\";width: 100%;border-bottom: 1px solid gray;flex-grow: 1;}#sk-container-id-4 div.sk-label:hover label.sk-toggleable__label {background-color: #d4ebff;}#sk-container-id-4 div.sk-serial::before {content: \"\";position: absolute;border-left: 1px solid gray;box-sizing: border-box;top: 0;bottom: 0;left: 50%;z-index: 0;}#sk-container-id-4 div.sk-serial {display: flex;flex-direction: column;align-items: center;background-color: white;padding-right: 0.2em;padding-left: 0.2em;position: relative;}#sk-container-id-4 div.sk-item {position: relative;z-index: 1;}#sk-container-id-4 div.sk-parallel {display: flex;align-items: stretch;justify-content: center;background-color: white;position: relative;}#sk-container-id-4 div.sk-item::before, #sk-container-id-4 div.sk-parallel-item::before {content: \"\";position: absolute;border-left: 1px solid gray;box-sizing: border-box;top: 0;bottom: 0;left: 50%;z-index: -1;}#sk-container-id-4 div.sk-parallel-item {display: flex;flex-direction: column;z-index: 1;position: relative;background-color: white;}#sk-container-id-4 div.sk-parallel-item:first-child::after {align-self: flex-end;width: 50%;}#sk-container-id-4 div.sk-parallel-item:last-child::after {align-self: flex-start;width: 50%;}#sk-container-id-4 div.sk-parallel-item:only-child::after {width: 0;}#sk-container-id-4 div.sk-dashed-wrapped {border: 1px dashed gray;margin: 0 0.4em 0.5em 0.4em;box-sizing: border-box;padding-bottom: 0.4em;background-color: white;}#sk-container-id-4 div.sk-label label {font-family: monospace;font-weight: bold;display: inline-block;line-height: 1.2em;}#sk-container-id-4 div.sk-label-container {text-align: center;}#sk-container-id-4 div.sk-container {/* jupyter's `normalize.less` sets `[hidden] { display: none; }` but bootstrap.min.css set `[hidden] { display: none !important; }` so we also need the `!important` here to be able to override the default hidden behavior on the sphinx rendered scikit-learn.org. See: https://github.com/scikit-learn/scikit-learn/issues/21755 */display: inline-block !important;position: relative;}#sk-container-id-4 div.sk-text-repr-fallback {display: none;}</style><div id=\"sk-container-id-4\" class=\"sk-top-container\"><div class=\"sk-text-repr-fallback\"><pre>RandomForestClassifier(random_state=42)</pre><b>In a Jupyter environment, please rerun this cell to show the HTML representation or trust the notebook. <br />On GitHub, the HTML representation is unable to render, please try loading this page with nbviewer.org.</b></div><div class=\"sk-container\" hidden><div class=\"sk-item\"><div class=\"sk-estimator sk-toggleable\"><input class=\"sk-toggleable__control sk-hidden--visually\" id=\"sk-estimator-id-4\" type=\"checkbox\" checked><label for=\"sk-estimator-id-4\" class=\"sk-toggleable__label sk-toggleable__label-arrow\">RandomForestClassifier</label><div class=\"sk-toggleable__content\"><pre>RandomForestClassifier(random_state=42)</pre></div></div></div></div></div>"
      ],
      "text/plain": [
       "RandomForestClassifier(random_state=42)"
      ]
     },
     "execution_count": 61,
     "metadata": {},
     "output_type": "execute_result"
    }
   ],
   "source": [
    "model_v3 = RandomForestClassifier(random_state=42)\n",
    "model_v3.fit(X_train_scaled, y_train)"
   ]
  },
  {
   "cell_type": "code",
   "execution_count": 62,
   "id": "dcaf6499-4019-47de-8675-569d98c6d38a",
   "metadata": {},
   "outputs": [],
   "source": [
    "#previsão\n",
    "y_pred_3 = model_v3.predict(X_test_scaled)"
   ]
  },
  {
   "cell_type": "code",
   "execution_count": 63,
   "id": "244f2b67-be65-4989-b690-71446301a467",
   "metadata": {},
   "outputs": [
    {
     "name": "stdout",
     "output_type": "stream",
     "text": [
      "Acurácia: 0.8097014925373134\n",
      "Matriz de Confusão:\n",
      "[[137  20]\n",
      " [ 31  80]]\n",
      "Relatório de Classificação:\n",
      "              precision    recall  f1-score   support\n",
      "\n",
      "         0.0       0.82      0.87      0.84       157\n",
      "         1.0       0.80      0.72      0.76       111\n",
      "\n",
      "    accuracy                           0.81       268\n",
      "   macro avg       0.81      0.80      0.80       268\n",
      "weighted avg       0.81      0.81      0.81       268\n",
      "\n"
     ]
    }
   ],
   "source": [
    "# Acurácia\n",
    "accuracy_v3 = accuracy_score(y_test, y_pred_3)\n",
    "print(f'Acurácia: {accuracy_v3}')\n",
    "\n",
    "# Matriz de Confusão\n",
    "conf_matrix_v3 = confusion_matrix(y_test, y_pred_3)\n",
    "print('Matriz de Confusão:')\n",
    "print(conf_matrix_v3)\n",
    "\n",
    "# Relatório de Classificação\n",
    "class_report_v3 = classification_report(y_test, y_pred_3)\n",
    "print('Relatório de Classificação:')\n",
    "print(class_report_v3)"
   ]
  },
  {
   "cell_type": "markdown",
   "id": "42475a62-4ec4-4190-864e-29955c959c1f",
   "metadata": {},
   "source": [
    "#### Acurácia\n",
    "- **Acurácia**: 0.8097 (ou 80.97%)\n",
    "  - A acurácia indica que aproximadamente 80.97% das previsões do modelo estavam corretas.\n",
    "\n",
    "#### Matriz de Confusão\n",
    "A matriz de confusão fornece uma visão detalhada das previsões do modelo em relação aos valores reais:\n",
    "\n",
    "- **Interpretando a Matriz**:\n",
    "  - **137**: Verdadeiros Negativos (VN) - Passageiros não sobreviventes corretamente classificados.\n",
    "  - **20**: Falsos Positivos (FP) - Passageiros não sobreviventes incorretamente classificados como sobreviventes.\n",
    "  - **31**: Falsos Negativos (FN) - Passageiros sobreviventes incorretamente classificados como não sobreviventes.\n",
    "  - **80**: Verdadeiros Positivos (VP) - Passageiros sobreviventes corretamente classificados.\n",
    "\n",
    "#### Relatório de Classificação\n",
    "O relatório de classificação detalha a precisão, recall e F1-score para cada classe:\n",
    "\n",
    "- **Precision**: Medida da precisão das previsões do modelo.\n",
    "  - Para a classe 0 (não sobreviventes): 0.82\n",
    "  - Para a classe 1 (sobreviventes): 0.80\n",
    "\n",
    "- **Recall**: Medida da capacidade do modelo em identificar corretamente as instâncias positivas.\n",
    "  - Para a classe 0: 0.87\n",
    "  - Para a classe 1: 0.72\n",
    "\n",
    "- **F1-Score**: Média harmônica entre precisão e recall, útil para avaliar o equilíbrio entre as duas métricas.\n",
    "  - Para a classe 0: 0.84\n",
    "  - Para a classe 1: 0.76\n",
    "\n",
    "- **Média Macro**: Média das métricas para cada classe, tratando todas igualmente.\n",
    "  - F1-score: 0.80\n",
    "\n",
    "- **Média Ponderada**: Média das métricas levando em consideração o suporte (número de instâncias) de cada classe.\n",
    "  - F1-score: 0.81\n",
    "\n",
    "### Conclusão\n",
    "Os resultados do modelo Random Forest indicam uma acurácia de 80.97%, ligeiramente superior à do modelo de Árvore de Decisão."
   ]
  },
  {
   "cell_type": "code",
   "execution_count": 64,
   "id": "a3adc772-3c9a-43ac-a2bc-b3292dced8f1",
   "metadata": {},
   "outputs": [],
   "source": [
    "#Salvar os resultados\n",
    "dict_models_v3 = {'Nome': 'model_v3',\n",
    "                  'Algoritmo': 'Random Forest',\n",
    "                  'Acurácia': accuracy_v3}\n",
    "\n",
    "df_models = df_models.append(dict_models_v3, ignore_index = True)"
   ]
  },
  {
   "cell_type": "code",
   "execution_count": 65,
   "id": "9dc6bff7-1c11-4a1a-a612-a998dcd4ca31",
   "metadata": {},
   "outputs": [
    {
     "data": {
      "text/html": [
       "<div>\n",
       "<style scoped>\n",
       "    .dataframe tbody tr th:only-of-type {\n",
       "        vertical-align: middle;\n",
       "    }\n",
       "\n",
       "    .dataframe tbody tr th {\n",
       "        vertical-align: top;\n",
       "    }\n",
       "\n",
       "    .dataframe thead th {\n",
       "        text-align: right;\n",
       "    }\n",
       "</style>\n",
       "<table border=\"1\" class=\"dataframe\">\n",
       "  <thead>\n",
       "    <tr style=\"text-align: right;\">\n",
       "      <th></th>\n",
       "      <th>Nome</th>\n",
       "      <th>Algoritmo</th>\n",
       "      <th>Acurácia</th>\n",
       "    </tr>\n",
       "  </thead>\n",
       "  <tbody>\n",
       "    <tr>\n",
       "      <th>0</th>\n",
       "      <td>model_v1</td>\n",
       "      <td>Regressão Logística</td>\n",
       "      <td>0.817164</td>\n",
       "    </tr>\n",
       "    <tr>\n",
       "      <th>1</th>\n",
       "      <td>model_v2</td>\n",
       "      <td>Árvore de Decisão</td>\n",
       "      <td>0.772388</td>\n",
       "    </tr>\n",
       "    <tr>\n",
       "      <th>2</th>\n",
       "      <td>model_v3</td>\n",
       "      <td>Random Forest</td>\n",
       "      <td>0.809701</td>\n",
       "    </tr>\n",
       "  </tbody>\n",
       "</table>\n",
       "</div>"
      ],
      "text/plain": [
       "       Nome            Algoritmo  Acurácia\n",
       "0  model_v1  Regressão Logística  0.817164\n",
       "1  model_v2    Árvore de Decisão  0.772388\n",
       "2  model_v3        Random Forest  0.809701"
      ]
     },
     "execution_count": 65,
     "metadata": {},
     "output_type": "execute_result"
    }
   ],
   "source": [
    "df_models"
   ]
  },
  {
   "cell_type": "markdown",
   "id": "d635047e-3a2e-46c0-a949-bb92def4b383",
   "metadata": {},
   "source": [
    "## MLPClassifier"
   ]
  },
  {
   "cell_type": "code",
   "execution_count": 66,
   "id": "461fe428-d662-4cd3-a452-d36b6baba12a",
   "metadata": {},
   "outputs": [
    {
     "data": {
      "text/html": [
       "<style>#sk-container-id-5 {color: black;background-color: white;}#sk-container-id-5 pre{padding: 0;}#sk-container-id-5 div.sk-toggleable {background-color: white;}#sk-container-id-5 label.sk-toggleable__label {cursor: pointer;display: block;width: 100%;margin-bottom: 0;padding: 0.3em;box-sizing: border-box;text-align: center;}#sk-container-id-5 label.sk-toggleable__label-arrow:before {content: \"▸\";float: left;margin-right: 0.25em;color: #696969;}#sk-container-id-5 label.sk-toggleable__label-arrow:hover:before {color: black;}#sk-container-id-5 div.sk-estimator:hover label.sk-toggleable__label-arrow:before {color: black;}#sk-container-id-5 div.sk-toggleable__content {max-height: 0;max-width: 0;overflow: hidden;text-align: left;background-color: #f0f8ff;}#sk-container-id-5 div.sk-toggleable__content pre {margin: 0.2em;color: black;border-radius: 0.25em;background-color: #f0f8ff;}#sk-container-id-5 input.sk-toggleable__control:checked~div.sk-toggleable__content {max-height: 200px;max-width: 100%;overflow: auto;}#sk-container-id-5 input.sk-toggleable__control:checked~label.sk-toggleable__label-arrow:before {content: \"▾\";}#sk-container-id-5 div.sk-estimator input.sk-toggleable__control:checked~label.sk-toggleable__label {background-color: #d4ebff;}#sk-container-id-5 div.sk-label input.sk-toggleable__control:checked~label.sk-toggleable__label {background-color: #d4ebff;}#sk-container-id-5 input.sk-hidden--visually {border: 0;clip: rect(1px 1px 1px 1px);clip: rect(1px, 1px, 1px, 1px);height: 1px;margin: -1px;overflow: hidden;padding: 0;position: absolute;width: 1px;}#sk-container-id-5 div.sk-estimator {font-family: monospace;background-color: #f0f8ff;border: 1px dotted black;border-radius: 0.25em;box-sizing: border-box;margin-bottom: 0.5em;}#sk-container-id-5 div.sk-estimator:hover {background-color: #d4ebff;}#sk-container-id-5 div.sk-parallel-item::after {content: \"\";width: 100%;border-bottom: 1px solid gray;flex-grow: 1;}#sk-container-id-5 div.sk-label:hover label.sk-toggleable__label {background-color: #d4ebff;}#sk-container-id-5 div.sk-serial::before {content: \"\";position: absolute;border-left: 1px solid gray;box-sizing: border-box;top: 0;bottom: 0;left: 50%;z-index: 0;}#sk-container-id-5 div.sk-serial {display: flex;flex-direction: column;align-items: center;background-color: white;padding-right: 0.2em;padding-left: 0.2em;position: relative;}#sk-container-id-5 div.sk-item {position: relative;z-index: 1;}#sk-container-id-5 div.sk-parallel {display: flex;align-items: stretch;justify-content: center;background-color: white;position: relative;}#sk-container-id-5 div.sk-item::before, #sk-container-id-5 div.sk-parallel-item::before {content: \"\";position: absolute;border-left: 1px solid gray;box-sizing: border-box;top: 0;bottom: 0;left: 50%;z-index: -1;}#sk-container-id-5 div.sk-parallel-item {display: flex;flex-direction: column;z-index: 1;position: relative;background-color: white;}#sk-container-id-5 div.sk-parallel-item:first-child::after {align-self: flex-end;width: 50%;}#sk-container-id-5 div.sk-parallel-item:last-child::after {align-self: flex-start;width: 50%;}#sk-container-id-5 div.sk-parallel-item:only-child::after {width: 0;}#sk-container-id-5 div.sk-dashed-wrapped {border: 1px dashed gray;margin: 0 0.4em 0.5em 0.4em;box-sizing: border-box;padding-bottom: 0.4em;background-color: white;}#sk-container-id-5 div.sk-label label {font-family: monospace;font-weight: bold;display: inline-block;line-height: 1.2em;}#sk-container-id-5 div.sk-label-container {text-align: center;}#sk-container-id-5 div.sk-container {/* jupyter's `normalize.less` sets `[hidden] { display: none; }` but bootstrap.min.css set `[hidden] { display: none !important; }` so we also need the `!important` here to be able to override the default hidden behavior on the sphinx rendered scikit-learn.org. See: https://github.com/scikit-learn/scikit-learn/issues/21755 */display: inline-block !important;position: relative;}#sk-container-id-5 div.sk-text-repr-fallback {display: none;}</style><div id=\"sk-container-id-5\" class=\"sk-top-container\"><div class=\"sk-text-repr-fallback\"><pre>MLPClassifier(max_iter=1000, random_state=42)</pre><b>In a Jupyter environment, please rerun this cell to show the HTML representation or trust the notebook. <br />On GitHub, the HTML representation is unable to render, please try loading this page with nbviewer.org.</b></div><div class=\"sk-container\" hidden><div class=\"sk-item\"><div class=\"sk-estimator sk-toggleable\"><input class=\"sk-toggleable__control sk-hidden--visually\" id=\"sk-estimator-id-5\" type=\"checkbox\" checked><label for=\"sk-estimator-id-5\" class=\"sk-toggleable__label sk-toggleable__label-arrow\">MLPClassifier</label><div class=\"sk-toggleable__content\"><pre>MLPClassifier(max_iter=1000, random_state=42)</pre></div></div></div></div></div>"
      ],
      "text/plain": [
       "MLPClassifier(max_iter=1000, random_state=42)"
      ]
     },
     "execution_count": 66,
     "metadata": {},
     "output_type": "execute_result"
    }
   ],
   "source": [
    "model_v4 = MLPClassifier(random_state=42, max_iter=1000)\n",
    "\n",
    "model_v4.fit(X_train_scaled, y_train)"
   ]
  },
  {
   "cell_type": "code",
   "execution_count": 67,
   "id": "7b3e0728-60e8-4b68-9d2f-02023fc3a423",
   "metadata": {},
   "outputs": [],
   "source": [
    "#predição\n",
    "y_pred_4 = model_v4.predict(X_test_scaled)"
   ]
  },
  {
   "cell_type": "code",
   "execution_count": 68,
   "id": "a60d3743-1dfb-47de-86e1-73f52bc77592",
   "metadata": {},
   "outputs": [
    {
     "name": "stdout",
     "output_type": "stream",
     "text": [
      "Acurácia: 0.8134328358208955\n",
      "Matriz de Confusão:\n",
      "[[143  14]\n",
      " [ 36  75]]\n",
      "Relatório de Classificação:\n",
      "              precision    recall  f1-score   support\n",
      "\n",
      "         0.0       0.80      0.91      0.85       157\n",
      "         1.0       0.84      0.68      0.75       111\n",
      "\n",
      "    accuracy                           0.81       268\n",
      "   macro avg       0.82      0.79      0.80       268\n",
      "weighted avg       0.82      0.81      0.81       268\n",
      "\n"
     ]
    }
   ],
   "source": [
    "# Acurácia\n",
    "accuracy_v4 = accuracy_score(y_test, y_pred_4)\n",
    "print(f'Acurácia: {accuracy_v4}')\n",
    "\n",
    "# Matriz de confusão\n",
    "conf_matrix_v4 = confusion_matrix(y_test, y_pred_4)\n",
    "print('Matriz de Confusão:')\n",
    "print(conf_matrix_v4)\n",
    "\n",
    "# Relatório de Classificação\n",
    "class_report_v4 = classification_report(y_test, y_pred_4)\n",
    "print('Relatório de Classificação:')\n",
    "print(class_report_v4)"
   ]
  },
  {
   "cell_type": "markdown",
   "id": "d2029f20-a44b-4ff6-a1cf-20b71a794de5",
   "metadata": {},
   "source": [
    "#### Acurácia\n",
    "- **Acurácia**: 0.8134 (ou 81.34%)\n",
    "  - A acurácia indica que aproximadamente 81.34% das previsões do modelo estavam corretas.\n",
    "\n",
    "#### Matriz de Confusão\n",
    "A matriz de confusão fornece uma visão detalhada das previsões do modelo em relação aos valores reais:\n",
    "\n",
    "- **Interpretando a Matriz**:\n",
    "  - **143**: Verdadeiros Negativos (VN) - Passageiros não sobreviventes corretamente classificados.\n",
    "  - **14**: Falsos Positivos (FP) - Passageiros não sobreviventes incorretamente classificados como sobreviventes.\n",
    "  - **36**: Falsos Negativos (FN) - Passageiros sobreviventes incorretamente classificados como não sobreviventes.\n",
    "  - **75**: Verdadeiros Positivos (VP) - Passageiros sobreviventes corretamente classificados.\n",
    "\n",
    "#### Relatório de Classificação\n",
    "O relatório de classificação detalha a precisão, recall e F1-score para cada classe:\n",
    "\n",
    "- **Precision**: Medida da precisão das previsões do modelo.\n",
    "  - Para a classe 0 (não sobreviventes): 0.80\n",
    "  - Para a classe 1 (sobreviventes): 0.84\n",
    "\n",
    "- **Recall**: Medida da capacidade do modelo em identificar corretamente as instâncias positivas.\n",
    "  - Para a classe 0: 0.91\n",
    "  - Para a classe 1: 0.68\n",
    "\n",
    "- **F1-Score**: Média harmônica entre precisão e recall, útil para avaliar o equilíbrio entre as duas métricas.\n",
    "  - Para a classe 0: 0.85\n",
    "  - Para a classe 1: 0.75\n",
    "\n",
    "- **Média Macro**: Média das métricas para cada classe, tratando todas igualmente.\n",
    "  - F1-score: 0.80\n",
    "\n",
    "- **Média Ponderada**: Média das métricas levando em consideração o suporte (número de instâncias) de cada classe.\n",
    "  - F1-score: 0.81\n",
    "\n",
    "### Conclusão\n",
    "Os resultados do modelo de Redes Neurais indicam um desempenho robusto, com uma acurácia de aproximadamente 81.34%. Comparado ao modelo de Regressão Logística, que apresentou uma acurácia de 81.72%, e ao modelo de Árvore de Decisão, com 77.24%, o MLPClassifier superou o modelo de árvore, mas ficou ligeiramente abaixo da regressão logística."
   ]
  },
  {
   "cell_type": "code",
   "execution_count": 69,
   "id": "d8898dbf-8413-4587-ad88-e9e8262f999c",
   "metadata": {},
   "outputs": [],
   "source": [
    "#Salvar os resultados\n",
    "dict_models_v4 = {'Nome': 'model_v4',\n",
    "                  'Algoritmo': 'MLPClassifier',\n",
    "                  'Acurácia': accuracy_v4}\n",
    "\n",
    "df_models = df_models.append(dict_models_v4, ignore_index = True)"
   ]
  },
  {
   "cell_type": "markdown",
   "id": "2a58915d-5b52-44e2-8e32-c936a24e23c7",
   "metadata": {},
   "source": [
    "## Ajuste de Hiperparâmetros da Regressão Logística"
   ]
  },
  {
   "cell_type": "code",
   "execution_count": 70,
   "id": "3ffefdc2-4e86-4fd1-b79a-872d2e1f4bd6",
   "metadata": {},
   "outputs": [],
   "source": [
    "param_grid = {'C': [0.0001, 0.001, 0.01, 0.1, 1, 10, 100, 1000, 10000],\n",
    "                   'penalty': ['l1', 'l2']}\n",
    "\n",
    "model_v5 = GridSearchCV(LogisticRegression(), param_grid, scoring='accuracy', n_jobs=-1)"
   ]
  },
  {
   "cell_type": "code",
   "execution_count": 71,
   "id": "b99cae3d-5897-444b-97cb-7793ab69f874",
   "metadata": {},
   "outputs": [
    {
     "data": {
      "text/html": [
       "<style>#sk-container-id-6 {color: black;background-color: white;}#sk-container-id-6 pre{padding: 0;}#sk-container-id-6 div.sk-toggleable {background-color: white;}#sk-container-id-6 label.sk-toggleable__label {cursor: pointer;display: block;width: 100%;margin-bottom: 0;padding: 0.3em;box-sizing: border-box;text-align: center;}#sk-container-id-6 label.sk-toggleable__label-arrow:before {content: \"▸\";float: left;margin-right: 0.25em;color: #696969;}#sk-container-id-6 label.sk-toggleable__label-arrow:hover:before {color: black;}#sk-container-id-6 div.sk-estimator:hover label.sk-toggleable__label-arrow:before {color: black;}#sk-container-id-6 div.sk-toggleable__content {max-height: 0;max-width: 0;overflow: hidden;text-align: left;background-color: #f0f8ff;}#sk-container-id-6 div.sk-toggleable__content pre {margin: 0.2em;color: black;border-radius: 0.25em;background-color: #f0f8ff;}#sk-container-id-6 input.sk-toggleable__control:checked~div.sk-toggleable__content {max-height: 200px;max-width: 100%;overflow: auto;}#sk-container-id-6 input.sk-toggleable__control:checked~label.sk-toggleable__label-arrow:before {content: \"▾\";}#sk-container-id-6 div.sk-estimator input.sk-toggleable__control:checked~label.sk-toggleable__label {background-color: #d4ebff;}#sk-container-id-6 div.sk-label input.sk-toggleable__control:checked~label.sk-toggleable__label {background-color: #d4ebff;}#sk-container-id-6 input.sk-hidden--visually {border: 0;clip: rect(1px 1px 1px 1px);clip: rect(1px, 1px, 1px, 1px);height: 1px;margin: -1px;overflow: hidden;padding: 0;position: absolute;width: 1px;}#sk-container-id-6 div.sk-estimator {font-family: monospace;background-color: #f0f8ff;border: 1px dotted black;border-radius: 0.25em;box-sizing: border-box;margin-bottom: 0.5em;}#sk-container-id-6 div.sk-estimator:hover {background-color: #d4ebff;}#sk-container-id-6 div.sk-parallel-item::after {content: \"\";width: 100%;border-bottom: 1px solid gray;flex-grow: 1;}#sk-container-id-6 div.sk-label:hover label.sk-toggleable__label {background-color: #d4ebff;}#sk-container-id-6 div.sk-serial::before {content: \"\";position: absolute;border-left: 1px solid gray;box-sizing: border-box;top: 0;bottom: 0;left: 50%;z-index: 0;}#sk-container-id-6 div.sk-serial {display: flex;flex-direction: column;align-items: center;background-color: white;padding-right: 0.2em;padding-left: 0.2em;position: relative;}#sk-container-id-6 div.sk-item {position: relative;z-index: 1;}#sk-container-id-6 div.sk-parallel {display: flex;align-items: stretch;justify-content: center;background-color: white;position: relative;}#sk-container-id-6 div.sk-item::before, #sk-container-id-6 div.sk-parallel-item::before {content: \"\";position: absolute;border-left: 1px solid gray;box-sizing: border-box;top: 0;bottom: 0;left: 50%;z-index: -1;}#sk-container-id-6 div.sk-parallel-item {display: flex;flex-direction: column;z-index: 1;position: relative;background-color: white;}#sk-container-id-6 div.sk-parallel-item:first-child::after {align-self: flex-end;width: 50%;}#sk-container-id-6 div.sk-parallel-item:last-child::after {align-self: flex-start;width: 50%;}#sk-container-id-6 div.sk-parallel-item:only-child::after {width: 0;}#sk-container-id-6 div.sk-dashed-wrapped {border: 1px dashed gray;margin: 0 0.4em 0.5em 0.4em;box-sizing: border-box;padding-bottom: 0.4em;background-color: white;}#sk-container-id-6 div.sk-label label {font-family: monospace;font-weight: bold;display: inline-block;line-height: 1.2em;}#sk-container-id-6 div.sk-label-container {text-align: center;}#sk-container-id-6 div.sk-container {/* jupyter's `normalize.less` sets `[hidden] { display: none; }` but bootstrap.min.css set `[hidden] { display: none !important; }` so we also need the `!important` here to be able to override the default hidden behavior on the sphinx rendered scikit-learn.org. See: https://github.com/scikit-learn/scikit-learn/issues/21755 */display: inline-block !important;position: relative;}#sk-container-id-6 div.sk-text-repr-fallback {display: none;}</style><div id=\"sk-container-id-6\" class=\"sk-top-container\"><div class=\"sk-text-repr-fallback\"><pre>GridSearchCV(estimator=LogisticRegression(), n_jobs=-1,\n",
       "             param_grid={&#x27;C&#x27;: [0.0001, 0.001, 0.01, 0.1, 1, 10, 100, 1000,\n",
       "                               10000],\n",
       "                         &#x27;penalty&#x27;: [&#x27;l1&#x27;, &#x27;l2&#x27;]},\n",
       "             scoring=&#x27;accuracy&#x27;)</pre><b>In a Jupyter environment, please rerun this cell to show the HTML representation or trust the notebook. <br />On GitHub, the HTML representation is unable to render, please try loading this page with nbviewer.org.</b></div><div class=\"sk-container\" hidden><div class=\"sk-item sk-dashed-wrapped\"><div class=\"sk-label-container\"><div class=\"sk-label sk-toggleable\"><input class=\"sk-toggleable__control sk-hidden--visually\" id=\"sk-estimator-id-6\" type=\"checkbox\" ><label for=\"sk-estimator-id-6\" class=\"sk-toggleable__label sk-toggleable__label-arrow\">GridSearchCV</label><div class=\"sk-toggleable__content\"><pre>GridSearchCV(estimator=LogisticRegression(), n_jobs=-1,\n",
       "             param_grid={&#x27;C&#x27;: [0.0001, 0.001, 0.01, 0.1, 1, 10, 100, 1000,\n",
       "                               10000],\n",
       "                         &#x27;penalty&#x27;: [&#x27;l1&#x27;, &#x27;l2&#x27;]},\n",
       "             scoring=&#x27;accuracy&#x27;)</pre></div></div></div><div class=\"sk-parallel\"><div class=\"sk-parallel-item\"><div class=\"sk-item\"><div class=\"sk-label-container\"><div class=\"sk-label sk-toggleable\"><input class=\"sk-toggleable__control sk-hidden--visually\" id=\"sk-estimator-id-7\" type=\"checkbox\" ><label for=\"sk-estimator-id-7\" class=\"sk-toggleable__label sk-toggleable__label-arrow\">estimator: LogisticRegression</label><div class=\"sk-toggleable__content\"><pre>LogisticRegression()</pre></div></div></div><div class=\"sk-serial\"><div class=\"sk-item\"><div class=\"sk-estimator sk-toggleable\"><input class=\"sk-toggleable__control sk-hidden--visually\" id=\"sk-estimator-id-8\" type=\"checkbox\" ><label for=\"sk-estimator-id-8\" class=\"sk-toggleable__label sk-toggleable__label-arrow\">LogisticRegression</label><div class=\"sk-toggleable__content\"><pre>LogisticRegression()</pre></div></div></div></div></div></div></div></div></div></div>"
      ],
      "text/plain": [
       "GridSearchCV(estimator=LogisticRegression(), n_jobs=-1,\n",
       "             param_grid={'C': [0.0001, 0.001, 0.01, 0.1, 1, 10, 100, 1000,\n",
       "                               10000],\n",
       "                         'penalty': ['l1', 'l2']},\n",
       "             scoring='accuracy')"
      ]
     },
     "execution_count": 71,
     "metadata": {},
     "output_type": "execute_result"
    }
   ],
   "source": [
    "model_v5.fit(X_train_scaled, y_train)"
   ]
  },
  {
   "cell_type": "code",
   "execution_count": 72,
   "id": "11963d29-b45a-4d51-9b84-acf88576de32",
   "metadata": {},
   "outputs": [],
   "source": [
    "best_model_v5 = model_v5.best_estimator_"
   ]
  },
  {
   "cell_type": "code",
   "execution_count": 73,
   "id": "6af44f9d-c174-45ca-93e8-b86f945b6ca5",
   "metadata": {},
   "outputs": [],
   "source": [
    "y_pred_v5 = best_model_v5.predict(X_test_scaled)"
   ]
  },
  {
   "cell_type": "code",
   "execution_count": 74,
   "id": "384bfba7-f4e7-4c34-a679-2f76063dee4e",
   "metadata": {},
   "outputs": [
    {
     "name": "stdout",
     "output_type": "stream",
     "text": [
      "Acurácia: 0.8171641791044776\n",
      "Matriz de Confusão:\n",
      "[[134  23]\n",
      " [ 26  85]]\n",
      "Relatório de Classificação:\n",
      "              precision    recall  f1-score   support\n",
      "\n",
      "         0.0       0.84      0.85      0.85       157\n",
      "         1.0       0.79      0.77      0.78       111\n",
      "\n",
      "    accuracy                           0.82       268\n",
      "   macro avg       0.81      0.81      0.81       268\n",
      "weighted avg       0.82      0.82      0.82       268\n",
      "\n"
     ]
    }
   ],
   "source": [
    "accuracy_v5 = accuracy_score(y_test, y_pred_v5)\n",
    "print(f'Acurácia: {accuracy_v5}')\n",
    "\n",
    "conf_matrix_v5 = confusion_matrix(y_test, y_pred_v5)\n",
    "print('Matriz de Confusão:')\n",
    "print(conf_matrix_v5)\n",
    "\n",
    "class_report_v5 = classification_report(y_test, y_pred_v5)\n",
    "print('Relatório de Classificação:')\n",
    "print(class_report_v5)"
   ]
  },
  {
   "cell_type": "markdown",
   "id": "a9c07df2-e4c2-4f95-8a46-c0498e710958",
   "metadata": {},
   "source": [
    "#### Acurácia\n",
    "- **Acurácia**: 0.8172 (ou 81.72%)\n",
    "  - A acurácia indica que aproximadamente 81.72% das previsões do modelo estavam corretas.\n",
    "\n",
    "#### Matriz de Confusão\n",
    "A matriz de confusão fornece uma visão detalhada das previsões do modelo em relação aos valores reais:\n",
    "\n",
    "- **Interpretando a Matriz**:\n",
    "  - **134**: Verdadeiros Negativos (VN) - Passageiros não sobreviventes corretamente classificados.\n",
    "  - **23**: Falsos Positivos (FP) - Passageiros não sobreviventes incorretamente classificados como sobreviventes.\n",
    "  - **26**: Falsos Negativos (FN) - Passageiros sobreviventes incorretamente classificados como não sobreviventes.\n",
    "  - **85**: Verdadeiros Positivos (VP) - Passageiros sobreviventes corretamente classificados.\n",
    "\n",
    "#### Relatório de Classificação\n",
    "O relatório de classificação detalha a precisão, recall e F1-score para cada classe:\n",
    "\n",
    "- **Precision**: Medida da precisão das previsões do modelo.\n",
    "  - Para a classe 0 (não sobreviventes): 0.84\n",
    "  - Para a classe 1 (sobreviventes): 0.79\n",
    "\n",
    "- **Recall**: Medida da capacidade do modelo em identificar corretamente as instâncias positivas.\n",
    "  - Para a classe 0: 0.85\n",
    "  - Para a classe 1: 0.77\n",
    "\n",
    "- **F1-Score**: Média harmônica entre precisão e recall, útil para avaliar o equilíbrio entre as duas métricas.\n",
    "  - Para a classe 0: 0.85\n",
    "  - Para a classe 1: 0.78\n",
    "\n",
    "- **Média Macro**: Média das métricas para cada classe, tratando todas igualmente.\n",
    "  - F1-score: 0.81\n",
    "\n",
    "- **Média Ponderada**: Média das métricas levando em consideração o suporte (número de instâncias) de cada classe.\n",
    "  - F1-score: 0.82"
   ]
  },
  {
   "cell_type": "code",
   "execution_count": 75,
   "id": "a87273b5-df69-4956-88d0-d0a45270aac7",
   "metadata": {},
   "outputs": [],
   "source": [
    "#Salvar os resultados\n",
    "dict_models_v5 = {'Nome': 'model_v5',\n",
    "                  'Algoritmo': 'Regressão Logística com Parâmetros Ajustados',\n",
    "                  'Acurácia': accuracy_v5}\n",
    "\n",
    "df_models = df_models.append(dict_models_v5, ignore_index = True)"
   ]
  },
  {
   "cell_type": "markdown",
   "id": "b398a1ea-9e06-4cf3-9a45-ae35f4734491",
   "metadata": {},
   "source": [
    "## Submissão"
   ]
  },
  {
   "cell_type": "code",
   "execution_count": 76,
   "id": "6ccc3d50-6189-4862-be86-b27e4418bc6e",
   "metadata": {},
   "outputs": [
    {
     "data": {
      "text/html": [
       "<div>\n",
       "<style scoped>\n",
       "    .dataframe tbody tr th:only-of-type {\n",
       "        vertical-align: middle;\n",
       "    }\n",
       "\n",
       "    .dataframe tbody tr th {\n",
       "        vertical-align: top;\n",
       "    }\n",
       "\n",
       "    .dataframe thead th {\n",
       "        text-align: right;\n",
       "    }\n",
       "</style>\n",
       "<table border=\"1\" class=\"dataframe\">\n",
       "  <thead>\n",
       "    <tr style=\"text-align: right;\">\n",
       "      <th></th>\n",
       "      <th>Nome</th>\n",
       "      <th>Algoritmo</th>\n",
       "      <th>Acurácia</th>\n",
       "    </tr>\n",
       "  </thead>\n",
       "  <tbody>\n",
       "    <tr>\n",
       "      <th>0</th>\n",
       "      <td>model_v1</td>\n",
       "      <td>Regressão Logística</td>\n",
       "      <td>0.817164</td>\n",
       "    </tr>\n",
       "    <tr>\n",
       "      <th>1</th>\n",
       "      <td>model_v2</td>\n",
       "      <td>Árvore de Decisão</td>\n",
       "      <td>0.772388</td>\n",
       "    </tr>\n",
       "    <tr>\n",
       "      <th>2</th>\n",
       "      <td>model_v3</td>\n",
       "      <td>Random Forest</td>\n",
       "      <td>0.809701</td>\n",
       "    </tr>\n",
       "    <tr>\n",
       "      <th>3</th>\n",
       "      <td>model_v4</td>\n",
       "      <td>MLPClassifier</td>\n",
       "      <td>0.813433</td>\n",
       "    </tr>\n",
       "    <tr>\n",
       "      <th>4</th>\n",
       "      <td>model_v5</td>\n",
       "      <td>Regressão Logística com Parâmetros Ajustados</td>\n",
       "      <td>0.817164</td>\n",
       "    </tr>\n",
       "  </tbody>\n",
       "</table>\n",
       "</div>"
      ],
      "text/plain": [
       "       Nome                                     Algoritmo  Acurácia\n",
       "0  model_v1                           Regressão Logística  0.817164\n",
       "1  model_v2                             Árvore de Decisão  0.772388\n",
       "2  model_v3                                 Random Forest  0.809701\n",
       "3  model_v4                                 MLPClassifier  0.813433\n",
       "4  model_v5  Regressão Logística com Parâmetros Ajustados  0.817164"
      ]
     },
     "execution_count": 76,
     "metadata": {},
     "output_type": "execute_result"
    }
   ],
   "source": [
    "df_models"
   ]
  },
  {
   "cell_type": "code",
   "execution_count": 77,
   "id": "c48042e8-6fbd-4119-ad38-2728dbf7a297",
   "metadata": {},
   "outputs": [],
   "source": [
    "df_models = df_models.sort_values(by='Acurácia', ascending=False)"
   ]
  },
  {
   "cell_type": "code",
   "execution_count": 78,
   "id": "31c29c7c-4832-40b3-848e-b2a8d429f57c",
   "metadata": {},
   "outputs": [
    {
     "data": {
      "text/html": [
       "<div>\n",
       "<style scoped>\n",
       "    .dataframe tbody tr th:only-of-type {\n",
       "        vertical-align: middle;\n",
       "    }\n",
       "\n",
       "    .dataframe tbody tr th {\n",
       "        vertical-align: top;\n",
       "    }\n",
       "\n",
       "    .dataframe thead th {\n",
       "        text-align: right;\n",
       "    }\n",
       "</style>\n",
       "<table border=\"1\" class=\"dataframe\">\n",
       "  <thead>\n",
       "    <tr style=\"text-align: right;\">\n",
       "      <th></th>\n",
       "      <th>Nome</th>\n",
       "      <th>Algoritmo</th>\n",
       "      <th>Acurácia</th>\n",
       "    </tr>\n",
       "  </thead>\n",
       "  <tbody>\n",
       "    <tr>\n",
       "      <th>0</th>\n",
       "      <td>model_v1</td>\n",
       "      <td>Regressão Logística</td>\n",
       "      <td>0.817164</td>\n",
       "    </tr>\n",
       "    <tr>\n",
       "      <th>4</th>\n",
       "      <td>model_v5</td>\n",
       "      <td>Regressão Logística com Parâmetros Ajustados</td>\n",
       "      <td>0.817164</td>\n",
       "    </tr>\n",
       "    <tr>\n",
       "      <th>3</th>\n",
       "      <td>model_v4</td>\n",
       "      <td>MLPClassifier</td>\n",
       "      <td>0.813433</td>\n",
       "    </tr>\n",
       "    <tr>\n",
       "      <th>2</th>\n",
       "      <td>model_v3</td>\n",
       "      <td>Random Forest</td>\n",
       "      <td>0.809701</td>\n",
       "    </tr>\n",
       "    <tr>\n",
       "      <th>1</th>\n",
       "      <td>model_v2</td>\n",
       "      <td>Árvore de Decisão</td>\n",
       "      <td>0.772388</td>\n",
       "    </tr>\n",
       "  </tbody>\n",
       "</table>\n",
       "</div>"
      ],
      "text/plain": [
       "       Nome                                     Algoritmo  Acurácia\n",
       "0  model_v1                           Regressão Logística  0.817164\n",
       "4  model_v5  Regressão Logística com Parâmetros Ajustados  0.817164\n",
       "3  model_v4                                 MLPClassifier  0.813433\n",
       "2  model_v3                                 Random Forest  0.809701\n",
       "1  model_v2                             Árvore de Decisão  0.772388"
      ]
     },
     "execution_count": 78,
     "metadata": {},
     "output_type": "execute_result"
    }
   ],
   "source": [
    "df_models"
   ]
  },
  {
   "cell_type": "code",
   "execution_count": 79,
   "id": "330a63de-8a42-4b0d-83e9-edb72cd31705",
   "metadata": {},
   "outputs": [
    {
     "data": {
      "text/html": [
       "<div>\n",
       "<style scoped>\n",
       "    .dataframe tbody tr th:only-of-type {\n",
       "        vertical-align: middle;\n",
       "    }\n",
       "\n",
       "    .dataframe tbody tr th {\n",
       "        vertical-align: top;\n",
       "    }\n",
       "\n",
       "    .dataframe thead th {\n",
       "        text-align: right;\n",
       "    }\n",
       "</style>\n",
       "<table border=\"1\" class=\"dataframe\">\n",
       "  <thead>\n",
       "    <tr style=\"text-align: right;\">\n",
       "      <th></th>\n",
       "      <th>Age</th>\n",
       "      <th>Fare</th>\n",
       "      <th>Parch</th>\n",
       "      <th>Pclass</th>\n",
       "      <th>SibSp</th>\n",
       "      <th>Survived</th>\n",
       "      <th>Alone</th>\n",
       "      <th>FamilySize</th>\n",
       "      <th>Embarked_Q</th>\n",
       "      <th>Embarked_S</th>\n",
       "      <th>Sex_1</th>\n",
       "      <th>Title_Miss</th>\n",
       "      <th>Title_Mr</th>\n",
       "      <th>Title_Mrs</th>\n",
       "      <th>Title_Other</th>\n",
       "      <th>AgeGroup_(16.0, 32.0]</th>\n",
       "      <th>AgeGroup_(32.0, 48.0]</th>\n",
       "      <th>AgeGroup_(48.0, 64.0]</th>\n",
       "      <th>AgeGroup_(64.0, 80.0]</th>\n",
       "    </tr>\n",
       "    <tr>\n",
       "      <th>PassengerId</th>\n",
       "      <th></th>\n",
       "      <th></th>\n",
       "      <th></th>\n",
       "      <th></th>\n",
       "      <th></th>\n",
       "      <th></th>\n",
       "      <th></th>\n",
       "      <th></th>\n",
       "      <th></th>\n",
       "      <th></th>\n",
       "      <th></th>\n",
       "      <th></th>\n",
       "      <th></th>\n",
       "      <th></th>\n",
       "      <th></th>\n",
       "      <th></th>\n",
       "      <th></th>\n",
       "      <th></th>\n",
       "      <th></th>\n",
       "    </tr>\n",
       "  </thead>\n",
       "  <tbody>\n",
       "    <tr>\n",
       "      <th>892</th>\n",
       "      <td>34.500000</td>\n",
       "      <td>7.8292</td>\n",
       "      <td>0</td>\n",
       "      <td>3</td>\n",
       "      <td>0</td>\n",
       "      <td>NaN</td>\n",
       "      <td>1</td>\n",
       "      <td>1</td>\n",
       "      <td>1</td>\n",
       "      <td>0</td>\n",
       "      <td>0</td>\n",
       "      <td>0</td>\n",
       "      <td>1</td>\n",
       "      <td>0</td>\n",
       "      <td>0</td>\n",
       "      <td>0</td>\n",
       "      <td>1</td>\n",
       "      <td>0</td>\n",
       "      <td>0</td>\n",
       "    </tr>\n",
       "    <tr>\n",
       "      <th>893</th>\n",
       "      <td>47.000000</td>\n",
       "      <td>7.0000</td>\n",
       "      <td>0</td>\n",
       "      <td>3</td>\n",
       "      <td>1</td>\n",
       "      <td>NaN</td>\n",
       "      <td>0</td>\n",
       "      <td>2</td>\n",
       "      <td>0</td>\n",
       "      <td>1</td>\n",
       "      <td>1</td>\n",
       "      <td>0</td>\n",
       "      <td>0</td>\n",
       "      <td>1</td>\n",
       "      <td>0</td>\n",
       "      <td>0</td>\n",
       "      <td>1</td>\n",
       "      <td>0</td>\n",
       "      <td>0</td>\n",
       "    </tr>\n",
       "    <tr>\n",
       "      <th>894</th>\n",
       "      <td>62.000000</td>\n",
       "      <td>9.6875</td>\n",
       "      <td>0</td>\n",
       "      <td>2</td>\n",
       "      <td>0</td>\n",
       "      <td>NaN</td>\n",
       "      <td>1</td>\n",
       "      <td>1</td>\n",
       "      <td>1</td>\n",
       "      <td>0</td>\n",
       "      <td>0</td>\n",
       "      <td>0</td>\n",
       "      <td>1</td>\n",
       "      <td>0</td>\n",
       "      <td>0</td>\n",
       "      <td>0</td>\n",
       "      <td>0</td>\n",
       "      <td>1</td>\n",
       "      <td>0</td>\n",
       "    </tr>\n",
       "    <tr>\n",
       "      <th>895</th>\n",
       "      <td>27.000000</td>\n",
       "      <td>8.6625</td>\n",
       "      <td>0</td>\n",
       "      <td>3</td>\n",
       "      <td>0</td>\n",
       "      <td>NaN</td>\n",
       "      <td>1</td>\n",
       "      <td>1</td>\n",
       "      <td>0</td>\n",
       "      <td>1</td>\n",
       "      <td>0</td>\n",
       "      <td>0</td>\n",
       "      <td>1</td>\n",
       "      <td>0</td>\n",
       "      <td>0</td>\n",
       "      <td>1</td>\n",
       "      <td>0</td>\n",
       "      <td>0</td>\n",
       "      <td>0</td>\n",
       "    </tr>\n",
       "    <tr>\n",
       "      <th>896</th>\n",
       "      <td>22.000000</td>\n",
       "      <td>12.2875</td>\n",
       "      <td>1</td>\n",
       "      <td>3</td>\n",
       "      <td>1</td>\n",
       "      <td>NaN</td>\n",
       "      <td>0</td>\n",
       "      <td>3</td>\n",
       "      <td>0</td>\n",
       "      <td>1</td>\n",
       "      <td>1</td>\n",
       "      <td>0</td>\n",
       "      <td>0</td>\n",
       "      <td>1</td>\n",
       "      <td>0</td>\n",
       "      <td>1</td>\n",
       "      <td>0</td>\n",
       "      <td>0</td>\n",
       "      <td>0</td>\n",
       "    </tr>\n",
       "    <tr>\n",
       "      <th>...</th>\n",
       "      <td>...</td>\n",
       "      <td>...</td>\n",
       "      <td>...</td>\n",
       "      <td>...</td>\n",
       "      <td>...</td>\n",
       "      <td>...</td>\n",
       "      <td>...</td>\n",
       "      <td>...</td>\n",
       "      <td>...</td>\n",
       "      <td>...</td>\n",
       "      <td>...</td>\n",
       "      <td>...</td>\n",
       "      <td>...</td>\n",
       "      <td>...</td>\n",
       "      <td>...</td>\n",
       "      <td>...</td>\n",
       "      <td>...</td>\n",
       "      <td>...</td>\n",
       "      <td>...</td>\n",
       "    </tr>\n",
       "    <tr>\n",
       "      <th>1305</th>\n",
       "      <td>32.252151</td>\n",
       "      <td>8.0500</td>\n",
       "      <td>0</td>\n",
       "      <td>3</td>\n",
       "      <td>0</td>\n",
       "      <td>NaN</td>\n",
       "      <td>1</td>\n",
       "      <td>1</td>\n",
       "      <td>0</td>\n",
       "      <td>1</td>\n",
       "      <td>0</td>\n",
       "      <td>0</td>\n",
       "      <td>1</td>\n",
       "      <td>0</td>\n",
       "      <td>0</td>\n",
       "      <td>1</td>\n",
       "      <td>0</td>\n",
       "      <td>0</td>\n",
       "      <td>0</td>\n",
       "    </tr>\n",
       "    <tr>\n",
       "      <th>1306</th>\n",
       "      <td>39.000000</td>\n",
       "      <td>108.9000</td>\n",
       "      <td>0</td>\n",
       "      <td>1</td>\n",
       "      <td>0</td>\n",
       "      <td>NaN</td>\n",
       "      <td>1</td>\n",
       "      <td>1</td>\n",
       "      <td>0</td>\n",
       "      <td>0</td>\n",
       "      <td>1</td>\n",
       "      <td>0</td>\n",
       "      <td>0</td>\n",
       "      <td>0</td>\n",
       "      <td>1</td>\n",
       "      <td>0</td>\n",
       "      <td>1</td>\n",
       "      <td>0</td>\n",
       "      <td>0</td>\n",
       "    </tr>\n",
       "    <tr>\n",
       "      <th>1307</th>\n",
       "      <td>38.500000</td>\n",
       "      <td>7.2500</td>\n",
       "      <td>0</td>\n",
       "      <td>3</td>\n",
       "      <td>0</td>\n",
       "      <td>NaN</td>\n",
       "      <td>1</td>\n",
       "      <td>1</td>\n",
       "      <td>0</td>\n",
       "      <td>1</td>\n",
       "      <td>0</td>\n",
       "      <td>0</td>\n",
       "      <td>1</td>\n",
       "      <td>0</td>\n",
       "      <td>0</td>\n",
       "      <td>0</td>\n",
       "      <td>1</td>\n",
       "      <td>0</td>\n",
       "      <td>0</td>\n",
       "    </tr>\n",
       "    <tr>\n",
       "      <th>1308</th>\n",
       "      <td>32.252151</td>\n",
       "      <td>8.0500</td>\n",
       "      <td>0</td>\n",
       "      <td>3</td>\n",
       "      <td>0</td>\n",
       "      <td>NaN</td>\n",
       "      <td>1</td>\n",
       "      <td>1</td>\n",
       "      <td>0</td>\n",
       "      <td>1</td>\n",
       "      <td>0</td>\n",
       "      <td>0</td>\n",
       "      <td>1</td>\n",
       "      <td>0</td>\n",
       "      <td>0</td>\n",
       "      <td>1</td>\n",
       "      <td>0</td>\n",
       "      <td>0</td>\n",
       "      <td>0</td>\n",
       "    </tr>\n",
       "    <tr>\n",
       "      <th>1309</th>\n",
       "      <td>5.482642</td>\n",
       "      <td>22.3583</td>\n",
       "      <td>1</td>\n",
       "      <td>3</td>\n",
       "      <td>1</td>\n",
       "      <td>NaN</td>\n",
       "      <td>0</td>\n",
       "      <td>3</td>\n",
       "      <td>0</td>\n",
       "      <td>0</td>\n",
       "      <td>0</td>\n",
       "      <td>0</td>\n",
       "      <td>0</td>\n",
       "      <td>0</td>\n",
       "      <td>0</td>\n",
       "      <td>0</td>\n",
       "      <td>0</td>\n",
       "      <td>0</td>\n",
       "      <td>0</td>\n",
       "    </tr>\n",
       "  </tbody>\n",
       "</table>\n",
       "<p>418 rows × 19 columns</p>\n",
       "</div>"
      ],
      "text/plain": [
       "                   Age      Fare  Parch  Pclass  SibSp  Survived  Alone  \\\n",
       "PassengerId                                                               \n",
       "892          34.500000    7.8292      0       3      0       NaN      1   \n",
       "893          47.000000    7.0000      0       3      1       NaN      0   \n",
       "894          62.000000    9.6875      0       2      0       NaN      1   \n",
       "895          27.000000    8.6625      0       3      0       NaN      1   \n",
       "896          22.000000   12.2875      1       3      1       NaN      0   \n",
       "...                ...       ...    ...     ...    ...       ...    ...   \n",
       "1305         32.252151    8.0500      0       3      0       NaN      1   \n",
       "1306         39.000000  108.9000      0       1      0       NaN      1   \n",
       "1307         38.500000    7.2500      0       3      0       NaN      1   \n",
       "1308         32.252151    8.0500      0       3      0       NaN      1   \n",
       "1309          5.482642   22.3583      1       3      1       NaN      0   \n",
       "\n",
       "             FamilySize  Embarked_Q  Embarked_S  Sex_1  Title_Miss  Title_Mr  \\\n",
       "PassengerId                                                                    \n",
       "892                   1           1           0      0           0         1   \n",
       "893                   2           0           1      1           0         0   \n",
       "894                   1           1           0      0           0         1   \n",
       "895                   1           0           1      0           0         1   \n",
       "896                   3           0           1      1           0         0   \n",
       "...                 ...         ...         ...    ...         ...       ...   \n",
       "1305                  1           0           1      0           0         1   \n",
       "1306                  1           0           0      1           0         0   \n",
       "1307                  1           0           1      0           0         1   \n",
       "1308                  1           0           1      0           0         1   \n",
       "1309                  3           0           0      0           0         0   \n",
       "\n",
       "             Title_Mrs  Title_Other  AgeGroup_(16.0, 32.0]  \\\n",
       "PassengerId                                                  \n",
       "892                  0            0                      0   \n",
       "893                  1            0                      0   \n",
       "894                  0            0                      0   \n",
       "895                  0            0                      1   \n",
       "896                  1            0                      1   \n",
       "...                ...          ...                    ...   \n",
       "1305                 0            0                      1   \n",
       "1306                 0            1                      0   \n",
       "1307                 0            0                      0   \n",
       "1308                 0            0                      1   \n",
       "1309                 0            0                      0   \n",
       "\n",
       "             AgeGroup_(32.0, 48.0]  AgeGroup_(48.0, 64.0]  \\\n",
       "PassengerId                                                 \n",
       "892                              1                      0   \n",
       "893                              1                      0   \n",
       "894                              0                      1   \n",
       "895                              0                      0   \n",
       "896                              0                      0   \n",
       "...                            ...                    ...   \n",
       "1305                             0                      0   \n",
       "1306                             1                      0   \n",
       "1307                             1                      0   \n",
       "1308                             0                      0   \n",
       "1309                             0                      0   \n",
       "\n",
       "             AgeGroup_(64.0, 80.0]  \n",
       "PassengerId                         \n",
       "892                              0  \n",
       "893                              0  \n",
       "894                              0  \n",
       "895                              0  \n",
       "896                              0  \n",
       "...                            ...  \n",
       "1305                             0  \n",
       "1306                             0  \n",
       "1307                             0  \n",
       "1308                             0  \n",
       "1309                             0  \n",
       "\n",
       "[418 rows x 19 columns]"
      ]
     },
     "execution_count": 79,
     "metadata": {},
     "output_type": "execute_result"
    }
   ],
   "source": [
    "df_test"
   ]
  },
  {
   "cell_type": "code",
   "execution_count": 80,
   "id": "081fe7fd-636e-417b-8dc8-e584cffdf4f3",
   "metadata": {},
   "outputs": [],
   "source": [
    "df_test.drop('Survived', axis=1, inplace=True)"
   ]
  },
  {
   "cell_type": "code",
   "execution_count": 81,
   "id": "01ba7ab9-6161-459f-a426-4e1ec6d6e414",
   "metadata": {},
   "outputs": [
    {
     "data": {
      "text/plain": [
       "((418, 18), (268, 18))"
      ]
     },
     "execution_count": 81,
     "metadata": {},
     "output_type": "execute_result"
    }
   ],
   "source": [
    "df_test.shape, X_test.shape"
   ]
  },
  {
   "cell_type": "code",
   "execution_count": 91,
   "id": "12ac9c46-8f70-490c-8758-08a5a3ea0970",
   "metadata": {},
   "outputs": [],
   "source": [
    "subm = model_v1.predict(df_test)"
   ]
  },
  {
   "cell_type": "code",
   "execution_count": 92,
   "id": "e89a18f8-7627-461a-84fd-d86b419bfeab",
   "metadata": {},
   "outputs": [
    {
     "data": {
      "text/plain": [
       "(418,)"
      ]
     },
     "execution_count": 92,
     "metadata": {},
     "output_type": "execute_result"
    }
   ],
   "source": [
    "subm.shape"
   ]
  },
  {
   "cell_type": "code",
   "execution_count": 93,
   "id": "6b18454b-3d3e-42a4-835b-b219f1812f09",
   "metadata": {},
   "outputs": [
    {
     "data": {
      "text/plain": [
       "array([0., 0., 0., 0., 0., 0., 0., 0., 0., 0., 0., 0., 1., 0., 1., 0., 0.,\n",
       "       0., 0., 0., 0., 0., 0., 1., 1., 0., 1., 0., 0., 0., 0., 0., 0., 0.,\n",
       "       1., 0., 0., 0., 0., 1., 0., 0., 0., 0., 0., 0., 0., 0., 1., 0., 1.,\n",
       "       0., 0., 1., 0., 0., 0., 0., 0., 1., 0., 0., 0., 0., 1., 0., 0., 0.,\n",
       "       0., 1., 0., 0., 0., 0., 1., 1., 0., 0., 0., 0., 0., 1., 0., 0., 0.,\n",
       "       0., 0., 0., 0., 1., 0., 0., 1., 0., 0., 0., 0., 0., 0., 0., 1., 0.,\n",
       "       0., 0., 0., 0., 0., 0., 0., 0., 0., 0., 0., 0., 1., 0., 0., 0., 1.,\n",
       "       0., 0., 0., 1., 0., 0., 0., 0., 0., 0., 0., 0., 0., 0., 0., 0., 0.,\n",
       "       0., 0., 0., 0., 0., 1., 1., 0., 0., 0., 1., 0., 0., 0., 1., 0., 0.,\n",
       "       0., 0., 0., 1., 0., 0., 0., 0., 0., 0., 0., 0., 0., 0., 0., 0., 0.,\n",
       "       0., 0., 0., 0., 0., 1., 1., 0., 0., 1., 0., 1., 1., 0., 1., 0., 0.,\n",
       "       0., 0., 0., 0., 0., 0., 0., 1., 0., 1., 0., 0., 0., 0., 0., 1., 1.,\n",
       "       0., 0., 0., 0., 0., 0., 0., 0., 1., 0., 0., 0., 0., 1., 1., 0., 0.,\n",
       "       0., 0., 0., 0., 0., 0., 0., 0., 0., 1., 0., 0., 0., 1., 0., 0., 0.,\n",
       "       0., 1., 0., 0., 1., 0., 0., 0., 0., 0., 0., 0., 1., 0., 1., 0., 0.,\n",
       "       0., 0., 0., 0., 0., 0., 0., 0., 0., 0., 0., 0., 0., 0., 0., 1., 0.,\n",
       "       1., 0., 0., 0., 0., 0., 0., 0., 0., 0., 0., 0., 0., 0., 0., 1., 0.,\n",
       "       0., 0., 0., 0., 1., 0., 0., 1., 0., 0., 0., 0., 0., 0., 0., 0., 0.,\n",
       "       1., 0., 1., 0., 0., 0., 0., 0., 1., 0., 1., 0., 0., 0., 0., 0., 0.,\n",
       "       0., 1., 0., 1., 1., 0., 0., 0., 0., 0., 0., 0., 0., 0., 0., 0., 0.,\n",
       "       0., 0., 0., 1., 0., 0., 0., 0., 0., 0., 1., 0., 1., 0., 0., 0., 0.,\n",
       "       0., 0., 0., 1., 0., 0., 0., 1., 0., 0., 1., 1., 0., 0., 1., 0., 0.,\n",
       "       1., 1., 0., 0., 0., 0., 0., 0., 0., 0., 0., 1., 0., 0., 0., 0., 1.,\n",
       "       0., 0., 0., 0., 1., 0., 1., 0., 0., 1., 0., 1., 1., 0., 0., 0., 1.,\n",
       "       0., 0., 0., 1., 0., 0., 1., 0., 0., 0.])"
      ]
     },
     "execution_count": 93,
     "metadata": {},
     "output_type": "execute_result"
    }
   ],
   "source": [
    "subm"
   ]
  },
  {
   "cell_type": "code",
   "execution_count": 94,
   "id": "a8f2a893-26c3-4f74-91cb-a56d2fb33436",
   "metadata": {},
   "outputs": [
    {
     "data": {
      "text/plain": [
       "Int64Index([ 892,  893,  894,  895,  896,  897,  898,  899,  900,  901,\n",
       "            ...\n",
       "            1300, 1301, 1302, 1303, 1304, 1305, 1306, 1307, 1308, 1309],\n",
       "           dtype='int64', name='PassengerId', length=418)"
      ]
     },
     "execution_count": 94,
     "metadata": {},
     "output_type": "execute_result"
    }
   ],
   "source": [
    "df_test.index"
   ]
  },
  {
   "cell_type": "code",
   "execution_count": 95,
   "id": "6040ff29-5fbd-4947-bf8e-a8e575e715ad",
   "metadata": {},
   "outputs": [],
   "source": [
    "submission = pd.DataFrame({\n",
    "    'PassengerId': df_test.index,\n",
    "    'Survived': subm })"
   ]
  },
  {
   "cell_type": "code",
   "execution_count": 96,
   "id": "8a4679a8-4917-48b1-9b22-a746030fdb87",
   "metadata": {},
   "outputs": [
    {
     "data": {
      "text/plain": [
       "(418, 2)"
      ]
     },
     "execution_count": 96,
     "metadata": {},
     "output_type": "execute_result"
    }
   ],
   "source": [
    "submission.shape"
   ]
  },
  {
   "cell_type": "code",
   "execution_count": 97,
   "id": "8071f8f2-1627-4bdf-8955-be63b5e67e54",
   "metadata": {},
   "outputs": [],
   "source": [
    "submission['Survived'] = submission['Survived'].astype('int')"
   ]
  },
  {
   "cell_type": "code",
   "execution_count": 98,
   "id": "59f147d1-3db8-4c9d-ab0e-830f8a735989",
   "metadata": {},
   "outputs": [],
   "source": [
    "submission.to_csv('subm.csv', index=False)"
   ]
  },
  {
   "cell_type": "code",
   "execution_count": 90,
   "id": "2dcaef3c-ac76-4960-9b2f-6e460d61a1ab",
   "metadata": {},
   "outputs": [
    {
     "data": {
      "text/html": [
       "<div>\n",
       "<style scoped>\n",
       "    .dataframe tbody tr th:only-of-type {\n",
       "        vertical-align: middle;\n",
       "    }\n",
       "\n",
       "    .dataframe tbody tr th {\n",
       "        vertical-align: top;\n",
       "    }\n",
       "\n",
       "    .dataframe thead th {\n",
       "        text-align: right;\n",
       "    }\n",
       "</style>\n",
       "<table border=\"1\" class=\"dataframe\">\n",
       "  <thead>\n",
       "    <tr style=\"text-align: right;\">\n",
       "      <th></th>\n",
       "      <th>PassengerId</th>\n",
       "      <th>Survived</th>\n",
       "    </tr>\n",
       "  </thead>\n",
       "  <tbody>\n",
       "    <tr>\n",
       "      <th>0</th>\n",
       "      <td>892</td>\n",
       "      <td>0</td>\n",
       "    </tr>\n",
       "    <tr>\n",
       "      <th>1</th>\n",
       "      <td>893</td>\n",
       "      <td>0</td>\n",
       "    </tr>\n",
       "    <tr>\n",
       "      <th>2</th>\n",
       "      <td>894</td>\n",
       "      <td>0</td>\n",
       "    </tr>\n",
       "    <tr>\n",
       "      <th>3</th>\n",
       "      <td>895</td>\n",
       "      <td>0</td>\n",
       "    </tr>\n",
       "    <tr>\n",
       "      <th>4</th>\n",
       "      <td>896</td>\n",
       "      <td>0</td>\n",
       "    </tr>\n",
       "    <tr>\n",
       "      <th>...</th>\n",
       "      <td>...</td>\n",
       "      <td>...</td>\n",
       "    </tr>\n",
       "    <tr>\n",
       "      <th>413</th>\n",
       "      <td>1305</td>\n",
       "      <td>0</td>\n",
       "    </tr>\n",
       "    <tr>\n",
       "      <th>414</th>\n",
       "      <td>1306</td>\n",
       "      <td>0</td>\n",
       "    </tr>\n",
       "    <tr>\n",
       "      <th>415</th>\n",
       "      <td>1307</td>\n",
       "      <td>0</td>\n",
       "    </tr>\n",
       "    <tr>\n",
       "      <th>416</th>\n",
       "      <td>1308</td>\n",
       "      <td>0</td>\n",
       "    </tr>\n",
       "    <tr>\n",
       "      <th>417</th>\n",
       "      <td>1309</td>\n",
       "      <td>0</td>\n",
       "    </tr>\n",
       "  </tbody>\n",
       "</table>\n",
       "<p>418 rows × 2 columns</p>\n",
       "</div>"
      ],
      "text/plain": [
       "     PassengerId  Survived\n",
       "0            892         0\n",
       "1            893         0\n",
       "2            894         0\n",
       "3            895         0\n",
       "4            896         0\n",
       "..           ...       ...\n",
       "413         1305         0\n",
       "414         1306         0\n",
       "415         1307         0\n",
       "416         1308         0\n",
       "417         1309         0\n",
       "\n",
       "[418 rows x 2 columns]"
      ]
     },
     "execution_count": 90,
     "metadata": {},
     "output_type": "execute_result"
    }
   ],
   "source": [
    "submission"
   ]
  },
  {
   "cell_type": "code",
   "execution_count": null,
   "id": "756ee06d-f73a-4f9f-9950-57ea90359e9b",
   "metadata": {},
   "outputs": [],
   "source": []
  }
 ],
 "metadata": {
  "kernelspec": {
   "display_name": "Python 3 (ipykernel)",
   "language": "python",
   "name": "python3"
  },
  "language_info": {
   "codemirror_mode": {
    "name": "ipython",
    "version": 3
   },
   "file_extension": ".py",
   "mimetype": "text/x-python",
   "name": "python",
   "nbconvert_exporter": "python",
   "pygments_lexer": "ipython3",
   "version": "3.10.9"
  }
 },
 "nbformat": 4,
 "nbformat_minor": 5
}
